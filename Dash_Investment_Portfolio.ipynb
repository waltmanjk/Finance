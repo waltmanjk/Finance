{
 "cells": [
  {
   "cell_type": "markdown",
   "metadata": {},
   "source": [
    "# Set environment settings :: Library dependencies"
   ]
  },
  {
   "cell_type": "code",
   "execution_count": 41,
   "metadata": {},
   "outputs": [],
   "source": [
    "import dash\n",
    "import dash_core_components as dcc\n",
    "import dash_html_components as html\n",
    "from dash.dependencies import Input, Output\n",
    "\n",
    "import plotly as py\n",
    "import plotly.graph_objs as go\n",
    "import plotly.offline as pyo\n",
    "import plotly.express as px\n",
    "\n",
    "import pandas as pd\n",
    "from pandas_datareader import data as web\n",
    "import numpy as np\n",
    "from datetime import datetime\n",
    "import datetime\n",
    "\n",
    "# To grab stock data\n",
    "import yfinance as fyf\n",
    "from pandas_datareader import data as pdr\n",
    "fyf.pdr_override() # <-- Here is the fix"
   ]
  },
  {
   "cell_type": "markdown",
   "metadata": {},
   "source": [
    "# Load in datasets into Data Frame"
   ]
  },
  {
   "cell_type": "code",
   "execution_count": 42,
   "metadata": {},
   "outputs": [],
   "source": [
    "unit = pd.read_csv('dummy_cost_unit.csv')\n",
    "unit.set_index('date', inplace=True)\n",
    "\n",
    "div_table = unit[unit.type.str.contains('Dividend')] ## Dividend records only"
   ]
  },
  {
   "cell_type": "markdown",
   "metadata": {},
   "source": [
    "Let's create separate tables for each individual fund"
   ]
  },
  {
   "cell_type": "code",
   "execution_count": 43,
   "metadata": {},
   "outputs": [],
   "source": [
    "puritan = unit[unit.symbol.str.contains('FPURX')] ## Each symbol, both purchases and dividends\n",
    "well = unit[unit.symbol.str.contains('VWELX')]\n",
    "spy = unit[unit.symbol.str.contains('SPY')]\n",
    "agg = unit[unit.symbol.str.contains('AGG')]"
   ]
  },
  {
   "cell_type": "markdown",
   "metadata": {},
   "source": [
    "Let's create separate tables for each individual fund, dividends only."
   ]
  },
  {
   "cell_type": "code",
   "execution_count": 44,
   "metadata": {},
   "outputs": [],
   "source": [
    "puritan_d = puritan[puritan.type.str.contains('Dividend')]  ## Each symbol, dividends only\n",
    "spy_d = spy[spy.type.str.contains('Dividend')]\n",
    "well_d = well[well.type.str.contains('Dividend')]\n",
    "agg_d = agg[agg.type.str.contains('Dividend')]"
   ]
  },
  {
   "cell_type": "markdown",
   "metadata": {},
   "source": [
    "The following code pulls the newest data from the Yahoo Finance API"
   ]
  },
  {
   "cell_type": "code",
   "execution_count": 45,
   "metadata": {},
   "outputs": [
    {
     "name": "stdout",
     "output_type": "stream",
     "text": [
      "[*********************100%***********************]  5 of 5 completed\n"
     ]
    }
   ],
   "source": [
    "sample = [\"AGG\",\"VWELX\",\"FPURX\",\"ONEQ\",\"SPY\"]\n",
    "\n",
    "# Set start and end dates\n",
    "start = datetime.datetime(2015, 1, 1)\n",
    "end   = datetime.datetime(2020, 4, 21)\n",
    "\n",
    "df1 = pdr.get_data_yahoo(sample, start = start, end = end)"
   ]
  },
  {
   "cell_type": "markdown",
   "metadata": {},
   "source": [
    "We'll narrow down just the daily Close of each fund"
   ]
  },
  {
   "cell_type": "code",
   "execution_count": 46,
   "metadata": {},
   "outputs": [],
   "source": [
    "df2 = df1['Close']"
   ]
  },
  {
   "cell_type": "code",
   "execution_count": 47,
   "metadata": {},
   "outputs": [
    {
     "data": {
      "text/html": [
       "<div>\n",
       "<style scoped>\n",
       "    .dataframe tbody tr th:only-of-type {\n",
       "        vertical-align: middle;\n",
       "    }\n",
       "\n",
       "    .dataframe tbody tr th {\n",
       "        vertical-align: top;\n",
       "    }\n",
       "\n",
       "    .dataframe thead th {\n",
       "        text-align: right;\n",
       "    }\n",
       "</style>\n",
       "<table border=\"1\" class=\"dataframe\">\n",
       "  <thead>\n",
       "    <tr style=\"text-align: right;\">\n",
       "      <th></th>\n",
       "      <th>AGG</th>\n",
       "      <th>FPURX</th>\n",
       "      <th>ONEQ</th>\n",
       "      <th>SPY</th>\n",
       "      <th>VWELX</th>\n",
       "    </tr>\n",
       "    <tr>\n",
       "      <th>Date</th>\n",
       "      <th></th>\n",
       "      <th></th>\n",
       "      <th></th>\n",
       "      <th></th>\n",
       "      <th></th>\n",
       "    </tr>\n",
       "  </thead>\n",
       "  <tbody>\n",
       "    <tr>\n",
       "      <th>2015-01-02</th>\n",
       "      <td>110.430000</td>\n",
       "      <td>21.490000</td>\n",
       "      <td>184.899994</td>\n",
       "      <td>205.429993</td>\n",
       "      <td>39.160000</td>\n",
       "    </tr>\n",
       "    <tr>\n",
       "      <th>2015-01-05</th>\n",
       "      <td>110.669998</td>\n",
       "      <td>21.230000</td>\n",
       "      <td>183.130005</td>\n",
       "      <td>201.720001</td>\n",
       "      <td>38.730000</td>\n",
       "    </tr>\n",
       "    <tr>\n",
       "      <th>2015-01-06</th>\n",
       "      <td>110.949997</td>\n",
       "      <td>21.080000</td>\n",
       "      <td>179.899994</td>\n",
       "      <td>199.820007</td>\n",
       "      <td>38.599998</td>\n",
       "    </tr>\n",
       "    <tr>\n",
       "      <th>2015-01-07</th>\n",
       "      <td>110.930000</td>\n",
       "      <td>21.280001</td>\n",
       "      <td>182.160004</td>\n",
       "      <td>202.309998</td>\n",
       "      <td>38.840000</td>\n",
       "    </tr>\n",
       "    <tr>\n",
       "      <th>2015-01-08</th>\n",
       "      <td>110.760002</td>\n",
       "      <td>21.530001</td>\n",
       "      <td>185.880005</td>\n",
       "      <td>205.899994</td>\n",
       "      <td>39.259998</td>\n",
       "    </tr>\n",
       "    <tr>\n",
       "      <th>...</th>\n",
       "      <td>...</td>\n",
       "      <td>...</td>\n",
       "      <td>...</td>\n",
       "      <td>...</td>\n",
       "      <td>...</td>\n",
       "    </tr>\n",
       "    <tr>\n",
       "      <th>2020-04-14</th>\n",
       "      <td>116.760002</td>\n",
       "      <td>21.490000</td>\n",
       "      <td>330.679993</td>\n",
       "      <td>283.790009</td>\n",
       "      <td>39.490002</td>\n",
       "    </tr>\n",
       "    <tr>\n",
       "      <th>2020-04-15</th>\n",
       "      <td>117.239998</td>\n",
       "      <td>21.290001</td>\n",
       "      <td>326.890015</td>\n",
       "      <td>277.760010</td>\n",
       "      <td>38.930000</td>\n",
       "    </tr>\n",
       "    <tr>\n",
       "      <th>2020-04-16</th>\n",
       "      <td>117.389999</td>\n",
       "      <td>21.490000</td>\n",
       "      <td>332.970001</td>\n",
       "      <td>279.100006</td>\n",
       "      <td>39.099998</td>\n",
       "    </tr>\n",
       "    <tr>\n",
       "      <th>2020-04-17</th>\n",
       "      <td>117.250000</td>\n",
       "      <td>21.750000</td>\n",
       "      <td>336.000000</td>\n",
       "      <td>286.640015</td>\n",
       "      <td>39.860001</td>\n",
       "    </tr>\n",
       "    <tr>\n",
       "      <th>2020-04-20</th>\n",
       "      <td>117.080002</td>\n",
       "      <td>21.549999</td>\n",
       "      <td>333.000000</td>\n",
       "      <td>281.589996</td>\n",
       "      <td>39.430000</td>\n",
       "    </tr>\n",
       "  </tbody>\n",
       "</table>\n",
       "<p>1333 rows × 5 columns</p>\n",
       "</div>"
      ],
      "text/plain": [
       "                   AGG      FPURX        ONEQ         SPY      VWELX\n",
       "Date                                                                \n",
       "2015-01-02  110.430000  21.490000  184.899994  205.429993  39.160000\n",
       "2015-01-05  110.669998  21.230000  183.130005  201.720001  38.730000\n",
       "2015-01-06  110.949997  21.080000  179.899994  199.820007  38.599998\n",
       "2015-01-07  110.930000  21.280001  182.160004  202.309998  38.840000\n",
       "2015-01-08  110.760002  21.530001  185.880005  205.899994  39.259998\n",
       "...                ...        ...         ...         ...        ...\n",
       "2020-04-14  116.760002  21.490000  330.679993  283.790009  39.490002\n",
       "2020-04-15  117.239998  21.290001  326.890015  277.760010  38.930000\n",
       "2020-04-16  117.389999  21.490000  332.970001  279.100006  39.099998\n",
       "2020-04-17  117.250000  21.750000  336.000000  286.640015  39.860001\n",
       "2020-04-20  117.080002  21.549999  333.000000  281.589996  39.430000\n",
       "\n",
       "[1333 rows x 5 columns]"
      ]
     },
     "execution_count": 47,
     "metadata": {},
     "output_type": "execute_result"
    }
   ],
   "source": [
    "df2"
   ]
  },
  {
   "cell_type": "markdown",
   "metadata": {},
   "source": [
    "# Prepare queries within Pandas"
   ]
  },
  {
   "cell_type": "code",
   "execution_count": 48,
   "metadata": {},
   "outputs": [
    {
     "data": {
      "text/html": [
       "<div>\n",
       "<style scoped>\n",
       "    .dataframe tbody tr th:only-of-type {\n",
       "        vertical-align: middle;\n",
       "    }\n",
       "\n",
       "    .dataframe tbody tr th {\n",
       "        vertical-align: top;\n",
       "    }\n",
       "\n",
       "    .dataframe thead th {\n",
       "        text-align: right;\n",
       "    }\n",
       "</style>\n",
       "<table border=\"1\" class=\"dataframe\">\n",
       "  <thead>\n",
       "    <tr style=\"text-align: right;\">\n",
       "      <th></th>\n",
       "      <th>quarter</th>\n",
       "      <th>account</th>\n",
       "      <th>symbol</th>\n",
       "      <th>type</th>\n",
       "      <th>num_shares</th>\n",
       "      <th>share_price</th>\n",
       "      <th>principal</th>\n",
       "      <th>sym_total</th>\n",
       "      <th>run_share2</th>\n",
       "      <th>dividend</th>\n",
       "    </tr>\n",
       "    <tr>\n",
       "      <th>date</th>\n",
       "      <th></th>\n",
       "      <th></th>\n",
       "      <th></th>\n",
       "      <th></th>\n",
       "      <th></th>\n",
       "      <th></th>\n",
       "      <th></th>\n",
       "      <th></th>\n",
       "      <th></th>\n",
       "      <th></th>\n",
       "    </tr>\n",
       "  </thead>\n",
       "  <tbody>\n",
       "    <tr>\n",
       "      <th>2015-01-28</th>\n",
       "      <td>2015 Q1</td>\n",
       "      <td>Taxable</td>\n",
       "      <td>AGG</td>\n",
       "      <td>Stock Purchase</td>\n",
       "      <td>0.24</td>\n",
       "      <td>112.07</td>\n",
       "      <td>26.70</td>\n",
       "      <td>26.70</td>\n",
       "      <td>0.24</td>\n",
       "      <td>NaN</td>\n",
       "    </tr>\n",
       "    <tr>\n",
       "      <th>2015-02-02</th>\n",
       "      <td>2015 Q1</td>\n",
       "      <td>Taxable</td>\n",
       "      <td>AGG</td>\n",
       "      <td>Dividend</td>\n",
       "      <td>0.00</td>\n",
       "      <td>112.20</td>\n",
       "      <td>0.04</td>\n",
       "      <td>26.74</td>\n",
       "      <td>0.24</td>\n",
       "      <td>0.18</td>\n",
       "    </tr>\n",
       "    <tr>\n",
       "      <th>2015-02-11</th>\n",
       "      <td>2015 Q1</td>\n",
       "      <td>Taxable</td>\n",
       "      <td>AGG</td>\n",
       "      <td>Stock Purchase</td>\n",
       "      <td>0.60</td>\n",
       "      <td>110.87</td>\n",
       "      <td>66.75</td>\n",
       "      <td>93.49</td>\n",
       "      <td>0.84</td>\n",
       "      <td>NaN</td>\n",
       "    </tr>\n",
       "    <tr>\n",
       "      <th>2015-02-25</th>\n",
       "      <td>2015 Q1</td>\n",
       "      <td>Taxable</td>\n",
       "      <td>AGG</td>\n",
       "      <td>Stock Purchase</td>\n",
       "      <td>0.60</td>\n",
       "      <td>111.32</td>\n",
       "      <td>66.75</td>\n",
       "      <td>160.24</td>\n",
       "      <td>1.44</td>\n",
       "      <td>NaN</td>\n",
       "    </tr>\n",
       "    <tr>\n",
       "      <th>2015-03-02</th>\n",
       "      <td>2015 Q1</td>\n",
       "      <td>Taxable</td>\n",
       "      <td>AGG</td>\n",
       "      <td>Dividend</td>\n",
       "      <td>0.00</td>\n",
       "      <td>110.45</td>\n",
       "      <td>0.27</td>\n",
       "      <td>160.51</td>\n",
       "      <td>1.44</td>\n",
       "      <td>0.19</td>\n",
       "    </tr>\n",
       "    <tr>\n",
       "      <th>...</th>\n",
       "      <td>...</td>\n",
       "      <td>...</td>\n",
       "      <td>...</td>\n",
       "      <td>...</td>\n",
       "      <td>...</td>\n",
       "      <td>...</td>\n",
       "      <td>...</td>\n",
       "      <td>...</td>\n",
       "      <td>...</td>\n",
       "      <td>...</td>\n",
       "    </tr>\n",
       "    <tr>\n",
       "      <th>2020-03-10</th>\n",
       "      <td>2020 Q1</td>\n",
       "      <td>Taxable</td>\n",
       "      <td>VWELX</td>\n",
       "      <td>Stock Purchase</td>\n",
       "      <td>5.28</td>\n",
       "      <td>40.49</td>\n",
       "      <td>213.60</td>\n",
       "      <td>11848.70</td>\n",
       "      <td>290.08</td>\n",
       "      <td>NaN</td>\n",
       "    </tr>\n",
       "    <tr>\n",
       "      <th>2020-03-11</th>\n",
       "      <td>2020 Q1</td>\n",
       "      <td>Taxable</td>\n",
       "      <td>VWELX</td>\n",
       "      <td>Stock Purchase</td>\n",
       "      <td>3.84</td>\n",
       "      <td>39.10</td>\n",
       "      <td>150.00</td>\n",
       "      <td>11998.70</td>\n",
       "      <td>293.91</td>\n",
       "      <td>NaN</td>\n",
       "    </tr>\n",
       "    <tr>\n",
       "      <th>2020-03-20</th>\n",
       "      <td>2020 Q1</td>\n",
       "      <td>Taxable</td>\n",
       "      <td>VWELX</td>\n",
       "      <td>Dividend</td>\n",
       "      <td>2.37</td>\n",
       "      <td>33.62</td>\n",
       "      <td>79.60</td>\n",
       "      <td>12078.30</td>\n",
       "      <td>295.90</td>\n",
       "      <td>0.27</td>\n",
       "    </tr>\n",
       "    <tr>\n",
       "      <th>2020-03-25</th>\n",
       "      <td>2020 Q1</td>\n",
       "      <td>Taxable</td>\n",
       "      <td>VWELX</td>\n",
       "      <td>Stock Purchase</td>\n",
       "      <td>1.41</td>\n",
       "      <td>35.55</td>\n",
       "      <td>50.00</td>\n",
       "      <td>12128.30</td>\n",
       "      <td>297.30</td>\n",
       "      <td>NaN</td>\n",
       "    </tr>\n",
       "    <tr>\n",
       "      <th>2020-04-08</th>\n",
       "      <td>2020 Q2</td>\n",
       "      <td>Taxable</td>\n",
       "      <td>VWELX</td>\n",
       "      <td>Stock Purchase</td>\n",
       "      <td>1.30</td>\n",
       "      <td>38.50</td>\n",
       "      <td>50.00</td>\n",
       "      <td>12178.30</td>\n",
       "      <td>298.60</td>\n",
       "      <td>NaN</td>\n",
       "    </tr>\n",
       "  </tbody>\n",
       "</table>\n",
       "<p>643 rows × 10 columns</p>\n",
       "</div>"
      ],
      "text/plain": [
       "            quarter  account symbol            type  num_shares  share_price  \\\n",
       "date                                                                           \n",
       "2015-01-28  2015 Q1  Taxable    AGG  Stock Purchase        0.24       112.07   \n",
       "2015-02-02  2015 Q1  Taxable    AGG        Dividend        0.00       112.20   \n",
       "2015-02-11  2015 Q1  Taxable    AGG  Stock Purchase        0.60       110.87   \n",
       "2015-02-25  2015 Q1  Taxable    AGG  Stock Purchase        0.60       111.32   \n",
       "2015-03-02  2015 Q1  Taxable    AGG        Dividend        0.00       110.45   \n",
       "...             ...      ...    ...             ...         ...          ...   \n",
       "2020-03-10  2020 Q1  Taxable  VWELX  Stock Purchase        5.28        40.49   \n",
       "2020-03-11  2020 Q1  Taxable  VWELX  Stock Purchase        3.84        39.10   \n",
       "2020-03-20  2020 Q1  Taxable  VWELX        Dividend        2.37        33.62   \n",
       "2020-03-25  2020 Q1  Taxable  VWELX  Stock Purchase        1.41        35.55   \n",
       "2020-04-08  2020 Q2  Taxable  VWELX  Stock Purchase        1.30        38.50   \n",
       "\n",
       "            principal  sym_total  run_share2  dividend  \n",
       "date                                                    \n",
       "2015-01-28      26.70      26.70        0.24       NaN  \n",
       "2015-02-02       0.04      26.74        0.24      0.18  \n",
       "2015-02-11      66.75      93.49        0.84       NaN  \n",
       "2015-02-25      66.75     160.24        1.44       NaN  \n",
       "2015-03-02       0.27     160.51        1.44      0.19  \n",
       "...               ...        ...         ...       ...  \n",
       "2020-03-10     213.60   11848.70      290.08       NaN  \n",
       "2020-03-11     150.00   11998.70      293.91       NaN  \n",
       "2020-03-20      79.60   12078.30      295.90      0.27  \n",
       "2020-03-25      50.00   12128.30      297.30       NaN  \n",
       "2020-04-08      50.00   12178.30      298.60       NaN  \n",
       "\n",
       "[643 rows x 10 columns]"
      ]
     },
     "execution_count": 48,
     "metadata": {},
     "output_type": "execute_result"
    }
   ],
   "source": [
    "unit"
   ]
  },
  {
   "cell_type": "markdown",
   "metadata": {},
   "source": [
    "Let's summarize each symbol's cost basis"
   ]
  },
  {
   "cell_type": "code",
   "execution_count": 49,
   "metadata": {},
   "outputs": [],
   "source": [
    "df4 = unit.groupby(['symbol'], as_index=False)['share_price'].mean()"
   ]
  },
  {
   "cell_type": "code",
   "execution_count": 50,
   "metadata": {},
   "outputs": [
    {
     "data": {
      "text/html": [
       "<div>\n",
       "<style scoped>\n",
       "    .dataframe tbody tr th:only-of-type {\n",
       "        vertical-align: middle;\n",
       "    }\n",
       "\n",
       "    .dataframe tbody tr th {\n",
       "        vertical-align: top;\n",
       "    }\n",
       "\n",
       "    .dataframe thead th {\n",
       "        text-align: right;\n",
       "    }\n",
       "</style>\n",
       "<table border=\"1\" class=\"dataframe\">\n",
       "  <thead>\n",
       "    <tr style=\"text-align: right;\">\n",
       "      <th></th>\n",
       "      <th>symbol</th>\n",
       "      <th>share_price</th>\n",
       "    </tr>\n",
       "  </thead>\n",
       "  <tbody>\n",
       "    <tr>\n",
       "      <th>0</th>\n",
       "      <td>AGG</td>\n",
       "      <td>109.590885</td>\n",
       "    </tr>\n",
       "    <tr>\n",
       "      <th>1</th>\n",
       "      <td>FPURX</td>\n",
       "      <td>21.689735</td>\n",
       "    </tr>\n",
       "    <tr>\n",
       "      <th>2</th>\n",
       "      <td>SPY</td>\n",
       "      <td>245.921400</td>\n",
       "    </tr>\n",
       "    <tr>\n",
       "      <th>3</th>\n",
       "      <td>VWELX</td>\n",
       "      <td>40.043733</td>\n",
       "    </tr>\n",
       "  </tbody>\n",
       "</table>\n",
       "</div>"
      ],
      "text/plain": [
       "  symbol  share_price\n",
       "0    AGG   109.590885\n",
       "1  FPURX    21.689735\n",
       "2    SPY   245.921400\n",
       "3  VWELX    40.043733"
      ]
     },
     "execution_count": 50,
     "metadata": {},
     "output_type": "execute_result"
    }
   ],
   "source": [
    "df4"
   ]
  },
  {
   "cell_type": "markdown",
   "metadata": {},
   "source": [
    "Create a simple Plotly graph to visualize the cost basis"
   ]
  },
  {
   "cell_type": "code",
   "execution_count": 51,
   "metadata": {},
   "outputs": [],
   "source": [
    "fig5 = go.Figure(go.Bar(\n",
    "    x=df4['symbol'],  # NOC stands for National Olympic Committee\n",
    "    y=df4['share_price']))"
   ]
  },
  {
   "cell_type": "code",
   "execution_count": 52,
   "metadata": {},
   "outputs": [
    {
     "data": {
      "application/vnd.plotly.v1+json": {
       "config": {
        "plotlyServerURL": "https://plot.ly"
       },
       "data": [
        {
         "type": "bar",
         "x": [
          "AGG",
          "FPURX",
          "SPY",
          "VWELX"
         ],
         "y": [
          109.5908854166667,
          21.689735099337753,
          245.92140000000015,
          40.043733333333336
         ]
        }
       ],
       "layout": {
        "template": {
         "data": {
          "bar": [
           {
            "error_x": {
             "color": "#2a3f5f"
            },
            "error_y": {
             "color": "#2a3f5f"
            },
            "marker": {
             "line": {
              "color": "#E5ECF6",
              "width": 0.5
             }
            },
            "type": "bar"
           }
          ],
          "barpolar": [
           {
            "marker": {
             "line": {
              "color": "#E5ECF6",
              "width": 0.5
             }
            },
            "type": "barpolar"
           }
          ],
          "carpet": [
           {
            "aaxis": {
             "endlinecolor": "#2a3f5f",
             "gridcolor": "white",
             "linecolor": "white",
             "minorgridcolor": "white",
             "startlinecolor": "#2a3f5f"
            },
            "baxis": {
             "endlinecolor": "#2a3f5f",
             "gridcolor": "white",
             "linecolor": "white",
             "minorgridcolor": "white",
             "startlinecolor": "#2a3f5f"
            },
            "type": "carpet"
           }
          ],
          "choropleth": [
           {
            "colorbar": {
             "outlinewidth": 0,
             "ticks": ""
            },
            "type": "choropleth"
           }
          ],
          "contour": [
           {
            "colorbar": {
             "outlinewidth": 0,
             "ticks": ""
            },
            "colorscale": [
             [
              0,
              "#0d0887"
             ],
             [
              0.1111111111111111,
              "#46039f"
             ],
             [
              0.2222222222222222,
              "#7201a8"
             ],
             [
              0.3333333333333333,
              "#9c179e"
             ],
             [
              0.4444444444444444,
              "#bd3786"
             ],
             [
              0.5555555555555556,
              "#d8576b"
             ],
             [
              0.6666666666666666,
              "#ed7953"
             ],
             [
              0.7777777777777778,
              "#fb9f3a"
             ],
             [
              0.8888888888888888,
              "#fdca26"
             ],
             [
              1,
              "#f0f921"
             ]
            ],
            "type": "contour"
           }
          ],
          "contourcarpet": [
           {
            "colorbar": {
             "outlinewidth": 0,
             "ticks": ""
            },
            "type": "contourcarpet"
           }
          ],
          "heatmap": [
           {
            "colorbar": {
             "outlinewidth": 0,
             "ticks": ""
            },
            "colorscale": [
             [
              0,
              "#0d0887"
             ],
             [
              0.1111111111111111,
              "#46039f"
             ],
             [
              0.2222222222222222,
              "#7201a8"
             ],
             [
              0.3333333333333333,
              "#9c179e"
             ],
             [
              0.4444444444444444,
              "#bd3786"
             ],
             [
              0.5555555555555556,
              "#d8576b"
             ],
             [
              0.6666666666666666,
              "#ed7953"
             ],
             [
              0.7777777777777778,
              "#fb9f3a"
             ],
             [
              0.8888888888888888,
              "#fdca26"
             ],
             [
              1,
              "#f0f921"
             ]
            ],
            "type": "heatmap"
           }
          ],
          "heatmapgl": [
           {
            "colorbar": {
             "outlinewidth": 0,
             "ticks": ""
            },
            "colorscale": [
             [
              0,
              "#0d0887"
             ],
             [
              0.1111111111111111,
              "#46039f"
             ],
             [
              0.2222222222222222,
              "#7201a8"
             ],
             [
              0.3333333333333333,
              "#9c179e"
             ],
             [
              0.4444444444444444,
              "#bd3786"
             ],
             [
              0.5555555555555556,
              "#d8576b"
             ],
             [
              0.6666666666666666,
              "#ed7953"
             ],
             [
              0.7777777777777778,
              "#fb9f3a"
             ],
             [
              0.8888888888888888,
              "#fdca26"
             ],
             [
              1,
              "#f0f921"
             ]
            ],
            "type": "heatmapgl"
           }
          ],
          "histogram": [
           {
            "marker": {
             "colorbar": {
              "outlinewidth": 0,
              "ticks": ""
             }
            },
            "type": "histogram"
           }
          ],
          "histogram2d": [
           {
            "colorbar": {
             "outlinewidth": 0,
             "ticks": ""
            },
            "colorscale": [
             [
              0,
              "#0d0887"
             ],
             [
              0.1111111111111111,
              "#46039f"
             ],
             [
              0.2222222222222222,
              "#7201a8"
             ],
             [
              0.3333333333333333,
              "#9c179e"
             ],
             [
              0.4444444444444444,
              "#bd3786"
             ],
             [
              0.5555555555555556,
              "#d8576b"
             ],
             [
              0.6666666666666666,
              "#ed7953"
             ],
             [
              0.7777777777777778,
              "#fb9f3a"
             ],
             [
              0.8888888888888888,
              "#fdca26"
             ],
             [
              1,
              "#f0f921"
             ]
            ],
            "type": "histogram2d"
           }
          ],
          "histogram2dcontour": [
           {
            "colorbar": {
             "outlinewidth": 0,
             "ticks": ""
            },
            "colorscale": [
             [
              0,
              "#0d0887"
             ],
             [
              0.1111111111111111,
              "#46039f"
             ],
             [
              0.2222222222222222,
              "#7201a8"
             ],
             [
              0.3333333333333333,
              "#9c179e"
             ],
             [
              0.4444444444444444,
              "#bd3786"
             ],
             [
              0.5555555555555556,
              "#d8576b"
             ],
             [
              0.6666666666666666,
              "#ed7953"
             ],
             [
              0.7777777777777778,
              "#fb9f3a"
             ],
             [
              0.8888888888888888,
              "#fdca26"
             ],
             [
              1,
              "#f0f921"
             ]
            ],
            "type": "histogram2dcontour"
           }
          ],
          "mesh3d": [
           {
            "colorbar": {
             "outlinewidth": 0,
             "ticks": ""
            },
            "type": "mesh3d"
           }
          ],
          "parcoords": [
           {
            "line": {
             "colorbar": {
              "outlinewidth": 0,
              "ticks": ""
             }
            },
            "type": "parcoords"
           }
          ],
          "pie": [
           {
            "automargin": true,
            "type": "pie"
           }
          ],
          "scatter": [
           {
            "marker": {
             "colorbar": {
              "outlinewidth": 0,
              "ticks": ""
             }
            },
            "type": "scatter"
           }
          ],
          "scatter3d": [
           {
            "line": {
             "colorbar": {
              "outlinewidth": 0,
              "ticks": ""
             }
            },
            "marker": {
             "colorbar": {
              "outlinewidth": 0,
              "ticks": ""
             }
            },
            "type": "scatter3d"
           }
          ],
          "scattercarpet": [
           {
            "marker": {
             "colorbar": {
              "outlinewidth": 0,
              "ticks": ""
             }
            },
            "type": "scattercarpet"
           }
          ],
          "scattergeo": [
           {
            "marker": {
             "colorbar": {
              "outlinewidth": 0,
              "ticks": ""
             }
            },
            "type": "scattergeo"
           }
          ],
          "scattergl": [
           {
            "marker": {
             "colorbar": {
              "outlinewidth": 0,
              "ticks": ""
             }
            },
            "type": "scattergl"
           }
          ],
          "scattermapbox": [
           {
            "marker": {
             "colorbar": {
              "outlinewidth": 0,
              "ticks": ""
             }
            },
            "type": "scattermapbox"
           }
          ],
          "scatterpolar": [
           {
            "marker": {
             "colorbar": {
              "outlinewidth": 0,
              "ticks": ""
             }
            },
            "type": "scatterpolar"
           }
          ],
          "scatterpolargl": [
           {
            "marker": {
             "colorbar": {
              "outlinewidth": 0,
              "ticks": ""
             }
            },
            "type": "scatterpolargl"
           }
          ],
          "scatterternary": [
           {
            "marker": {
             "colorbar": {
              "outlinewidth": 0,
              "ticks": ""
             }
            },
            "type": "scatterternary"
           }
          ],
          "surface": [
           {
            "colorbar": {
             "outlinewidth": 0,
             "ticks": ""
            },
            "colorscale": [
             [
              0,
              "#0d0887"
             ],
             [
              0.1111111111111111,
              "#46039f"
             ],
             [
              0.2222222222222222,
              "#7201a8"
             ],
             [
              0.3333333333333333,
              "#9c179e"
             ],
             [
              0.4444444444444444,
              "#bd3786"
             ],
             [
              0.5555555555555556,
              "#d8576b"
             ],
             [
              0.6666666666666666,
              "#ed7953"
             ],
             [
              0.7777777777777778,
              "#fb9f3a"
             ],
             [
              0.8888888888888888,
              "#fdca26"
             ],
             [
              1,
              "#f0f921"
             ]
            ],
            "type": "surface"
           }
          ],
          "table": [
           {
            "cells": {
             "fill": {
              "color": "#EBF0F8"
             },
             "line": {
              "color": "white"
             }
            },
            "header": {
             "fill": {
              "color": "#C8D4E3"
             },
             "line": {
              "color": "white"
             }
            },
            "type": "table"
           }
          ]
         },
         "layout": {
          "annotationdefaults": {
           "arrowcolor": "#2a3f5f",
           "arrowhead": 0,
           "arrowwidth": 1
          },
          "coloraxis": {
           "colorbar": {
            "outlinewidth": 0,
            "ticks": ""
           }
          },
          "colorscale": {
           "diverging": [
            [
             0,
             "#8e0152"
            ],
            [
             0.1,
             "#c51b7d"
            ],
            [
             0.2,
             "#de77ae"
            ],
            [
             0.3,
             "#f1b6da"
            ],
            [
             0.4,
             "#fde0ef"
            ],
            [
             0.5,
             "#f7f7f7"
            ],
            [
             0.6,
             "#e6f5d0"
            ],
            [
             0.7,
             "#b8e186"
            ],
            [
             0.8,
             "#7fbc41"
            ],
            [
             0.9,
             "#4d9221"
            ],
            [
             1,
             "#276419"
            ]
           ],
           "sequential": [
            [
             0,
             "#0d0887"
            ],
            [
             0.1111111111111111,
             "#46039f"
            ],
            [
             0.2222222222222222,
             "#7201a8"
            ],
            [
             0.3333333333333333,
             "#9c179e"
            ],
            [
             0.4444444444444444,
             "#bd3786"
            ],
            [
             0.5555555555555556,
             "#d8576b"
            ],
            [
             0.6666666666666666,
             "#ed7953"
            ],
            [
             0.7777777777777778,
             "#fb9f3a"
            ],
            [
             0.8888888888888888,
             "#fdca26"
            ],
            [
             1,
             "#f0f921"
            ]
           ],
           "sequentialminus": [
            [
             0,
             "#0d0887"
            ],
            [
             0.1111111111111111,
             "#46039f"
            ],
            [
             0.2222222222222222,
             "#7201a8"
            ],
            [
             0.3333333333333333,
             "#9c179e"
            ],
            [
             0.4444444444444444,
             "#bd3786"
            ],
            [
             0.5555555555555556,
             "#d8576b"
            ],
            [
             0.6666666666666666,
             "#ed7953"
            ],
            [
             0.7777777777777778,
             "#fb9f3a"
            ],
            [
             0.8888888888888888,
             "#fdca26"
            ],
            [
             1,
             "#f0f921"
            ]
           ]
          },
          "colorway": [
           "#636efa",
           "#EF553B",
           "#00cc96",
           "#ab63fa",
           "#FFA15A",
           "#19d3f3",
           "#FF6692",
           "#B6E880",
           "#FF97FF",
           "#FECB52"
          ],
          "font": {
           "color": "#2a3f5f"
          },
          "geo": {
           "bgcolor": "white",
           "lakecolor": "white",
           "landcolor": "#E5ECF6",
           "showlakes": true,
           "showland": true,
           "subunitcolor": "white"
          },
          "hoverlabel": {
           "align": "left"
          },
          "hovermode": "closest",
          "mapbox": {
           "style": "light"
          },
          "paper_bgcolor": "white",
          "plot_bgcolor": "#E5ECF6",
          "polar": {
           "angularaxis": {
            "gridcolor": "white",
            "linecolor": "white",
            "ticks": ""
           },
           "bgcolor": "#E5ECF6",
           "radialaxis": {
            "gridcolor": "white",
            "linecolor": "white",
            "ticks": ""
           }
          },
          "scene": {
           "xaxis": {
            "backgroundcolor": "#E5ECF6",
            "gridcolor": "white",
            "gridwidth": 2,
            "linecolor": "white",
            "showbackground": true,
            "ticks": "",
            "zerolinecolor": "white"
           },
           "yaxis": {
            "backgroundcolor": "#E5ECF6",
            "gridcolor": "white",
            "gridwidth": 2,
            "linecolor": "white",
            "showbackground": true,
            "ticks": "",
            "zerolinecolor": "white"
           },
           "zaxis": {
            "backgroundcolor": "#E5ECF6",
            "gridcolor": "white",
            "gridwidth": 2,
            "linecolor": "white",
            "showbackground": true,
            "ticks": "",
            "zerolinecolor": "white"
           }
          },
          "shapedefaults": {
           "line": {
            "color": "#2a3f5f"
           }
          },
          "ternary": {
           "aaxis": {
            "gridcolor": "white",
            "linecolor": "white",
            "ticks": ""
           },
           "baxis": {
            "gridcolor": "white",
            "linecolor": "white",
            "ticks": ""
           },
           "bgcolor": "#E5ECF6",
           "caxis": {
            "gridcolor": "white",
            "linecolor": "white",
            "ticks": ""
           }
          },
          "title": {
           "x": 0.05
          },
          "xaxis": {
           "automargin": true,
           "gridcolor": "white",
           "linecolor": "white",
           "ticks": "",
           "title": {
            "standoff": 15
           },
           "zerolinecolor": "white",
           "zerolinewidth": 2
          },
          "yaxis": {
           "automargin": true,
           "gridcolor": "white",
           "linecolor": "white",
           "ticks": "",
           "title": {
            "standoff": 15
           },
           "zerolinecolor": "white",
           "zerolinewidth": 2
          }
         }
        }
       }
      },
      "text/html": [
       "<div>\n",
       "        \n",
       "        \n",
       "            <div id=\"95dea410-f080-480c-acbb-585e704b7516\" class=\"plotly-graph-div\" style=\"height:525px; width:100%;\"></div>\n",
       "            <script type=\"text/javascript\">\n",
       "                require([\"plotly\"], function(Plotly) {\n",
       "                    window.PLOTLYENV=window.PLOTLYENV || {};\n",
       "                    \n",
       "                if (document.getElementById(\"95dea410-f080-480c-acbb-585e704b7516\")) {\n",
       "                    Plotly.newPlot(\n",
       "                        '95dea410-f080-480c-acbb-585e704b7516',\n",
       "                        [{\"type\": \"bar\", \"x\": [\"AGG\", \"FPURX\", \"SPY\", \"VWELX\"], \"y\": [109.5908854166667, 21.689735099337753, 245.92140000000015, 40.043733333333336]}],\n",
       "                        {\"template\": {\"data\": {\"bar\": [{\"error_x\": {\"color\": \"#2a3f5f\"}, \"error_y\": {\"color\": \"#2a3f5f\"}, \"marker\": {\"line\": {\"color\": \"#E5ECF6\", \"width\": 0.5}}, \"type\": \"bar\"}], \"barpolar\": [{\"marker\": {\"line\": {\"color\": \"#E5ECF6\", \"width\": 0.5}}, \"type\": \"barpolar\"}], \"carpet\": [{\"aaxis\": {\"endlinecolor\": \"#2a3f5f\", \"gridcolor\": \"white\", \"linecolor\": \"white\", \"minorgridcolor\": \"white\", \"startlinecolor\": \"#2a3f5f\"}, \"baxis\": {\"endlinecolor\": \"#2a3f5f\", \"gridcolor\": \"white\", \"linecolor\": \"white\", \"minorgridcolor\": \"white\", \"startlinecolor\": \"#2a3f5f\"}, \"type\": \"carpet\"}], \"choropleth\": [{\"colorbar\": {\"outlinewidth\": 0, \"ticks\": \"\"}, \"type\": \"choropleth\"}], \"contour\": [{\"colorbar\": {\"outlinewidth\": 0, \"ticks\": \"\"}, \"colorscale\": [[0.0, \"#0d0887\"], [0.1111111111111111, \"#46039f\"], [0.2222222222222222, \"#7201a8\"], [0.3333333333333333, \"#9c179e\"], [0.4444444444444444, \"#bd3786\"], [0.5555555555555556, \"#d8576b\"], [0.6666666666666666, \"#ed7953\"], [0.7777777777777778, \"#fb9f3a\"], [0.8888888888888888, \"#fdca26\"], [1.0, \"#f0f921\"]], \"type\": \"contour\"}], \"contourcarpet\": [{\"colorbar\": {\"outlinewidth\": 0, \"ticks\": \"\"}, \"type\": \"contourcarpet\"}], \"heatmap\": [{\"colorbar\": {\"outlinewidth\": 0, \"ticks\": \"\"}, \"colorscale\": [[0.0, \"#0d0887\"], [0.1111111111111111, \"#46039f\"], [0.2222222222222222, \"#7201a8\"], [0.3333333333333333, \"#9c179e\"], [0.4444444444444444, \"#bd3786\"], [0.5555555555555556, \"#d8576b\"], [0.6666666666666666, \"#ed7953\"], [0.7777777777777778, \"#fb9f3a\"], [0.8888888888888888, \"#fdca26\"], [1.0, \"#f0f921\"]], \"type\": \"heatmap\"}], \"heatmapgl\": [{\"colorbar\": {\"outlinewidth\": 0, \"ticks\": \"\"}, \"colorscale\": [[0.0, \"#0d0887\"], [0.1111111111111111, \"#46039f\"], [0.2222222222222222, \"#7201a8\"], [0.3333333333333333, \"#9c179e\"], [0.4444444444444444, \"#bd3786\"], [0.5555555555555556, \"#d8576b\"], [0.6666666666666666, \"#ed7953\"], [0.7777777777777778, \"#fb9f3a\"], [0.8888888888888888, \"#fdca26\"], [1.0, \"#f0f921\"]], \"type\": \"heatmapgl\"}], \"histogram\": [{\"marker\": {\"colorbar\": {\"outlinewidth\": 0, \"ticks\": \"\"}}, \"type\": \"histogram\"}], \"histogram2d\": [{\"colorbar\": {\"outlinewidth\": 0, \"ticks\": \"\"}, \"colorscale\": [[0.0, \"#0d0887\"], [0.1111111111111111, \"#46039f\"], [0.2222222222222222, \"#7201a8\"], [0.3333333333333333, \"#9c179e\"], [0.4444444444444444, \"#bd3786\"], [0.5555555555555556, \"#d8576b\"], [0.6666666666666666, \"#ed7953\"], [0.7777777777777778, \"#fb9f3a\"], [0.8888888888888888, \"#fdca26\"], [1.0, \"#f0f921\"]], \"type\": \"histogram2d\"}], \"histogram2dcontour\": [{\"colorbar\": {\"outlinewidth\": 0, \"ticks\": \"\"}, \"colorscale\": [[0.0, \"#0d0887\"], [0.1111111111111111, \"#46039f\"], [0.2222222222222222, \"#7201a8\"], [0.3333333333333333, \"#9c179e\"], [0.4444444444444444, \"#bd3786\"], [0.5555555555555556, \"#d8576b\"], [0.6666666666666666, \"#ed7953\"], [0.7777777777777778, \"#fb9f3a\"], [0.8888888888888888, \"#fdca26\"], [1.0, \"#f0f921\"]], \"type\": \"histogram2dcontour\"}], \"mesh3d\": [{\"colorbar\": {\"outlinewidth\": 0, \"ticks\": \"\"}, \"type\": \"mesh3d\"}], \"parcoords\": [{\"line\": {\"colorbar\": {\"outlinewidth\": 0, \"ticks\": \"\"}}, \"type\": \"parcoords\"}], \"pie\": [{\"automargin\": true, \"type\": \"pie\"}], \"scatter\": [{\"marker\": {\"colorbar\": {\"outlinewidth\": 0, \"ticks\": \"\"}}, \"type\": \"scatter\"}], \"scatter3d\": [{\"line\": {\"colorbar\": {\"outlinewidth\": 0, \"ticks\": \"\"}}, \"marker\": {\"colorbar\": {\"outlinewidth\": 0, \"ticks\": \"\"}}, \"type\": \"scatter3d\"}], \"scattercarpet\": [{\"marker\": {\"colorbar\": {\"outlinewidth\": 0, \"ticks\": \"\"}}, \"type\": \"scattercarpet\"}], \"scattergeo\": [{\"marker\": {\"colorbar\": {\"outlinewidth\": 0, \"ticks\": \"\"}}, \"type\": \"scattergeo\"}], \"scattergl\": [{\"marker\": {\"colorbar\": {\"outlinewidth\": 0, \"ticks\": \"\"}}, \"type\": \"scattergl\"}], \"scattermapbox\": [{\"marker\": {\"colorbar\": {\"outlinewidth\": 0, \"ticks\": \"\"}}, \"type\": \"scattermapbox\"}], \"scatterpolar\": [{\"marker\": {\"colorbar\": {\"outlinewidth\": 0, \"ticks\": \"\"}}, \"type\": \"scatterpolar\"}], \"scatterpolargl\": [{\"marker\": {\"colorbar\": {\"outlinewidth\": 0, \"ticks\": \"\"}}, \"type\": \"scatterpolargl\"}], \"scatterternary\": [{\"marker\": {\"colorbar\": {\"outlinewidth\": 0, \"ticks\": \"\"}}, \"type\": \"scatterternary\"}], \"surface\": [{\"colorbar\": {\"outlinewidth\": 0, \"ticks\": \"\"}, \"colorscale\": [[0.0, \"#0d0887\"], [0.1111111111111111, \"#46039f\"], [0.2222222222222222, \"#7201a8\"], [0.3333333333333333, \"#9c179e\"], [0.4444444444444444, \"#bd3786\"], [0.5555555555555556, \"#d8576b\"], [0.6666666666666666, \"#ed7953\"], [0.7777777777777778, \"#fb9f3a\"], [0.8888888888888888, \"#fdca26\"], [1.0, \"#f0f921\"]], \"type\": \"surface\"}], \"table\": [{\"cells\": {\"fill\": {\"color\": \"#EBF0F8\"}, \"line\": {\"color\": \"white\"}}, \"header\": {\"fill\": {\"color\": \"#C8D4E3\"}, \"line\": {\"color\": \"white\"}}, \"type\": \"table\"}]}, \"layout\": {\"annotationdefaults\": {\"arrowcolor\": \"#2a3f5f\", \"arrowhead\": 0, \"arrowwidth\": 1}, \"coloraxis\": {\"colorbar\": {\"outlinewidth\": 0, \"ticks\": \"\"}}, \"colorscale\": {\"diverging\": [[0, \"#8e0152\"], [0.1, \"#c51b7d\"], [0.2, \"#de77ae\"], [0.3, \"#f1b6da\"], [0.4, \"#fde0ef\"], [0.5, \"#f7f7f7\"], [0.6, \"#e6f5d0\"], [0.7, \"#b8e186\"], [0.8, \"#7fbc41\"], [0.9, \"#4d9221\"], [1, \"#276419\"]], \"sequential\": [[0.0, \"#0d0887\"], [0.1111111111111111, \"#46039f\"], [0.2222222222222222, \"#7201a8\"], [0.3333333333333333, \"#9c179e\"], [0.4444444444444444, \"#bd3786\"], [0.5555555555555556, \"#d8576b\"], [0.6666666666666666, \"#ed7953\"], [0.7777777777777778, \"#fb9f3a\"], [0.8888888888888888, \"#fdca26\"], [1.0, \"#f0f921\"]], \"sequentialminus\": [[0.0, \"#0d0887\"], [0.1111111111111111, \"#46039f\"], [0.2222222222222222, \"#7201a8\"], [0.3333333333333333, \"#9c179e\"], [0.4444444444444444, \"#bd3786\"], [0.5555555555555556, \"#d8576b\"], [0.6666666666666666, \"#ed7953\"], [0.7777777777777778, \"#fb9f3a\"], [0.8888888888888888, \"#fdca26\"], [1.0, \"#f0f921\"]]}, \"colorway\": [\"#636efa\", \"#EF553B\", \"#00cc96\", \"#ab63fa\", \"#FFA15A\", \"#19d3f3\", \"#FF6692\", \"#B6E880\", \"#FF97FF\", \"#FECB52\"], \"font\": {\"color\": \"#2a3f5f\"}, \"geo\": {\"bgcolor\": \"white\", \"lakecolor\": \"white\", \"landcolor\": \"#E5ECF6\", \"showlakes\": true, \"showland\": true, \"subunitcolor\": \"white\"}, \"hoverlabel\": {\"align\": \"left\"}, \"hovermode\": \"closest\", \"mapbox\": {\"style\": \"light\"}, \"paper_bgcolor\": \"white\", \"plot_bgcolor\": \"#E5ECF6\", \"polar\": {\"angularaxis\": {\"gridcolor\": \"white\", \"linecolor\": \"white\", \"ticks\": \"\"}, \"bgcolor\": \"#E5ECF6\", \"radialaxis\": {\"gridcolor\": \"white\", \"linecolor\": \"white\", \"ticks\": \"\"}}, \"scene\": {\"xaxis\": {\"backgroundcolor\": \"#E5ECF6\", \"gridcolor\": \"white\", \"gridwidth\": 2, \"linecolor\": \"white\", \"showbackground\": true, \"ticks\": \"\", \"zerolinecolor\": \"white\"}, \"yaxis\": {\"backgroundcolor\": \"#E5ECF6\", \"gridcolor\": \"white\", \"gridwidth\": 2, \"linecolor\": \"white\", \"showbackground\": true, \"ticks\": \"\", \"zerolinecolor\": \"white\"}, \"zaxis\": {\"backgroundcolor\": \"#E5ECF6\", \"gridcolor\": \"white\", \"gridwidth\": 2, \"linecolor\": \"white\", \"showbackground\": true, \"ticks\": \"\", \"zerolinecolor\": \"white\"}}, \"shapedefaults\": {\"line\": {\"color\": \"#2a3f5f\"}}, \"ternary\": {\"aaxis\": {\"gridcolor\": \"white\", \"linecolor\": \"white\", \"ticks\": \"\"}, \"baxis\": {\"gridcolor\": \"white\", \"linecolor\": \"white\", \"ticks\": \"\"}, \"bgcolor\": \"#E5ECF6\", \"caxis\": {\"gridcolor\": \"white\", \"linecolor\": \"white\", \"ticks\": \"\"}}, \"title\": {\"x\": 0.05}, \"xaxis\": {\"automargin\": true, \"gridcolor\": \"white\", \"linecolor\": \"white\", \"ticks\": \"\", \"title\": {\"standoff\": 15}, \"zerolinecolor\": \"white\", \"zerolinewidth\": 2}, \"yaxis\": {\"automargin\": true, \"gridcolor\": \"white\", \"linecolor\": \"white\", \"ticks\": \"\", \"title\": {\"standoff\": 15}, \"zerolinecolor\": \"white\", \"zerolinewidth\": 2}}}},\n",
       "                        {\"responsive\": true}\n",
       "                    ).then(function(){\n",
       "                            \n",
       "var gd = document.getElementById('95dea410-f080-480c-acbb-585e704b7516');\n",
       "var x = new MutationObserver(function (mutations, observer) {{\n",
       "        var display = window.getComputedStyle(gd).display;\n",
       "        if (!display || display === 'none') {{\n",
       "            console.log([gd, 'removed!']);\n",
       "            Plotly.purge(gd);\n",
       "            observer.disconnect();\n",
       "        }}\n",
       "}});\n",
       "\n",
       "// Listen for the removal of the full notebook cells\n",
       "var notebookContainer = gd.closest('#notebook-container');\n",
       "if (notebookContainer) {{\n",
       "    x.observe(notebookContainer, {childList: true});\n",
       "}}\n",
       "\n",
       "// Listen for the clearing of the current output cell\n",
       "var outputEl = gd.closest('.output');\n",
       "if (outputEl) {{\n",
       "    x.observe(outputEl, {childList: true});\n",
       "}}\n",
       "\n",
       "                        })\n",
       "                };\n",
       "                });\n",
       "            </script>\n",
       "        </div>"
      ]
     },
     "metadata": {},
     "output_type": "display_data"
    }
   ],
   "source": [
    "fig5"
   ]
  },
  {
   "cell_type": "markdown",
   "metadata": {},
   "source": [
    "Summarize each symbol by quarterly performance"
   ]
  },
  {
   "cell_type": "code",
   "execution_count": 53,
   "metadata": {},
   "outputs": [
    {
     "name": "stdout",
     "output_type": "stream",
     "text": [
      "   symbol  quarter  principal\n",
      "0     AGG  2015 Q1     294.01\n",
      "1     AGG  2015 Q2     438.53\n",
      "2     AGG  2015 Q3     548.48\n",
      "3     AGG  2015 Q4     588.32\n",
      "4     AGG  2016 Q1     569.54\n",
      "..    ...      ...        ...\n",
      "83  VWELX  2019 Q2     349.07\n",
      "84  VWELX  2019 Q3     303.20\n",
      "85  VWELX  2019 Q4     655.40\n",
      "86  VWELX  2020 Q1     586.00\n",
      "87  VWELX  2020 Q2      50.00\n",
      "\n",
      "[88 rows x 3 columns]\n"
     ]
    }
   ],
   "source": [
    "df3 = unit.groupby(['symbol','quarter'], as_index=False)['principal'].sum()\n",
    "print (df3)\n",
    "\n",
    "agg_q = df3[df3.symbol.str.contains('AGG')]\n",
    "spy_q = df3[df3.symbol.str.contains('SPY')]\n",
    "well_q = df3[df3.symbol.str.contains('VWELX')]\n",
    "pur_q = df3[df3.symbol.str.contains('FPURX')]"
   ]
  },
  {
   "cell_type": "markdown",
   "metadata": {},
   "source": [
    "Visualize each fund by the amount of dividends returned in the portfolio"
   ]
  },
  {
   "cell_type": "code",
   "execution_count": 72,
   "metadata": {},
   "outputs": [
    {
     "data": {
      "application/vnd.plotly.v1+json": {
       "config": {
        "plotlyServerURL": "https://plot.ly"
       },
       "data": [
        {
         "name": "AGG",
         "type": "bar",
         "x": [
          "2015 Q1",
          "2015 Q1",
          "2015 Q2",
          "2015 Q2",
          "2015 Q2",
          "2015 Q3",
          "2015 Q3",
          "2015 Q3",
          "2015 Q4",
          "2015 Q4",
          "2015 Q4",
          "2015 Q4",
          "2016 Q1",
          "2016 Q1",
          "2016 Q2",
          "2016 Q2",
          "2016 Q2",
          "2016 Q3",
          "2016 Q3",
          "2016 Q3",
          "2016 Q4",
          "2016 Q4",
          "2016 Q4",
          "2016 Q4",
          "2017 Q1",
          "2017 Q1",
          "2017 Q2",
          "2017 Q2",
          "2017 Q2",
          "2017 Q3",
          "2017 Q3",
          "2017 Q3",
          "2017 Q4",
          "2017 Q4",
          "2017 Q4",
          "2017 Q4",
          "2018 Q1",
          "2018 Q1",
          "2018 Q2",
          "2018 Q2",
          "2018 Q2",
          "2018 Q3",
          "2018 Q3",
          "2018 Q3",
          "2018 Q4",
          "2018 Q4",
          "2018 Q4",
          "2018 Q4",
          "2019 Q1",
          "2019 Q1",
          "2019 Q2",
          "2019 Q2",
          "2019 Q2",
          "2019 Q3",
          "2019 Q3",
          "2019 Q3",
          "2019 Q4",
          "2019 Q4",
          "2019 Q4",
          "2019 Q4",
          "2020 Q1",
          "2020 Q1",
          "2020 Q2"
         ],
         "y": [
          0.04,
          0.27,
          0.56,
          0.79,
          1.08,
          1.44,
          1.87,
          2.27,
          2.4,
          2.83,
          5.44,
          3.6,
          4.29,
          4.55,
          4.96,
          4.96,
          5.67,
          6.08,
          6.31,
          6.65,
          6.79,
          7.34,
          7.64,
          9.56,
          8.96,
          9.44,
          9.68,
          10.63,
          10.51,
          10.47,
          10.89,
          11.09,
          11.22,
          11.64,
          12.56,
          2,
          14.24,
          14.37,
          15.44,
          15.84,
          17.35,
          16.52,
          18.15,
          16.81,
          18.3,
          40.63,
          20.16,
          17,
          22.07,
          22.21,
          22.04,
          22.1,
          22.45,
          21.99,
          22.91,
          23.42,
          22.92,
          22.89,
          22.68,
          17.71,
          22.87,
          22.55,
          24.43
         ]
        },
        {
         "name": "SPY",
         "type": "bar",
         "x": [
          "2015 Q1",
          "2015 Q2",
          "2015 Q3",
          "2015 Q4",
          "2016 Q1",
          "2016 Q2",
          "2016 Q3",
          "2016 Q4",
          "2017 Q1",
          "2017 Q2",
          "2017 Q3",
          "2017 Q4",
          "2018 Q1",
          "2018 Q2",
          "2018 Q3",
          "2018 Q4",
          "2019 Q1",
          "2019 Q2",
          "2019 Q3",
          "2019 Q4",
          "2020 Q1"
         ],
         "y": [
          1.03,
          3.62,
          6.01,
          10.44,
          12.15,
          16.13,
          18.97,
          27.14,
          23.41,
          28.38,
          31.02,
          37.87,
          33.71,
          42.46,
          45.89,
          54.21,
          47.88,
          57.26,
          56.88,
          66.19,
          62.04
         ]
        },
        {
         "name": "Wellington",
         "type": "bar",
         "x": [
          "2015 Q1",
          "2015 Q2",
          "2015 Q3",
          "2015 Q4",
          "2016 Q1",
          "2016 Q2",
          "2016 Q3",
          "2016 Q4",
          "2017 Q1",
          "2017 Q2",
          "2017 Q3",
          "2017 Q4",
          "2018 Q1",
          "2018 Q2",
          "2018 Q3",
          "2018 Q4",
          "2019 Q1",
          "2019 Q2",
          "2019 Q3",
          "2019 Q4",
          "2020 Q1"
         ],
         "y": [
          1.73,
          4.52,
          7.48,
          79.45,
          14.47,
          20.8,
          23.75,
          115.67,
          30.69,
          37.09,
          35.72,
          326.32,
          43.25,
          62.92,
          57.68,
          663.34,
          64.89,
          72,
          71.25,
          346.57,
          79.6
         ]
        },
        {
         "name": "Puritan",
         "type": "bar",
         "x": [
          "2015 Q2",
          "2015 Q3",
          "2015 Q3",
          "2015 Q4",
          "2016 Q2",
          "2016 Q3",
          "2016 Q4",
          "2016 Q4",
          "2016 Q4",
          "2017 Q2",
          "2017 Q3",
          "2017 Q4",
          "2017 Q4",
          "2018 Q2",
          "2018 Q3",
          "2018 Q4",
          "2018 Q4",
          "2019 Q2",
          "2019 Q3",
          "2019 Q4",
          "2019 Q4",
          "2020 Q2"
         ],
         "y": [
          1.06,
          6.86,
          72.3,
          5.84,
          11.8,
          11.5,
          48.18,
          53.91,
          7.97,
          17.2,
          21.13,
          137.72,
          73.55,
          27.62,
          29.27,
          547.73,
          477.1,
          34.34,
          36.53,
          228.19,
          112.55,
          34.39
         ]
        }
       ],
       "layout": {
        "barmode": "stack",
        "template": {
         "data": {
          "bar": [
           {
            "error_x": {
             "color": "#2a3f5f"
            },
            "error_y": {
             "color": "#2a3f5f"
            },
            "marker": {
             "line": {
              "color": "#E5ECF6",
              "width": 0.5
             }
            },
            "type": "bar"
           }
          ],
          "barpolar": [
           {
            "marker": {
             "line": {
              "color": "#E5ECF6",
              "width": 0.5
             }
            },
            "type": "barpolar"
           }
          ],
          "carpet": [
           {
            "aaxis": {
             "endlinecolor": "#2a3f5f",
             "gridcolor": "white",
             "linecolor": "white",
             "minorgridcolor": "white",
             "startlinecolor": "#2a3f5f"
            },
            "baxis": {
             "endlinecolor": "#2a3f5f",
             "gridcolor": "white",
             "linecolor": "white",
             "minorgridcolor": "white",
             "startlinecolor": "#2a3f5f"
            },
            "type": "carpet"
           }
          ],
          "choropleth": [
           {
            "colorbar": {
             "outlinewidth": 0,
             "ticks": ""
            },
            "type": "choropleth"
           }
          ],
          "contour": [
           {
            "colorbar": {
             "outlinewidth": 0,
             "ticks": ""
            },
            "colorscale": [
             [
              0,
              "#0d0887"
             ],
             [
              0.1111111111111111,
              "#46039f"
             ],
             [
              0.2222222222222222,
              "#7201a8"
             ],
             [
              0.3333333333333333,
              "#9c179e"
             ],
             [
              0.4444444444444444,
              "#bd3786"
             ],
             [
              0.5555555555555556,
              "#d8576b"
             ],
             [
              0.6666666666666666,
              "#ed7953"
             ],
             [
              0.7777777777777778,
              "#fb9f3a"
             ],
             [
              0.8888888888888888,
              "#fdca26"
             ],
             [
              1,
              "#f0f921"
             ]
            ],
            "type": "contour"
           }
          ],
          "contourcarpet": [
           {
            "colorbar": {
             "outlinewidth": 0,
             "ticks": ""
            },
            "type": "contourcarpet"
           }
          ],
          "heatmap": [
           {
            "colorbar": {
             "outlinewidth": 0,
             "ticks": ""
            },
            "colorscale": [
             [
              0,
              "#0d0887"
             ],
             [
              0.1111111111111111,
              "#46039f"
             ],
             [
              0.2222222222222222,
              "#7201a8"
             ],
             [
              0.3333333333333333,
              "#9c179e"
             ],
             [
              0.4444444444444444,
              "#bd3786"
             ],
             [
              0.5555555555555556,
              "#d8576b"
             ],
             [
              0.6666666666666666,
              "#ed7953"
             ],
             [
              0.7777777777777778,
              "#fb9f3a"
             ],
             [
              0.8888888888888888,
              "#fdca26"
             ],
             [
              1,
              "#f0f921"
             ]
            ],
            "type": "heatmap"
           }
          ],
          "heatmapgl": [
           {
            "colorbar": {
             "outlinewidth": 0,
             "ticks": ""
            },
            "colorscale": [
             [
              0,
              "#0d0887"
             ],
             [
              0.1111111111111111,
              "#46039f"
             ],
             [
              0.2222222222222222,
              "#7201a8"
             ],
             [
              0.3333333333333333,
              "#9c179e"
             ],
             [
              0.4444444444444444,
              "#bd3786"
             ],
             [
              0.5555555555555556,
              "#d8576b"
             ],
             [
              0.6666666666666666,
              "#ed7953"
             ],
             [
              0.7777777777777778,
              "#fb9f3a"
             ],
             [
              0.8888888888888888,
              "#fdca26"
             ],
             [
              1,
              "#f0f921"
             ]
            ],
            "type": "heatmapgl"
           }
          ],
          "histogram": [
           {
            "marker": {
             "colorbar": {
              "outlinewidth": 0,
              "ticks": ""
             }
            },
            "type": "histogram"
           }
          ],
          "histogram2d": [
           {
            "colorbar": {
             "outlinewidth": 0,
             "ticks": ""
            },
            "colorscale": [
             [
              0,
              "#0d0887"
             ],
             [
              0.1111111111111111,
              "#46039f"
             ],
             [
              0.2222222222222222,
              "#7201a8"
             ],
             [
              0.3333333333333333,
              "#9c179e"
             ],
             [
              0.4444444444444444,
              "#bd3786"
             ],
             [
              0.5555555555555556,
              "#d8576b"
             ],
             [
              0.6666666666666666,
              "#ed7953"
             ],
             [
              0.7777777777777778,
              "#fb9f3a"
             ],
             [
              0.8888888888888888,
              "#fdca26"
             ],
             [
              1,
              "#f0f921"
             ]
            ],
            "type": "histogram2d"
           }
          ],
          "histogram2dcontour": [
           {
            "colorbar": {
             "outlinewidth": 0,
             "ticks": ""
            },
            "colorscale": [
             [
              0,
              "#0d0887"
             ],
             [
              0.1111111111111111,
              "#46039f"
             ],
             [
              0.2222222222222222,
              "#7201a8"
             ],
             [
              0.3333333333333333,
              "#9c179e"
             ],
             [
              0.4444444444444444,
              "#bd3786"
             ],
             [
              0.5555555555555556,
              "#d8576b"
             ],
             [
              0.6666666666666666,
              "#ed7953"
             ],
             [
              0.7777777777777778,
              "#fb9f3a"
             ],
             [
              0.8888888888888888,
              "#fdca26"
             ],
             [
              1,
              "#f0f921"
             ]
            ],
            "type": "histogram2dcontour"
           }
          ],
          "mesh3d": [
           {
            "colorbar": {
             "outlinewidth": 0,
             "ticks": ""
            },
            "type": "mesh3d"
           }
          ],
          "parcoords": [
           {
            "line": {
             "colorbar": {
              "outlinewidth": 0,
              "ticks": ""
             }
            },
            "type": "parcoords"
           }
          ],
          "pie": [
           {
            "automargin": true,
            "type": "pie"
           }
          ],
          "scatter": [
           {
            "marker": {
             "colorbar": {
              "outlinewidth": 0,
              "ticks": ""
             }
            },
            "type": "scatter"
           }
          ],
          "scatter3d": [
           {
            "line": {
             "colorbar": {
              "outlinewidth": 0,
              "ticks": ""
             }
            },
            "marker": {
             "colorbar": {
              "outlinewidth": 0,
              "ticks": ""
             }
            },
            "type": "scatter3d"
           }
          ],
          "scattercarpet": [
           {
            "marker": {
             "colorbar": {
              "outlinewidth": 0,
              "ticks": ""
             }
            },
            "type": "scattercarpet"
           }
          ],
          "scattergeo": [
           {
            "marker": {
             "colorbar": {
              "outlinewidth": 0,
              "ticks": ""
             }
            },
            "type": "scattergeo"
           }
          ],
          "scattergl": [
           {
            "marker": {
             "colorbar": {
              "outlinewidth": 0,
              "ticks": ""
             }
            },
            "type": "scattergl"
           }
          ],
          "scattermapbox": [
           {
            "marker": {
             "colorbar": {
              "outlinewidth": 0,
              "ticks": ""
             }
            },
            "type": "scattermapbox"
           }
          ],
          "scatterpolar": [
           {
            "marker": {
             "colorbar": {
              "outlinewidth": 0,
              "ticks": ""
             }
            },
            "type": "scatterpolar"
           }
          ],
          "scatterpolargl": [
           {
            "marker": {
             "colorbar": {
              "outlinewidth": 0,
              "ticks": ""
             }
            },
            "type": "scatterpolargl"
           }
          ],
          "scatterternary": [
           {
            "marker": {
             "colorbar": {
              "outlinewidth": 0,
              "ticks": ""
             }
            },
            "type": "scatterternary"
           }
          ],
          "surface": [
           {
            "colorbar": {
             "outlinewidth": 0,
             "ticks": ""
            },
            "colorscale": [
             [
              0,
              "#0d0887"
             ],
             [
              0.1111111111111111,
              "#46039f"
             ],
             [
              0.2222222222222222,
              "#7201a8"
             ],
             [
              0.3333333333333333,
              "#9c179e"
             ],
             [
              0.4444444444444444,
              "#bd3786"
             ],
             [
              0.5555555555555556,
              "#d8576b"
             ],
             [
              0.6666666666666666,
              "#ed7953"
             ],
             [
              0.7777777777777778,
              "#fb9f3a"
             ],
             [
              0.8888888888888888,
              "#fdca26"
             ],
             [
              1,
              "#f0f921"
             ]
            ],
            "type": "surface"
           }
          ],
          "table": [
           {
            "cells": {
             "fill": {
              "color": "#EBF0F8"
             },
             "line": {
              "color": "white"
             }
            },
            "header": {
             "fill": {
              "color": "#C8D4E3"
             },
             "line": {
              "color": "white"
             }
            },
            "type": "table"
           }
          ]
         },
         "layout": {
          "annotationdefaults": {
           "arrowcolor": "#2a3f5f",
           "arrowhead": 0,
           "arrowwidth": 1
          },
          "coloraxis": {
           "colorbar": {
            "outlinewidth": 0,
            "ticks": ""
           }
          },
          "colorscale": {
           "diverging": [
            [
             0,
             "#8e0152"
            ],
            [
             0.1,
             "#c51b7d"
            ],
            [
             0.2,
             "#de77ae"
            ],
            [
             0.3,
             "#f1b6da"
            ],
            [
             0.4,
             "#fde0ef"
            ],
            [
             0.5,
             "#f7f7f7"
            ],
            [
             0.6,
             "#e6f5d0"
            ],
            [
             0.7,
             "#b8e186"
            ],
            [
             0.8,
             "#7fbc41"
            ],
            [
             0.9,
             "#4d9221"
            ],
            [
             1,
             "#276419"
            ]
           ],
           "sequential": [
            [
             0,
             "#0d0887"
            ],
            [
             0.1111111111111111,
             "#46039f"
            ],
            [
             0.2222222222222222,
             "#7201a8"
            ],
            [
             0.3333333333333333,
             "#9c179e"
            ],
            [
             0.4444444444444444,
             "#bd3786"
            ],
            [
             0.5555555555555556,
             "#d8576b"
            ],
            [
             0.6666666666666666,
             "#ed7953"
            ],
            [
             0.7777777777777778,
             "#fb9f3a"
            ],
            [
             0.8888888888888888,
             "#fdca26"
            ],
            [
             1,
             "#f0f921"
            ]
           ],
           "sequentialminus": [
            [
             0,
             "#0d0887"
            ],
            [
             0.1111111111111111,
             "#46039f"
            ],
            [
             0.2222222222222222,
             "#7201a8"
            ],
            [
             0.3333333333333333,
             "#9c179e"
            ],
            [
             0.4444444444444444,
             "#bd3786"
            ],
            [
             0.5555555555555556,
             "#d8576b"
            ],
            [
             0.6666666666666666,
             "#ed7953"
            ],
            [
             0.7777777777777778,
             "#fb9f3a"
            ],
            [
             0.8888888888888888,
             "#fdca26"
            ],
            [
             1,
             "#f0f921"
            ]
           ]
          },
          "colorway": [
           "#636efa",
           "#EF553B",
           "#00cc96",
           "#ab63fa",
           "#FFA15A",
           "#19d3f3",
           "#FF6692",
           "#B6E880",
           "#FF97FF",
           "#FECB52"
          ],
          "font": {
           "color": "#2a3f5f"
          },
          "geo": {
           "bgcolor": "white",
           "lakecolor": "white",
           "landcolor": "#E5ECF6",
           "showlakes": true,
           "showland": true,
           "subunitcolor": "white"
          },
          "hoverlabel": {
           "align": "left"
          },
          "hovermode": "closest",
          "mapbox": {
           "style": "light"
          },
          "paper_bgcolor": "white",
          "plot_bgcolor": "#E5ECF6",
          "polar": {
           "angularaxis": {
            "gridcolor": "white",
            "linecolor": "white",
            "ticks": ""
           },
           "bgcolor": "#E5ECF6",
           "radialaxis": {
            "gridcolor": "white",
            "linecolor": "white",
            "ticks": ""
           }
          },
          "scene": {
           "xaxis": {
            "backgroundcolor": "#E5ECF6",
            "gridcolor": "white",
            "gridwidth": 2,
            "linecolor": "white",
            "showbackground": true,
            "ticks": "",
            "zerolinecolor": "white"
           },
           "yaxis": {
            "backgroundcolor": "#E5ECF6",
            "gridcolor": "white",
            "gridwidth": 2,
            "linecolor": "white",
            "showbackground": true,
            "ticks": "",
            "zerolinecolor": "white"
           },
           "zaxis": {
            "backgroundcolor": "#E5ECF6",
            "gridcolor": "white",
            "gridwidth": 2,
            "linecolor": "white",
            "showbackground": true,
            "ticks": "",
            "zerolinecolor": "white"
           }
          },
          "shapedefaults": {
           "line": {
            "color": "#2a3f5f"
           }
          },
          "ternary": {
           "aaxis": {
            "gridcolor": "white",
            "linecolor": "white",
            "ticks": ""
           },
           "baxis": {
            "gridcolor": "white",
            "linecolor": "white",
            "ticks": ""
           },
           "bgcolor": "#E5ECF6",
           "caxis": {
            "gridcolor": "white",
            "linecolor": "white",
            "ticks": ""
           }
          },
          "title": {
           "x": 0.05
          },
          "xaxis": {
           "automargin": true,
           "gridcolor": "white",
           "linecolor": "white",
           "ticks": "",
           "title": {
            "standoff": 15
           },
           "zerolinecolor": "white",
           "zerolinewidth": 2
          },
          "yaxis": {
           "automargin": true,
           "gridcolor": "white",
           "linecolor": "white",
           "ticks": "",
           "title": {
            "standoff": 15
           },
           "zerolinecolor": "white",
           "zerolinewidth": 2
          }
         }
        },
        "xaxis": {
         "categoryorder": "category ascending"
        }
       }
      },
      "text/html": [
       "<div>\n",
       "        \n",
       "        \n",
       "            <div id=\"fdad34ac-e002-4465-8525-14822823b915\" class=\"plotly-graph-div\" style=\"height:525px; width:100%;\"></div>\n",
       "            <script type=\"text/javascript\">\n",
       "                require([\"plotly\"], function(Plotly) {\n",
       "                    window.PLOTLYENV=window.PLOTLYENV || {};\n",
       "                    \n",
       "                if (document.getElementById(\"fdad34ac-e002-4465-8525-14822823b915\")) {\n",
       "                    Plotly.newPlot(\n",
       "                        'fdad34ac-e002-4465-8525-14822823b915',\n",
       "                        [{\"name\": \"AGG\", \"type\": \"bar\", \"x\": [\"2015 Q1\", \"2015 Q1\", \"2015 Q2\", \"2015 Q2\", \"2015 Q2\", \"2015 Q3\", \"2015 Q3\", \"2015 Q3\", \"2015 Q4\", \"2015 Q4\", \"2015 Q4\", \"2015 Q4\", \"2016 Q1\", \"2016 Q1\", \"2016 Q2\", \"2016 Q2\", \"2016 Q2\", \"2016 Q3\", \"2016 Q3\", \"2016 Q3\", \"2016 Q4\", \"2016 Q4\", \"2016 Q4\", \"2016 Q4\", \"2017 Q1\", \"2017 Q1\", \"2017 Q2\", \"2017 Q2\", \"2017 Q2\", \"2017 Q3\", \"2017 Q3\", \"2017 Q3\", \"2017 Q4\", \"2017 Q4\", \"2017 Q4\", \"2017 Q4\", \"2018 Q1\", \"2018 Q1\", \"2018 Q2\", \"2018 Q2\", \"2018 Q2\", \"2018 Q3\", \"2018 Q3\", \"2018 Q3\", \"2018 Q4\", \"2018 Q4\", \"2018 Q4\", \"2018 Q4\", \"2019 Q1\", \"2019 Q1\", \"2019 Q2\", \"2019 Q2\", \"2019 Q2\", \"2019 Q3\", \"2019 Q3\", \"2019 Q3\", \"2019 Q4\", \"2019 Q4\", \"2019 Q4\", \"2019 Q4\", \"2020 Q1\", \"2020 Q1\", \"2020 Q2\"], \"y\": [0.04, 0.27, 0.56, 0.79, 1.08, 1.44, 1.87, 2.27, 2.4, 2.83, 5.44, 3.6, 4.29, 4.55, 4.96, 4.96, 5.67, 6.08, 6.31, 6.65, 6.79, 7.34, 7.64, 9.56, 8.96, 9.44, 9.68, 10.63, 10.51, 10.47, 10.89, 11.09, 11.22, 11.64, 12.56, 2.0, 14.24, 14.37, 15.44, 15.84, 17.35, 16.52, 18.15, 16.81, 18.3, 40.63, 20.16, 17.0, 22.07, 22.21, 22.04, 22.1, 22.45, 21.99, 22.91, 23.42, 22.92, 22.89, 22.68, 17.71, 22.87, 22.55, 24.43]}, {\"name\": \"SPY\", \"type\": \"bar\", \"x\": [\"2015 Q1\", \"2015 Q2\", \"2015 Q3\", \"2015 Q4\", \"2016 Q1\", \"2016 Q2\", \"2016 Q3\", \"2016 Q4\", \"2017 Q1\", \"2017 Q2\", \"2017 Q3\", \"2017 Q4\", \"2018 Q1\", \"2018 Q2\", \"2018 Q3\", \"2018 Q4\", \"2019 Q1\", \"2019 Q2\", \"2019 Q3\", \"2019 Q4\", \"2020 Q1\"], \"y\": [1.03, 3.62, 6.01, 10.44, 12.15, 16.13, 18.97, 27.14, 23.41, 28.38, 31.02, 37.87, 33.71, 42.46, 45.89, 54.21, 47.88, 57.26, 56.88, 66.19, 62.04]}, {\"name\": \"Wellington\", \"type\": \"bar\", \"x\": [\"2015 Q1\", \"2015 Q2\", \"2015 Q3\", \"2015 Q4\", \"2016 Q1\", \"2016 Q2\", \"2016 Q3\", \"2016 Q4\", \"2017 Q1\", \"2017 Q2\", \"2017 Q3\", \"2017 Q4\", \"2018 Q1\", \"2018 Q2\", \"2018 Q3\", \"2018 Q4\", \"2019 Q1\", \"2019 Q2\", \"2019 Q3\", \"2019 Q4\", \"2020 Q1\"], \"y\": [1.73, 4.52, 7.48, 79.45, 14.47, 20.8, 23.75, 115.67, 30.69, 37.09, 35.72, 326.32, 43.25, 62.92, 57.68, 663.34, 64.89, 72.0, 71.25, 346.57, 79.6]}, {\"name\": \"Puritan\", \"type\": \"bar\", \"x\": [\"2015 Q2\", \"2015 Q3\", \"2015 Q3\", \"2015 Q4\", \"2016 Q2\", \"2016 Q3\", \"2016 Q4\", \"2016 Q4\", \"2016 Q4\", \"2017 Q2\", \"2017 Q3\", \"2017 Q4\", \"2017 Q4\", \"2018 Q2\", \"2018 Q3\", \"2018 Q4\", \"2018 Q4\", \"2019 Q2\", \"2019 Q3\", \"2019 Q4\", \"2019 Q4\", \"2020 Q2\"], \"y\": [1.06, 6.86, 72.3, 5.84, 11.8, 11.5, 48.18, 53.91, 7.97, 17.2, 21.13, 137.72, 73.55, 27.62, 29.27, 547.73, 477.1, 34.34, 36.53, 228.19, 112.55, 34.39]}],\n",
       "                        {\"barmode\": \"stack\", \"template\": {\"data\": {\"bar\": [{\"error_x\": {\"color\": \"#2a3f5f\"}, \"error_y\": {\"color\": \"#2a3f5f\"}, \"marker\": {\"line\": {\"color\": \"#E5ECF6\", \"width\": 0.5}}, \"type\": \"bar\"}], \"barpolar\": [{\"marker\": {\"line\": {\"color\": \"#E5ECF6\", \"width\": 0.5}}, \"type\": \"barpolar\"}], \"carpet\": [{\"aaxis\": {\"endlinecolor\": \"#2a3f5f\", \"gridcolor\": \"white\", \"linecolor\": \"white\", \"minorgridcolor\": \"white\", \"startlinecolor\": \"#2a3f5f\"}, \"baxis\": {\"endlinecolor\": \"#2a3f5f\", \"gridcolor\": \"white\", \"linecolor\": \"white\", \"minorgridcolor\": \"white\", \"startlinecolor\": \"#2a3f5f\"}, \"type\": \"carpet\"}], \"choropleth\": [{\"colorbar\": {\"outlinewidth\": 0, \"ticks\": \"\"}, \"type\": \"choropleth\"}], \"contour\": [{\"colorbar\": {\"outlinewidth\": 0, \"ticks\": \"\"}, \"colorscale\": [[0.0, \"#0d0887\"], [0.1111111111111111, \"#46039f\"], [0.2222222222222222, \"#7201a8\"], [0.3333333333333333, \"#9c179e\"], [0.4444444444444444, \"#bd3786\"], [0.5555555555555556, \"#d8576b\"], [0.6666666666666666, \"#ed7953\"], [0.7777777777777778, \"#fb9f3a\"], [0.8888888888888888, \"#fdca26\"], [1.0, \"#f0f921\"]], \"type\": \"contour\"}], \"contourcarpet\": [{\"colorbar\": {\"outlinewidth\": 0, \"ticks\": \"\"}, \"type\": \"contourcarpet\"}], \"heatmap\": [{\"colorbar\": {\"outlinewidth\": 0, \"ticks\": \"\"}, \"colorscale\": [[0.0, \"#0d0887\"], [0.1111111111111111, \"#46039f\"], [0.2222222222222222, \"#7201a8\"], [0.3333333333333333, \"#9c179e\"], [0.4444444444444444, \"#bd3786\"], [0.5555555555555556, \"#d8576b\"], [0.6666666666666666, \"#ed7953\"], [0.7777777777777778, \"#fb9f3a\"], [0.8888888888888888, \"#fdca26\"], [1.0, \"#f0f921\"]], \"type\": \"heatmap\"}], \"heatmapgl\": [{\"colorbar\": {\"outlinewidth\": 0, \"ticks\": \"\"}, \"colorscale\": [[0.0, \"#0d0887\"], [0.1111111111111111, \"#46039f\"], [0.2222222222222222, \"#7201a8\"], [0.3333333333333333, \"#9c179e\"], [0.4444444444444444, \"#bd3786\"], [0.5555555555555556, \"#d8576b\"], [0.6666666666666666, \"#ed7953\"], [0.7777777777777778, \"#fb9f3a\"], [0.8888888888888888, \"#fdca26\"], [1.0, \"#f0f921\"]], \"type\": \"heatmapgl\"}], \"histogram\": [{\"marker\": {\"colorbar\": {\"outlinewidth\": 0, \"ticks\": \"\"}}, \"type\": \"histogram\"}], \"histogram2d\": [{\"colorbar\": {\"outlinewidth\": 0, \"ticks\": \"\"}, \"colorscale\": [[0.0, \"#0d0887\"], [0.1111111111111111, \"#46039f\"], [0.2222222222222222, \"#7201a8\"], [0.3333333333333333, \"#9c179e\"], [0.4444444444444444, \"#bd3786\"], [0.5555555555555556, \"#d8576b\"], [0.6666666666666666, \"#ed7953\"], [0.7777777777777778, \"#fb9f3a\"], [0.8888888888888888, \"#fdca26\"], [1.0, \"#f0f921\"]], \"type\": \"histogram2d\"}], \"histogram2dcontour\": [{\"colorbar\": {\"outlinewidth\": 0, \"ticks\": \"\"}, \"colorscale\": [[0.0, \"#0d0887\"], [0.1111111111111111, \"#46039f\"], [0.2222222222222222, \"#7201a8\"], [0.3333333333333333, \"#9c179e\"], [0.4444444444444444, \"#bd3786\"], [0.5555555555555556, \"#d8576b\"], [0.6666666666666666, \"#ed7953\"], [0.7777777777777778, \"#fb9f3a\"], [0.8888888888888888, \"#fdca26\"], [1.0, \"#f0f921\"]], \"type\": \"histogram2dcontour\"}], \"mesh3d\": [{\"colorbar\": {\"outlinewidth\": 0, \"ticks\": \"\"}, \"type\": \"mesh3d\"}], \"parcoords\": [{\"line\": {\"colorbar\": {\"outlinewidth\": 0, \"ticks\": \"\"}}, \"type\": \"parcoords\"}], \"pie\": [{\"automargin\": true, \"type\": \"pie\"}], \"scatter\": [{\"marker\": {\"colorbar\": {\"outlinewidth\": 0, \"ticks\": \"\"}}, \"type\": \"scatter\"}], \"scatter3d\": [{\"line\": {\"colorbar\": {\"outlinewidth\": 0, \"ticks\": \"\"}}, \"marker\": {\"colorbar\": {\"outlinewidth\": 0, \"ticks\": \"\"}}, \"type\": \"scatter3d\"}], \"scattercarpet\": [{\"marker\": {\"colorbar\": {\"outlinewidth\": 0, \"ticks\": \"\"}}, \"type\": \"scattercarpet\"}], \"scattergeo\": [{\"marker\": {\"colorbar\": {\"outlinewidth\": 0, \"ticks\": \"\"}}, \"type\": \"scattergeo\"}], \"scattergl\": [{\"marker\": {\"colorbar\": {\"outlinewidth\": 0, \"ticks\": \"\"}}, \"type\": \"scattergl\"}], \"scattermapbox\": [{\"marker\": {\"colorbar\": {\"outlinewidth\": 0, \"ticks\": \"\"}}, \"type\": \"scattermapbox\"}], \"scatterpolar\": [{\"marker\": {\"colorbar\": {\"outlinewidth\": 0, \"ticks\": \"\"}}, \"type\": \"scatterpolar\"}], \"scatterpolargl\": [{\"marker\": {\"colorbar\": {\"outlinewidth\": 0, \"ticks\": \"\"}}, \"type\": \"scatterpolargl\"}], \"scatterternary\": [{\"marker\": {\"colorbar\": {\"outlinewidth\": 0, \"ticks\": \"\"}}, \"type\": \"scatterternary\"}], \"surface\": [{\"colorbar\": {\"outlinewidth\": 0, \"ticks\": \"\"}, \"colorscale\": [[0.0, \"#0d0887\"], [0.1111111111111111, \"#46039f\"], [0.2222222222222222, \"#7201a8\"], [0.3333333333333333, \"#9c179e\"], [0.4444444444444444, \"#bd3786\"], [0.5555555555555556, \"#d8576b\"], [0.6666666666666666, \"#ed7953\"], [0.7777777777777778, \"#fb9f3a\"], [0.8888888888888888, \"#fdca26\"], [1.0, \"#f0f921\"]], \"type\": \"surface\"}], \"table\": [{\"cells\": {\"fill\": {\"color\": \"#EBF0F8\"}, \"line\": {\"color\": \"white\"}}, \"header\": {\"fill\": {\"color\": \"#C8D4E3\"}, \"line\": {\"color\": \"white\"}}, \"type\": \"table\"}]}, \"layout\": {\"annotationdefaults\": {\"arrowcolor\": \"#2a3f5f\", \"arrowhead\": 0, \"arrowwidth\": 1}, \"coloraxis\": {\"colorbar\": {\"outlinewidth\": 0, \"ticks\": \"\"}}, \"colorscale\": {\"diverging\": [[0, \"#8e0152\"], [0.1, \"#c51b7d\"], [0.2, \"#de77ae\"], [0.3, \"#f1b6da\"], [0.4, \"#fde0ef\"], [0.5, \"#f7f7f7\"], [0.6, \"#e6f5d0\"], [0.7, \"#b8e186\"], [0.8, \"#7fbc41\"], [0.9, \"#4d9221\"], [1, \"#276419\"]], \"sequential\": [[0.0, \"#0d0887\"], [0.1111111111111111, \"#46039f\"], [0.2222222222222222, \"#7201a8\"], [0.3333333333333333, \"#9c179e\"], [0.4444444444444444, \"#bd3786\"], [0.5555555555555556, \"#d8576b\"], [0.6666666666666666, \"#ed7953\"], [0.7777777777777778, \"#fb9f3a\"], [0.8888888888888888, \"#fdca26\"], [1.0, \"#f0f921\"]], \"sequentialminus\": [[0.0, \"#0d0887\"], [0.1111111111111111, \"#46039f\"], [0.2222222222222222, \"#7201a8\"], [0.3333333333333333, \"#9c179e\"], [0.4444444444444444, \"#bd3786\"], [0.5555555555555556, \"#d8576b\"], [0.6666666666666666, \"#ed7953\"], [0.7777777777777778, \"#fb9f3a\"], [0.8888888888888888, \"#fdca26\"], [1.0, \"#f0f921\"]]}, \"colorway\": [\"#636efa\", \"#EF553B\", \"#00cc96\", \"#ab63fa\", \"#FFA15A\", \"#19d3f3\", \"#FF6692\", \"#B6E880\", \"#FF97FF\", \"#FECB52\"], \"font\": {\"color\": \"#2a3f5f\"}, \"geo\": {\"bgcolor\": \"white\", \"lakecolor\": \"white\", \"landcolor\": \"#E5ECF6\", \"showlakes\": true, \"showland\": true, \"subunitcolor\": \"white\"}, \"hoverlabel\": {\"align\": \"left\"}, \"hovermode\": \"closest\", \"mapbox\": {\"style\": \"light\"}, \"paper_bgcolor\": \"white\", \"plot_bgcolor\": \"#E5ECF6\", \"polar\": {\"angularaxis\": {\"gridcolor\": \"white\", \"linecolor\": \"white\", \"ticks\": \"\"}, \"bgcolor\": \"#E5ECF6\", \"radialaxis\": {\"gridcolor\": \"white\", \"linecolor\": \"white\", \"ticks\": \"\"}}, \"scene\": {\"xaxis\": {\"backgroundcolor\": \"#E5ECF6\", \"gridcolor\": \"white\", \"gridwidth\": 2, \"linecolor\": \"white\", \"showbackground\": true, \"ticks\": \"\", \"zerolinecolor\": \"white\"}, \"yaxis\": {\"backgroundcolor\": \"#E5ECF6\", \"gridcolor\": \"white\", \"gridwidth\": 2, \"linecolor\": \"white\", \"showbackground\": true, \"ticks\": \"\", \"zerolinecolor\": \"white\"}, \"zaxis\": {\"backgroundcolor\": \"#E5ECF6\", \"gridcolor\": \"white\", \"gridwidth\": 2, \"linecolor\": \"white\", \"showbackground\": true, \"ticks\": \"\", \"zerolinecolor\": \"white\"}}, \"shapedefaults\": {\"line\": {\"color\": \"#2a3f5f\"}}, \"ternary\": {\"aaxis\": {\"gridcolor\": \"white\", \"linecolor\": \"white\", \"ticks\": \"\"}, \"baxis\": {\"gridcolor\": \"white\", \"linecolor\": \"white\", \"ticks\": \"\"}, \"bgcolor\": \"#E5ECF6\", \"caxis\": {\"gridcolor\": \"white\", \"linecolor\": \"white\", \"ticks\": \"\"}}, \"title\": {\"x\": 0.05}, \"xaxis\": {\"automargin\": true, \"gridcolor\": \"white\", \"linecolor\": \"white\", \"ticks\": \"\", \"title\": {\"standoff\": 15}, \"zerolinecolor\": \"white\", \"zerolinewidth\": 2}, \"yaxis\": {\"automargin\": true, \"gridcolor\": \"white\", \"linecolor\": \"white\", \"ticks\": \"\", \"title\": {\"standoff\": 15}, \"zerolinecolor\": \"white\", \"zerolinewidth\": 2}}}, \"xaxis\": {\"categoryorder\": \"category ascending\"}},\n",
       "                        {\"responsive\": true}\n",
       "                    ).then(function(){\n",
       "                            \n",
       "var gd = document.getElementById('fdad34ac-e002-4465-8525-14822823b915');\n",
       "var x = new MutationObserver(function (mutations, observer) {{\n",
       "        var display = window.getComputedStyle(gd).display;\n",
       "        if (!display || display === 'none') {{\n",
       "            console.log([gd, 'removed!']);\n",
       "            Plotly.purge(gd);\n",
       "            observer.disconnect();\n",
       "        }}\n",
       "}});\n",
       "\n",
       "// Listen for the removal of the full notebook cells\n",
       "var notebookContainer = gd.closest('#notebook-container');\n",
       "if (notebookContainer) {{\n",
       "    x.observe(notebookContainer, {childList: true});\n",
       "}}\n",
       "\n",
       "// Listen for the clearing of the current output cell\n",
       "var outputEl = gd.closest('.output');\n",
       "if (outputEl) {{\n",
       "    x.observe(outputEl, {childList: true});\n",
       "}}\n",
       "\n",
       "                        })\n",
       "                };\n",
       "                });\n",
       "            </script>\n",
       "        </div>"
      ]
     },
     "metadata": {},
     "output_type": "display_data"
    }
   ],
   "source": [
    "import plotly.graph_objects as go\n",
    "\n",
    "fig1 = go.Figure(go.Bar(x=agg_d.quarter, y=agg_d.principal, name='AGG'))\n",
    "fig1.add_trace(go.Bar(x=spy_d.quarter, y=spy_d.principal, name='SPY'))\n",
    "fig1.add_trace(go.Bar(x=well_d.quarter, y=well_d.principal, name='Wellington'))\n",
    "fig1.add_trace(go.Bar(x=puritan_d.quarter, y=puritan_d.principal, name='Puritan'))\n",
    "\n",
    "fig1.update_layout(barmode='stack', xaxis={'categoryorder':'category ascending'})\n",
    "fig1.show()"
   ]
  },
  {
   "cell_type": "code",
   "execution_count": 73,
   "metadata": {},
   "outputs": [
    {
     "data": {
      "application/vnd.plotly.v1+json": {
       "config": {
        "plotlyServerURL": "https://plot.ly"
       },
       "data": [
        {
         "name": "AGG",
         "type": "bar",
         "x": [
          "2015 Q1",
          "2015 Q2",
          "2015 Q3",
          "2015 Q4",
          "2016 Q1",
          "2016 Q2",
          "2016 Q3",
          "2016 Q4",
          "2017 Q1",
          "2017 Q2",
          "2017 Q3",
          "2017 Q4",
          "2018 Q1",
          "2018 Q2",
          "2018 Q3",
          "2018 Q4",
          "2019 Q1",
          "2019 Q2",
          "2019 Q3",
          "2019 Q4",
          "2020 Q1",
          "2020 Q2"
         ],
         "y": [
          294.01,
          438.53,
          548.48,
          588.32,
          569.54,
          705.34,
          535.24,
          645.43,
          460,
          318.52,
          320.14,
          788.8499999999998,
          738.97,
          911.8,
          51.480000000000004,
          942.7400000000001,
          273.2,
          343.65999999999997,
          300.27,
          395.03,
          551.8199999999999,
          74.43
         ]
        },
        {
         "name": "SPY",
         "type": "bar",
         "x": [
          "2015 Q1",
          "2015 Q2",
          "2015 Q3",
          "2015 Q4",
          "2016 Q1",
          "2016 Q2",
          "2016 Q3",
          "2016 Q4",
          "2017 Q1",
          "2017 Q2",
          "2017 Q3",
          "2017 Q4",
          "2018 Q1",
          "2018 Q2",
          "2018 Q3",
          "2018 Q4",
          "2019 Q1",
          "2019 Q2",
          "2019 Q3",
          "2019 Q4",
          "2020 Q1",
          "2020 Q2"
         ],
         "y": [
          294.73,
          439.72,
          548.9100000000001,
          584.49,
          572.85,
          705.8799999999999,
          535.1700000000001,
          641.24,
          465.01000000000005,
          316.08000000000004,
          318.71000000000004,
          789.2999999999998,
          744.0699999999999,
          905.6299999999999,
          45.89,
          900.8600000000002,
          276.79999999999995,
          334.33,
          288.83000000000004,
          375.02000000000004,
          568.4399999999999,
          50
         ]
        },
        {
         "name": "Wellington",
         "type": "bar",
         "x": [
          "2015 Q1",
          "2015 Q2",
          "2015 Q3",
          "2015 Q4",
          "2016 Q1",
          "2016 Q2",
          "2016 Q3",
          "2016 Q4",
          "2017 Q1",
          "2017 Q2",
          "2017 Q3",
          "2017 Q4",
          "2018 Q1",
          "2018 Q2",
          "2018 Q3",
          "2018 Q4",
          "2019 Q1",
          "2019 Q2",
          "2019 Q3",
          "2019 Q4",
          "2020 Q1",
          "2020 Q2"
         ],
         "y": [
          295.43,
          440.62,
          550.3800000000001,
          653.5000000000001,
          575.1700000000001,
          710.5499999999998,
          539.95,
          729.77,
          472.29,
          324.79,
          323.40999999999997,
          1077.75,
          753.6099999999999,
          926.0899999999999,
          57.68,
          1509.9900000000002,
          293.81,
          349.07,
          303.20000000000005,
          655.4000000000001,
          586,
          50
         ]
        },
        {
         "name": "Puritan",
         "type": "bar",
         "x": [
          "2015 Q1",
          "2015 Q2",
          "2015 Q3",
          "2015 Q4",
          "2016 Q1",
          "2016 Q2",
          "2016 Q3",
          "2016 Q4",
          "2017 Q1",
          "2017 Q2",
          "2017 Q3",
          "2017 Q4",
          "2018 Q1",
          "2018 Q2",
          "2018 Q3",
          "2018 Q4",
          "2019 Q1",
          "2019 Q2",
          "2019 Q3",
          "2019 Q4",
          "2020 Q1",
          "2020 Q2"
         ],
         "y": [
          293.7,
          437.15999999999997,
          622.0600000000001,
          579.89,
          560.7,
          701.55,
          527.7,
          724.1600000000001,
          441.6,
          304.90000000000003,
          308.82,
          962.6999999999998,
          710.3599999999999,
          890.79,
          29.27,
          1871.4799999999996,
          228.92,
          311.40999999999997,
          268.48,
          649.5699999999999,
          506.4,
          84.39
         ]
        }
       ],
       "layout": {
        "barmode": "stack",
        "template": {
         "data": {
          "bar": [
           {
            "error_x": {
             "color": "#2a3f5f"
            },
            "error_y": {
             "color": "#2a3f5f"
            },
            "marker": {
             "line": {
              "color": "#E5ECF6",
              "width": 0.5
             }
            },
            "type": "bar"
           }
          ],
          "barpolar": [
           {
            "marker": {
             "line": {
              "color": "#E5ECF6",
              "width": 0.5
             }
            },
            "type": "barpolar"
           }
          ],
          "carpet": [
           {
            "aaxis": {
             "endlinecolor": "#2a3f5f",
             "gridcolor": "white",
             "linecolor": "white",
             "minorgridcolor": "white",
             "startlinecolor": "#2a3f5f"
            },
            "baxis": {
             "endlinecolor": "#2a3f5f",
             "gridcolor": "white",
             "linecolor": "white",
             "minorgridcolor": "white",
             "startlinecolor": "#2a3f5f"
            },
            "type": "carpet"
           }
          ],
          "choropleth": [
           {
            "colorbar": {
             "outlinewidth": 0,
             "ticks": ""
            },
            "type": "choropleth"
           }
          ],
          "contour": [
           {
            "colorbar": {
             "outlinewidth": 0,
             "ticks": ""
            },
            "colorscale": [
             [
              0,
              "#0d0887"
             ],
             [
              0.1111111111111111,
              "#46039f"
             ],
             [
              0.2222222222222222,
              "#7201a8"
             ],
             [
              0.3333333333333333,
              "#9c179e"
             ],
             [
              0.4444444444444444,
              "#bd3786"
             ],
             [
              0.5555555555555556,
              "#d8576b"
             ],
             [
              0.6666666666666666,
              "#ed7953"
             ],
             [
              0.7777777777777778,
              "#fb9f3a"
             ],
             [
              0.8888888888888888,
              "#fdca26"
             ],
             [
              1,
              "#f0f921"
             ]
            ],
            "type": "contour"
           }
          ],
          "contourcarpet": [
           {
            "colorbar": {
             "outlinewidth": 0,
             "ticks": ""
            },
            "type": "contourcarpet"
           }
          ],
          "heatmap": [
           {
            "colorbar": {
             "outlinewidth": 0,
             "ticks": ""
            },
            "colorscale": [
             [
              0,
              "#0d0887"
             ],
             [
              0.1111111111111111,
              "#46039f"
             ],
             [
              0.2222222222222222,
              "#7201a8"
             ],
             [
              0.3333333333333333,
              "#9c179e"
             ],
             [
              0.4444444444444444,
              "#bd3786"
             ],
             [
              0.5555555555555556,
              "#d8576b"
             ],
             [
              0.6666666666666666,
              "#ed7953"
             ],
             [
              0.7777777777777778,
              "#fb9f3a"
             ],
             [
              0.8888888888888888,
              "#fdca26"
             ],
             [
              1,
              "#f0f921"
             ]
            ],
            "type": "heatmap"
           }
          ],
          "heatmapgl": [
           {
            "colorbar": {
             "outlinewidth": 0,
             "ticks": ""
            },
            "colorscale": [
             [
              0,
              "#0d0887"
             ],
             [
              0.1111111111111111,
              "#46039f"
             ],
             [
              0.2222222222222222,
              "#7201a8"
             ],
             [
              0.3333333333333333,
              "#9c179e"
             ],
             [
              0.4444444444444444,
              "#bd3786"
             ],
             [
              0.5555555555555556,
              "#d8576b"
             ],
             [
              0.6666666666666666,
              "#ed7953"
             ],
             [
              0.7777777777777778,
              "#fb9f3a"
             ],
             [
              0.8888888888888888,
              "#fdca26"
             ],
             [
              1,
              "#f0f921"
             ]
            ],
            "type": "heatmapgl"
           }
          ],
          "histogram": [
           {
            "marker": {
             "colorbar": {
              "outlinewidth": 0,
              "ticks": ""
             }
            },
            "type": "histogram"
           }
          ],
          "histogram2d": [
           {
            "colorbar": {
             "outlinewidth": 0,
             "ticks": ""
            },
            "colorscale": [
             [
              0,
              "#0d0887"
             ],
             [
              0.1111111111111111,
              "#46039f"
             ],
             [
              0.2222222222222222,
              "#7201a8"
             ],
             [
              0.3333333333333333,
              "#9c179e"
             ],
             [
              0.4444444444444444,
              "#bd3786"
             ],
             [
              0.5555555555555556,
              "#d8576b"
             ],
             [
              0.6666666666666666,
              "#ed7953"
             ],
             [
              0.7777777777777778,
              "#fb9f3a"
             ],
             [
              0.8888888888888888,
              "#fdca26"
             ],
             [
              1,
              "#f0f921"
             ]
            ],
            "type": "histogram2d"
           }
          ],
          "histogram2dcontour": [
           {
            "colorbar": {
             "outlinewidth": 0,
             "ticks": ""
            },
            "colorscale": [
             [
              0,
              "#0d0887"
             ],
             [
              0.1111111111111111,
              "#46039f"
             ],
             [
              0.2222222222222222,
              "#7201a8"
             ],
             [
              0.3333333333333333,
              "#9c179e"
             ],
             [
              0.4444444444444444,
              "#bd3786"
             ],
             [
              0.5555555555555556,
              "#d8576b"
             ],
             [
              0.6666666666666666,
              "#ed7953"
             ],
             [
              0.7777777777777778,
              "#fb9f3a"
             ],
             [
              0.8888888888888888,
              "#fdca26"
             ],
             [
              1,
              "#f0f921"
             ]
            ],
            "type": "histogram2dcontour"
           }
          ],
          "mesh3d": [
           {
            "colorbar": {
             "outlinewidth": 0,
             "ticks": ""
            },
            "type": "mesh3d"
           }
          ],
          "parcoords": [
           {
            "line": {
             "colorbar": {
              "outlinewidth": 0,
              "ticks": ""
             }
            },
            "type": "parcoords"
           }
          ],
          "pie": [
           {
            "automargin": true,
            "type": "pie"
           }
          ],
          "scatter": [
           {
            "marker": {
             "colorbar": {
              "outlinewidth": 0,
              "ticks": ""
             }
            },
            "type": "scatter"
           }
          ],
          "scatter3d": [
           {
            "line": {
             "colorbar": {
              "outlinewidth": 0,
              "ticks": ""
             }
            },
            "marker": {
             "colorbar": {
              "outlinewidth": 0,
              "ticks": ""
             }
            },
            "type": "scatter3d"
           }
          ],
          "scattercarpet": [
           {
            "marker": {
             "colorbar": {
              "outlinewidth": 0,
              "ticks": ""
             }
            },
            "type": "scattercarpet"
           }
          ],
          "scattergeo": [
           {
            "marker": {
             "colorbar": {
              "outlinewidth": 0,
              "ticks": ""
             }
            },
            "type": "scattergeo"
           }
          ],
          "scattergl": [
           {
            "marker": {
             "colorbar": {
              "outlinewidth": 0,
              "ticks": ""
             }
            },
            "type": "scattergl"
           }
          ],
          "scattermapbox": [
           {
            "marker": {
             "colorbar": {
              "outlinewidth": 0,
              "ticks": ""
             }
            },
            "type": "scattermapbox"
           }
          ],
          "scatterpolar": [
           {
            "marker": {
             "colorbar": {
              "outlinewidth": 0,
              "ticks": ""
             }
            },
            "type": "scatterpolar"
           }
          ],
          "scatterpolargl": [
           {
            "marker": {
             "colorbar": {
              "outlinewidth": 0,
              "ticks": ""
             }
            },
            "type": "scatterpolargl"
           }
          ],
          "scatterternary": [
           {
            "marker": {
             "colorbar": {
              "outlinewidth": 0,
              "ticks": ""
             }
            },
            "type": "scatterternary"
           }
          ],
          "surface": [
           {
            "colorbar": {
             "outlinewidth": 0,
             "ticks": ""
            },
            "colorscale": [
             [
              0,
              "#0d0887"
             ],
             [
              0.1111111111111111,
              "#46039f"
             ],
             [
              0.2222222222222222,
              "#7201a8"
             ],
             [
              0.3333333333333333,
              "#9c179e"
             ],
             [
              0.4444444444444444,
              "#bd3786"
             ],
             [
              0.5555555555555556,
              "#d8576b"
             ],
             [
              0.6666666666666666,
              "#ed7953"
             ],
             [
              0.7777777777777778,
              "#fb9f3a"
             ],
             [
              0.8888888888888888,
              "#fdca26"
             ],
             [
              1,
              "#f0f921"
             ]
            ],
            "type": "surface"
           }
          ],
          "table": [
           {
            "cells": {
             "fill": {
              "color": "#EBF0F8"
             },
             "line": {
              "color": "white"
             }
            },
            "header": {
             "fill": {
              "color": "#C8D4E3"
             },
             "line": {
              "color": "white"
             }
            },
            "type": "table"
           }
          ]
         },
         "layout": {
          "annotationdefaults": {
           "arrowcolor": "#2a3f5f",
           "arrowhead": 0,
           "arrowwidth": 1
          },
          "coloraxis": {
           "colorbar": {
            "outlinewidth": 0,
            "ticks": ""
           }
          },
          "colorscale": {
           "diverging": [
            [
             0,
             "#8e0152"
            ],
            [
             0.1,
             "#c51b7d"
            ],
            [
             0.2,
             "#de77ae"
            ],
            [
             0.3,
             "#f1b6da"
            ],
            [
             0.4,
             "#fde0ef"
            ],
            [
             0.5,
             "#f7f7f7"
            ],
            [
             0.6,
             "#e6f5d0"
            ],
            [
             0.7,
             "#b8e186"
            ],
            [
             0.8,
             "#7fbc41"
            ],
            [
             0.9,
             "#4d9221"
            ],
            [
             1,
             "#276419"
            ]
           ],
           "sequential": [
            [
             0,
             "#0d0887"
            ],
            [
             0.1111111111111111,
             "#46039f"
            ],
            [
             0.2222222222222222,
             "#7201a8"
            ],
            [
             0.3333333333333333,
             "#9c179e"
            ],
            [
             0.4444444444444444,
             "#bd3786"
            ],
            [
             0.5555555555555556,
             "#d8576b"
            ],
            [
             0.6666666666666666,
             "#ed7953"
            ],
            [
             0.7777777777777778,
             "#fb9f3a"
            ],
            [
             0.8888888888888888,
             "#fdca26"
            ],
            [
             1,
             "#f0f921"
            ]
           ],
           "sequentialminus": [
            [
             0,
             "#0d0887"
            ],
            [
             0.1111111111111111,
             "#46039f"
            ],
            [
             0.2222222222222222,
             "#7201a8"
            ],
            [
             0.3333333333333333,
             "#9c179e"
            ],
            [
             0.4444444444444444,
             "#bd3786"
            ],
            [
             0.5555555555555556,
             "#d8576b"
            ],
            [
             0.6666666666666666,
             "#ed7953"
            ],
            [
             0.7777777777777778,
             "#fb9f3a"
            ],
            [
             0.8888888888888888,
             "#fdca26"
            ],
            [
             1,
             "#f0f921"
            ]
           ]
          },
          "colorway": [
           "#636efa",
           "#EF553B",
           "#00cc96",
           "#ab63fa",
           "#FFA15A",
           "#19d3f3",
           "#FF6692",
           "#B6E880",
           "#FF97FF",
           "#FECB52"
          ],
          "font": {
           "color": "#2a3f5f"
          },
          "geo": {
           "bgcolor": "white",
           "lakecolor": "white",
           "landcolor": "#E5ECF6",
           "showlakes": true,
           "showland": true,
           "subunitcolor": "white"
          },
          "hoverlabel": {
           "align": "left"
          },
          "hovermode": "closest",
          "mapbox": {
           "style": "light"
          },
          "paper_bgcolor": "white",
          "plot_bgcolor": "#E5ECF6",
          "polar": {
           "angularaxis": {
            "gridcolor": "white",
            "linecolor": "white",
            "ticks": ""
           },
           "bgcolor": "#E5ECF6",
           "radialaxis": {
            "gridcolor": "white",
            "linecolor": "white",
            "ticks": ""
           }
          },
          "scene": {
           "xaxis": {
            "backgroundcolor": "#E5ECF6",
            "gridcolor": "white",
            "gridwidth": 2,
            "linecolor": "white",
            "showbackground": true,
            "ticks": "",
            "zerolinecolor": "white"
           },
           "yaxis": {
            "backgroundcolor": "#E5ECF6",
            "gridcolor": "white",
            "gridwidth": 2,
            "linecolor": "white",
            "showbackground": true,
            "ticks": "",
            "zerolinecolor": "white"
           },
           "zaxis": {
            "backgroundcolor": "#E5ECF6",
            "gridcolor": "white",
            "gridwidth": 2,
            "linecolor": "white",
            "showbackground": true,
            "ticks": "",
            "zerolinecolor": "white"
           }
          },
          "shapedefaults": {
           "line": {
            "color": "#2a3f5f"
           }
          },
          "ternary": {
           "aaxis": {
            "gridcolor": "white",
            "linecolor": "white",
            "ticks": ""
           },
           "baxis": {
            "gridcolor": "white",
            "linecolor": "white",
            "ticks": ""
           },
           "bgcolor": "#E5ECF6",
           "caxis": {
            "gridcolor": "white",
            "linecolor": "white",
            "ticks": ""
           }
          },
          "title": {
           "x": 0.05
          },
          "xaxis": {
           "automargin": true,
           "gridcolor": "white",
           "linecolor": "white",
           "ticks": "",
           "title": {
            "standoff": 15
           },
           "zerolinecolor": "white",
           "zerolinewidth": 2
          },
          "yaxis": {
           "automargin": true,
           "gridcolor": "white",
           "linecolor": "white",
           "ticks": "",
           "title": {
            "standoff": 15
           },
           "zerolinecolor": "white",
           "zerolinewidth": 2
          }
         }
        },
        "xaxis": {
         "categoryorder": "category ascending"
        }
       }
      },
      "text/html": [
       "<div>\n",
       "        \n",
       "        \n",
       "            <div id=\"96c57dbd-0b1d-4440-ada2-a1b501409d7f\" class=\"plotly-graph-div\" style=\"height:525px; width:100%;\"></div>\n",
       "            <script type=\"text/javascript\">\n",
       "                require([\"plotly\"], function(Plotly) {\n",
       "                    window.PLOTLYENV=window.PLOTLYENV || {};\n",
       "                    \n",
       "                if (document.getElementById(\"96c57dbd-0b1d-4440-ada2-a1b501409d7f\")) {\n",
       "                    Plotly.newPlot(\n",
       "                        '96c57dbd-0b1d-4440-ada2-a1b501409d7f',\n",
       "                        [{\"name\": \"AGG\", \"type\": \"bar\", \"x\": [\"2015 Q1\", \"2015 Q2\", \"2015 Q3\", \"2015 Q4\", \"2016 Q1\", \"2016 Q2\", \"2016 Q3\", \"2016 Q4\", \"2017 Q1\", \"2017 Q2\", \"2017 Q3\", \"2017 Q4\", \"2018 Q1\", \"2018 Q2\", \"2018 Q3\", \"2018 Q4\", \"2019 Q1\", \"2019 Q2\", \"2019 Q3\", \"2019 Q4\", \"2020 Q1\", \"2020 Q2\"], \"y\": [294.01, 438.53, 548.48, 588.32, 569.54, 705.34, 535.24, 645.43, 460.0, 318.52, 320.14, 788.8499999999998, 738.97, 911.8, 51.480000000000004, 942.7400000000001, 273.2, 343.65999999999997, 300.27, 395.03, 551.8199999999999, 74.43]}, {\"name\": \"SPY\", \"type\": \"bar\", \"x\": [\"2015 Q1\", \"2015 Q2\", \"2015 Q3\", \"2015 Q4\", \"2016 Q1\", \"2016 Q2\", \"2016 Q3\", \"2016 Q4\", \"2017 Q1\", \"2017 Q2\", \"2017 Q3\", \"2017 Q4\", \"2018 Q1\", \"2018 Q2\", \"2018 Q3\", \"2018 Q4\", \"2019 Q1\", \"2019 Q2\", \"2019 Q3\", \"2019 Q4\", \"2020 Q1\", \"2020 Q2\"], \"y\": [294.73, 439.72, 548.9100000000001, 584.49, 572.85, 705.8799999999999, 535.1700000000001, 641.24, 465.01000000000005, 316.08000000000004, 318.71000000000004, 789.2999999999998, 744.0699999999999, 905.6299999999999, 45.89, 900.8600000000002, 276.79999999999995, 334.33, 288.83000000000004, 375.02000000000004, 568.4399999999999, 50.0]}, {\"name\": \"Wellington\", \"type\": \"bar\", \"x\": [\"2015 Q1\", \"2015 Q2\", \"2015 Q3\", \"2015 Q4\", \"2016 Q1\", \"2016 Q2\", \"2016 Q3\", \"2016 Q4\", \"2017 Q1\", \"2017 Q2\", \"2017 Q3\", \"2017 Q4\", \"2018 Q1\", \"2018 Q2\", \"2018 Q3\", \"2018 Q4\", \"2019 Q1\", \"2019 Q2\", \"2019 Q3\", \"2019 Q4\", \"2020 Q1\", \"2020 Q2\"], \"y\": [295.43, 440.62, 550.3800000000001, 653.5000000000001, 575.1700000000001, 710.5499999999998, 539.95, 729.77, 472.29, 324.79, 323.40999999999997, 1077.75, 753.6099999999999, 926.0899999999999, 57.68, 1509.9900000000002, 293.81, 349.07, 303.20000000000005, 655.4000000000001, 586.0, 50.0]}, {\"name\": \"Puritan\", \"type\": \"bar\", \"x\": [\"2015 Q1\", \"2015 Q2\", \"2015 Q3\", \"2015 Q4\", \"2016 Q1\", \"2016 Q2\", \"2016 Q3\", \"2016 Q4\", \"2017 Q1\", \"2017 Q2\", \"2017 Q3\", \"2017 Q4\", \"2018 Q1\", \"2018 Q2\", \"2018 Q3\", \"2018 Q4\", \"2019 Q1\", \"2019 Q2\", \"2019 Q3\", \"2019 Q4\", \"2020 Q1\", \"2020 Q2\"], \"y\": [293.7, 437.15999999999997, 622.0600000000001, 579.89, 560.7, 701.55, 527.7, 724.1600000000001, 441.6, 304.90000000000003, 308.82, 962.6999999999998, 710.3599999999999, 890.79, 29.27, 1871.4799999999996, 228.92, 311.40999999999997, 268.48, 649.5699999999999, 506.4, 84.39]}],\n",
       "                        {\"barmode\": \"stack\", \"template\": {\"data\": {\"bar\": [{\"error_x\": {\"color\": \"#2a3f5f\"}, \"error_y\": {\"color\": \"#2a3f5f\"}, \"marker\": {\"line\": {\"color\": \"#E5ECF6\", \"width\": 0.5}}, \"type\": \"bar\"}], \"barpolar\": [{\"marker\": {\"line\": {\"color\": \"#E5ECF6\", \"width\": 0.5}}, \"type\": \"barpolar\"}], \"carpet\": [{\"aaxis\": {\"endlinecolor\": \"#2a3f5f\", \"gridcolor\": \"white\", \"linecolor\": \"white\", \"minorgridcolor\": \"white\", \"startlinecolor\": \"#2a3f5f\"}, \"baxis\": {\"endlinecolor\": \"#2a3f5f\", \"gridcolor\": \"white\", \"linecolor\": \"white\", \"minorgridcolor\": \"white\", \"startlinecolor\": \"#2a3f5f\"}, \"type\": \"carpet\"}], \"choropleth\": [{\"colorbar\": {\"outlinewidth\": 0, \"ticks\": \"\"}, \"type\": \"choropleth\"}], \"contour\": [{\"colorbar\": {\"outlinewidth\": 0, \"ticks\": \"\"}, \"colorscale\": [[0.0, \"#0d0887\"], [0.1111111111111111, \"#46039f\"], [0.2222222222222222, \"#7201a8\"], [0.3333333333333333, \"#9c179e\"], [0.4444444444444444, \"#bd3786\"], [0.5555555555555556, \"#d8576b\"], [0.6666666666666666, \"#ed7953\"], [0.7777777777777778, \"#fb9f3a\"], [0.8888888888888888, \"#fdca26\"], [1.0, \"#f0f921\"]], \"type\": \"contour\"}], \"contourcarpet\": [{\"colorbar\": {\"outlinewidth\": 0, \"ticks\": \"\"}, \"type\": \"contourcarpet\"}], \"heatmap\": [{\"colorbar\": {\"outlinewidth\": 0, \"ticks\": \"\"}, \"colorscale\": [[0.0, \"#0d0887\"], [0.1111111111111111, \"#46039f\"], [0.2222222222222222, \"#7201a8\"], [0.3333333333333333, \"#9c179e\"], [0.4444444444444444, \"#bd3786\"], [0.5555555555555556, \"#d8576b\"], [0.6666666666666666, \"#ed7953\"], [0.7777777777777778, \"#fb9f3a\"], [0.8888888888888888, \"#fdca26\"], [1.0, \"#f0f921\"]], \"type\": \"heatmap\"}], \"heatmapgl\": [{\"colorbar\": {\"outlinewidth\": 0, \"ticks\": \"\"}, \"colorscale\": [[0.0, \"#0d0887\"], [0.1111111111111111, \"#46039f\"], [0.2222222222222222, \"#7201a8\"], [0.3333333333333333, \"#9c179e\"], [0.4444444444444444, \"#bd3786\"], [0.5555555555555556, \"#d8576b\"], [0.6666666666666666, \"#ed7953\"], [0.7777777777777778, \"#fb9f3a\"], [0.8888888888888888, \"#fdca26\"], [1.0, \"#f0f921\"]], \"type\": \"heatmapgl\"}], \"histogram\": [{\"marker\": {\"colorbar\": {\"outlinewidth\": 0, \"ticks\": \"\"}}, \"type\": \"histogram\"}], \"histogram2d\": [{\"colorbar\": {\"outlinewidth\": 0, \"ticks\": \"\"}, \"colorscale\": [[0.0, \"#0d0887\"], [0.1111111111111111, \"#46039f\"], [0.2222222222222222, \"#7201a8\"], [0.3333333333333333, \"#9c179e\"], [0.4444444444444444, \"#bd3786\"], [0.5555555555555556, \"#d8576b\"], [0.6666666666666666, \"#ed7953\"], [0.7777777777777778, \"#fb9f3a\"], [0.8888888888888888, \"#fdca26\"], [1.0, \"#f0f921\"]], \"type\": \"histogram2d\"}], \"histogram2dcontour\": [{\"colorbar\": {\"outlinewidth\": 0, \"ticks\": \"\"}, \"colorscale\": [[0.0, \"#0d0887\"], [0.1111111111111111, \"#46039f\"], [0.2222222222222222, \"#7201a8\"], [0.3333333333333333, \"#9c179e\"], [0.4444444444444444, \"#bd3786\"], [0.5555555555555556, \"#d8576b\"], [0.6666666666666666, \"#ed7953\"], [0.7777777777777778, \"#fb9f3a\"], [0.8888888888888888, \"#fdca26\"], [1.0, \"#f0f921\"]], \"type\": \"histogram2dcontour\"}], \"mesh3d\": [{\"colorbar\": {\"outlinewidth\": 0, \"ticks\": \"\"}, \"type\": \"mesh3d\"}], \"parcoords\": [{\"line\": {\"colorbar\": {\"outlinewidth\": 0, \"ticks\": \"\"}}, \"type\": \"parcoords\"}], \"pie\": [{\"automargin\": true, \"type\": \"pie\"}], \"scatter\": [{\"marker\": {\"colorbar\": {\"outlinewidth\": 0, \"ticks\": \"\"}}, \"type\": \"scatter\"}], \"scatter3d\": [{\"line\": {\"colorbar\": {\"outlinewidth\": 0, \"ticks\": \"\"}}, \"marker\": {\"colorbar\": {\"outlinewidth\": 0, \"ticks\": \"\"}}, \"type\": \"scatter3d\"}], \"scattercarpet\": [{\"marker\": {\"colorbar\": {\"outlinewidth\": 0, \"ticks\": \"\"}}, \"type\": \"scattercarpet\"}], \"scattergeo\": [{\"marker\": {\"colorbar\": {\"outlinewidth\": 0, \"ticks\": \"\"}}, \"type\": \"scattergeo\"}], \"scattergl\": [{\"marker\": {\"colorbar\": {\"outlinewidth\": 0, \"ticks\": \"\"}}, \"type\": \"scattergl\"}], \"scattermapbox\": [{\"marker\": {\"colorbar\": {\"outlinewidth\": 0, \"ticks\": \"\"}}, \"type\": \"scattermapbox\"}], \"scatterpolar\": [{\"marker\": {\"colorbar\": {\"outlinewidth\": 0, \"ticks\": \"\"}}, \"type\": \"scatterpolar\"}], \"scatterpolargl\": [{\"marker\": {\"colorbar\": {\"outlinewidth\": 0, \"ticks\": \"\"}}, \"type\": \"scatterpolargl\"}], \"scatterternary\": [{\"marker\": {\"colorbar\": {\"outlinewidth\": 0, \"ticks\": \"\"}}, \"type\": \"scatterternary\"}], \"surface\": [{\"colorbar\": {\"outlinewidth\": 0, \"ticks\": \"\"}, \"colorscale\": [[0.0, \"#0d0887\"], [0.1111111111111111, \"#46039f\"], [0.2222222222222222, \"#7201a8\"], [0.3333333333333333, \"#9c179e\"], [0.4444444444444444, \"#bd3786\"], [0.5555555555555556, \"#d8576b\"], [0.6666666666666666, \"#ed7953\"], [0.7777777777777778, \"#fb9f3a\"], [0.8888888888888888, \"#fdca26\"], [1.0, \"#f0f921\"]], \"type\": \"surface\"}], \"table\": [{\"cells\": {\"fill\": {\"color\": \"#EBF0F8\"}, \"line\": {\"color\": \"white\"}}, \"header\": {\"fill\": {\"color\": \"#C8D4E3\"}, \"line\": {\"color\": \"white\"}}, \"type\": \"table\"}]}, \"layout\": {\"annotationdefaults\": {\"arrowcolor\": \"#2a3f5f\", \"arrowhead\": 0, \"arrowwidth\": 1}, \"coloraxis\": {\"colorbar\": {\"outlinewidth\": 0, \"ticks\": \"\"}}, \"colorscale\": {\"diverging\": [[0, \"#8e0152\"], [0.1, \"#c51b7d\"], [0.2, \"#de77ae\"], [0.3, \"#f1b6da\"], [0.4, \"#fde0ef\"], [0.5, \"#f7f7f7\"], [0.6, \"#e6f5d0\"], [0.7, \"#b8e186\"], [0.8, \"#7fbc41\"], [0.9, \"#4d9221\"], [1, \"#276419\"]], \"sequential\": [[0.0, \"#0d0887\"], [0.1111111111111111, \"#46039f\"], [0.2222222222222222, \"#7201a8\"], [0.3333333333333333, \"#9c179e\"], [0.4444444444444444, \"#bd3786\"], [0.5555555555555556, \"#d8576b\"], [0.6666666666666666, \"#ed7953\"], [0.7777777777777778, \"#fb9f3a\"], [0.8888888888888888, \"#fdca26\"], [1.0, \"#f0f921\"]], \"sequentialminus\": [[0.0, \"#0d0887\"], [0.1111111111111111, \"#46039f\"], [0.2222222222222222, \"#7201a8\"], [0.3333333333333333, \"#9c179e\"], [0.4444444444444444, \"#bd3786\"], [0.5555555555555556, \"#d8576b\"], [0.6666666666666666, \"#ed7953\"], [0.7777777777777778, \"#fb9f3a\"], [0.8888888888888888, \"#fdca26\"], [1.0, \"#f0f921\"]]}, \"colorway\": [\"#636efa\", \"#EF553B\", \"#00cc96\", \"#ab63fa\", \"#FFA15A\", \"#19d3f3\", \"#FF6692\", \"#B6E880\", \"#FF97FF\", \"#FECB52\"], \"font\": {\"color\": \"#2a3f5f\"}, \"geo\": {\"bgcolor\": \"white\", \"lakecolor\": \"white\", \"landcolor\": \"#E5ECF6\", \"showlakes\": true, \"showland\": true, \"subunitcolor\": \"white\"}, \"hoverlabel\": {\"align\": \"left\"}, \"hovermode\": \"closest\", \"mapbox\": {\"style\": \"light\"}, \"paper_bgcolor\": \"white\", \"plot_bgcolor\": \"#E5ECF6\", \"polar\": {\"angularaxis\": {\"gridcolor\": \"white\", \"linecolor\": \"white\", \"ticks\": \"\"}, \"bgcolor\": \"#E5ECF6\", \"radialaxis\": {\"gridcolor\": \"white\", \"linecolor\": \"white\", \"ticks\": \"\"}}, \"scene\": {\"xaxis\": {\"backgroundcolor\": \"#E5ECF6\", \"gridcolor\": \"white\", \"gridwidth\": 2, \"linecolor\": \"white\", \"showbackground\": true, \"ticks\": \"\", \"zerolinecolor\": \"white\"}, \"yaxis\": {\"backgroundcolor\": \"#E5ECF6\", \"gridcolor\": \"white\", \"gridwidth\": 2, \"linecolor\": \"white\", \"showbackground\": true, \"ticks\": \"\", \"zerolinecolor\": \"white\"}, \"zaxis\": {\"backgroundcolor\": \"#E5ECF6\", \"gridcolor\": \"white\", \"gridwidth\": 2, \"linecolor\": \"white\", \"showbackground\": true, \"ticks\": \"\", \"zerolinecolor\": \"white\"}}, \"shapedefaults\": {\"line\": {\"color\": \"#2a3f5f\"}}, \"ternary\": {\"aaxis\": {\"gridcolor\": \"white\", \"linecolor\": \"white\", \"ticks\": \"\"}, \"baxis\": {\"gridcolor\": \"white\", \"linecolor\": \"white\", \"ticks\": \"\"}, \"bgcolor\": \"#E5ECF6\", \"caxis\": {\"gridcolor\": \"white\", \"linecolor\": \"white\", \"ticks\": \"\"}}, \"title\": {\"x\": 0.05}, \"xaxis\": {\"automargin\": true, \"gridcolor\": \"white\", \"linecolor\": \"white\", \"ticks\": \"\", \"title\": {\"standoff\": 15}, \"zerolinecolor\": \"white\", \"zerolinewidth\": 2}, \"yaxis\": {\"automargin\": true, \"gridcolor\": \"white\", \"linecolor\": \"white\", \"ticks\": \"\", \"title\": {\"standoff\": 15}, \"zerolinecolor\": \"white\", \"zerolinewidth\": 2}}}, \"xaxis\": {\"categoryorder\": \"category ascending\"}},\n",
       "                        {\"responsive\": true}\n",
       "                    ).then(function(){\n",
       "                            \n",
       "var gd = document.getElementById('96c57dbd-0b1d-4440-ada2-a1b501409d7f');\n",
       "var x = new MutationObserver(function (mutations, observer) {{\n",
       "        var display = window.getComputedStyle(gd).display;\n",
       "        if (!display || display === 'none') {{\n",
       "            console.log([gd, 'removed!']);\n",
       "            Plotly.purge(gd);\n",
       "            observer.disconnect();\n",
       "        }}\n",
       "}});\n",
       "\n",
       "// Listen for the removal of the full notebook cells\n",
       "var notebookContainer = gd.closest('#notebook-container');\n",
       "if (notebookContainer) {{\n",
       "    x.observe(notebookContainer, {childList: true});\n",
       "}}\n",
       "\n",
       "// Listen for the clearing of the current output cell\n",
       "var outputEl = gd.closest('.output');\n",
       "if (outputEl) {{\n",
       "    x.observe(outputEl, {childList: true});\n",
       "}}\n",
       "\n",
       "                        })\n",
       "                };\n",
       "                });\n",
       "            </script>\n",
       "        </div>"
      ]
     },
     "metadata": {},
     "output_type": "display_data"
    }
   ],
   "source": [
    "import plotly.graph_objects as go\n",
    "\n",
    "fig2 = go.Figure(go.Bar(x=agg_q.quarter, y=agg_q.principal, name='AGG'))\n",
    "fig2.add_trace(go.Bar(x=spy_q.quarter, y=spy_q.principal, name='SPY'))\n",
    "fig2.add_trace(go.Bar(x=well_q.quarter, y=well_q.principal, name='Wellington'))\n",
    "fig2.add_trace(go.Bar(x=pur_q.quarter, y=pur_q.principal, name='Puritan'))\n",
    "\n",
    "fig2.update_layout(barmode='stack', xaxis={'categoryorder':'category ascending'})\n",
    "fig2.show()"
   ]
  },
  {
   "cell_type": "markdown",
   "metadata": {},
   "source": [
    "Let's start a Waterfall graph that we can later fill in with monthly or quarterly profit and loss summaries"
   ]
  },
  {
   "cell_type": "code",
   "execution_count": 75,
   "metadata": {},
   "outputs": [
    {
     "data": {
      "application/vnd.plotly.v1+json": {
       "config": {
        "plotlyServerURL": "https://plot.ly"
       },
       "data": [
        {
         "connector": {
          "line": {
           "color": "rgb(63, 63, 63)"
          }
         },
         "measure": [
          "relative",
          "relative",
          "total",
          "relative",
          "relative",
          "total"
         ],
         "name": "20",
         "orientation": "v",
         "text": [
          "+60",
          "+80",
          "",
          "-40",
          "-20",
          "Total"
         ],
         "textposition": "outside",
         "type": "waterfall",
         "x": [
          "Sales",
          "Consulting",
          "Net revenue",
          "Purchases",
          "Other expenses",
          "Profit before tax"
         ],
         "y": [
          60,
          80,
          0,
          -40,
          -20,
          0
         ]
        }
       ],
       "layout": {
        "showlegend": true,
        "template": {
         "data": {
          "bar": [
           {
            "error_x": {
             "color": "#2a3f5f"
            },
            "error_y": {
             "color": "#2a3f5f"
            },
            "marker": {
             "line": {
              "color": "#E5ECF6",
              "width": 0.5
             }
            },
            "type": "bar"
           }
          ],
          "barpolar": [
           {
            "marker": {
             "line": {
              "color": "#E5ECF6",
              "width": 0.5
             }
            },
            "type": "barpolar"
           }
          ],
          "carpet": [
           {
            "aaxis": {
             "endlinecolor": "#2a3f5f",
             "gridcolor": "white",
             "linecolor": "white",
             "minorgridcolor": "white",
             "startlinecolor": "#2a3f5f"
            },
            "baxis": {
             "endlinecolor": "#2a3f5f",
             "gridcolor": "white",
             "linecolor": "white",
             "minorgridcolor": "white",
             "startlinecolor": "#2a3f5f"
            },
            "type": "carpet"
           }
          ],
          "choropleth": [
           {
            "colorbar": {
             "outlinewidth": 0,
             "ticks": ""
            },
            "type": "choropleth"
           }
          ],
          "contour": [
           {
            "colorbar": {
             "outlinewidth": 0,
             "ticks": ""
            },
            "colorscale": [
             [
              0,
              "#0d0887"
             ],
             [
              0.1111111111111111,
              "#46039f"
             ],
             [
              0.2222222222222222,
              "#7201a8"
             ],
             [
              0.3333333333333333,
              "#9c179e"
             ],
             [
              0.4444444444444444,
              "#bd3786"
             ],
             [
              0.5555555555555556,
              "#d8576b"
             ],
             [
              0.6666666666666666,
              "#ed7953"
             ],
             [
              0.7777777777777778,
              "#fb9f3a"
             ],
             [
              0.8888888888888888,
              "#fdca26"
             ],
             [
              1,
              "#f0f921"
             ]
            ],
            "type": "contour"
           }
          ],
          "contourcarpet": [
           {
            "colorbar": {
             "outlinewidth": 0,
             "ticks": ""
            },
            "type": "contourcarpet"
           }
          ],
          "heatmap": [
           {
            "colorbar": {
             "outlinewidth": 0,
             "ticks": ""
            },
            "colorscale": [
             [
              0,
              "#0d0887"
             ],
             [
              0.1111111111111111,
              "#46039f"
             ],
             [
              0.2222222222222222,
              "#7201a8"
             ],
             [
              0.3333333333333333,
              "#9c179e"
             ],
             [
              0.4444444444444444,
              "#bd3786"
             ],
             [
              0.5555555555555556,
              "#d8576b"
             ],
             [
              0.6666666666666666,
              "#ed7953"
             ],
             [
              0.7777777777777778,
              "#fb9f3a"
             ],
             [
              0.8888888888888888,
              "#fdca26"
             ],
             [
              1,
              "#f0f921"
             ]
            ],
            "type": "heatmap"
           }
          ],
          "heatmapgl": [
           {
            "colorbar": {
             "outlinewidth": 0,
             "ticks": ""
            },
            "colorscale": [
             [
              0,
              "#0d0887"
             ],
             [
              0.1111111111111111,
              "#46039f"
             ],
             [
              0.2222222222222222,
              "#7201a8"
             ],
             [
              0.3333333333333333,
              "#9c179e"
             ],
             [
              0.4444444444444444,
              "#bd3786"
             ],
             [
              0.5555555555555556,
              "#d8576b"
             ],
             [
              0.6666666666666666,
              "#ed7953"
             ],
             [
              0.7777777777777778,
              "#fb9f3a"
             ],
             [
              0.8888888888888888,
              "#fdca26"
             ],
             [
              1,
              "#f0f921"
             ]
            ],
            "type": "heatmapgl"
           }
          ],
          "histogram": [
           {
            "marker": {
             "colorbar": {
              "outlinewidth": 0,
              "ticks": ""
             }
            },
            "type": "histogram"
           }
          ],
          "histogram2d": [
           {
            "colorbar": {
             "outlinewidth": 0,
             "ticks": ""
            },
            "colorscale": [
             [
              0,
              "#0d0887"
             ],
             [
              0.1111111111111111,
              "#46039f"
             ],
             [
              0.2222222222222222,
              "#7201a8"
             ],
             [
              0.3333333333333333,
              "#9c179e"
             ],
             [
              0.4444444444444444,
              "#bd3786"
             ],
             [
              0.5555555555555556,
              "#d8576b"
             ],
             [
              0.6666666666666666,
              "#ed7953"
             ],
             [
              0.7777777777777778,
              "#fb9f3a"
             ],
             [
              0.8888888888888888,
              "#fdca26"
             ],
             [
              1,
              "#f0f921"
             ]
            ],
            "type": "histogram2d"
           }
          ],
          "histogram2dcontour": [
           {
            "colorbar": {
             "outlinewidth": 0,
             "ticks": ""
            },
            "colorscale": [
             [
              0,
              "#0d0887"
             ],
             [
              0.1111111111111111,
              "#46039f"
             ],
             [
              0.2222222222222222,
              "#7201a8"
             ],
             [
              0.3333333333333333,
              "#9c179e"
             ],
             [
              0.4444444444444444,
              "#bd3786"
             ],
             [
              0.5555555555555556,
              "#d8576b"
             ],
             [
              0.6666666666666666,
              "#ed7953"
             ],
             [
              0.7777777777777778,
              "#fb9f3a"
             ],
             [
              0.8888888888888888,
              "#fdca26"
             ],
             [
              1,
              "#f0f921"
             ]
            ],
            "type": "histogram2dcontour"
           }
          ],
          "mesh3d": [
           {
            "colorbar": {
             "outlinewidth": 0,
             "ticks": ""
            },
            "type": "mesh3d"
           }
          ],
          "parcoords": [
           {
            "line": {
             "colorbar": {
              "outlinewidth": 0,
              "ticks": ""
             }
            },
            "type": "parcoords"
           }
          ],
          "pie": [
           {
            "automargin": true,
            "type": "pie"
           }
          ],
          "scatter": [
           {
            "marker": {
             "colorbar": {
              "outlinewidth": 0,
              "ticks": ""
             }
            },
            "type": "scatter"
           }
          ],
          "scatter3d": [
           {
            "line": {
             "colorbar": {
              "outlinewidth": 0,
              "ticks": ""
             }
            },
            "marker": {
             "colorbar": {
              "outlinewidth": 0,
              "ticks": ""
             }
            },
            "type": "scatter3d"
           }
          ],
          "scattercarpet": [
           {
            "marker": {
             "colorbar": {
              "outlinewidth": 0,
              "ticks": ""
             }
            },
            "type": "scattercarpet"
           }
          ],
          "scattergeo": [
           {
            "marker": {
             "colorbar": {
              "outlinewidth": 0,
              "ticks": ""
             }
            },
            "type": "scattergeo"
           }
          ],
          "scattergl": [
           {
            "marker": {
             "colorbar": {
              "outlinewidth": 0,
              "ticks": ""
             }
            },
            "type": "scattergl"
           }
          ],
          "scattermapbox": [
           {
            "marker": {
             "colorbar": {
              "outlinewidth": 0,
              "ticks": ""
             }
            },
            "type": "scattermapbox"
           }
          ],
          "scatterpolar": [
           {
            "marker": {
             "colorbar": {
              "outlinewidth": 0,
              "ticks": ""
             }
            },
            "type": "scatterpolar"
           }
          ],
          "scatterpolargl": [
           {
            "marker": {
             "colorbar": {
              "outlinewidth": 0,
              "ticks": ""
             }
            },
            "type": "scatterpolargl"
           }
          ],
          "scatterternary": [
           {
            "marker": {
             "colorbar": {
              "outlinewidth": 0,
              "ticks": ""
             }
            },
            "type": "scatterternary"
           }
          ],
          "surface": [
           {
            "colorbar": {
             "outlinewidth": 0,
             "ticks": ""
            },
            "colorscale": [
             [
              0,
              "#0d0887"
             ],
             [
              0.1111111111111111,
              "#46039f"
             ],
             [
              0.2222222222222222,
              "#7201a8"
             ],
             [
              0.3333333333333333,
              "#9c179e"
             ],
             [
              0.4444444444444444,
              "#bd3786"
             ],
             [
              0.5555555555555556,
              "#d8576b"
             ],
             [
              0.6666666666666666,
              "#ed7953"
             ],
             [
              0.7777777777777778,
              "#fb9f3a"
             ],
             [
              0.8888888888888888,
              "#fdca26"
             ],
             [
              1,
              "#f0f921"
             ]
            ],
            "type": "surface"
           }
          ],
          "table": [
           {
            "cells": {
             "fill": {
              "color": "#EBF0F8"
             },
             "line": {
              "color": "white"
             }
            },
            "header": {
             "fill": {
              "color": "#C8D4E3"
             },
             "line": {
              "color": "white"
             }
            },
            "type": "table"
           }
          ]
         },
         "layout": {
          "annotationdefaults": {
           "arrowcolor": "#2a3f5f",
           "arrowhead": 0,
           "arrowwidth": 1
          },
          "coloraxis": {
           "colorbar": {
            "outlinewidth": 0,
            "ticks": ""
           }
          },
          "colorscale": {
           "diverging": [
            [
             0,
             "#8e0152"
            ],
            [
             0.1,
             "#c51b7d"
            ],
            [
             0.2,
             "#de77ae"
            ],
            [
             0.3,
             "#f1b6da"
            ],
            [
             0.4,
             "#fde0ef"
            ],
            [
             0.5,
             "#f7f7f7"
            ],
            [
             0.6,
             "#e6f5d0"
            ],
            [
             0.7,
             "#b8e186"
            ],
            [
             0.8,
             "#7fbc41"
            ],
            [
             0.9,
             "#4d9221"
            ],
            [
             1,
             "#276419"
            ]
           ],
           "sequential": [
            [
             0,
             "#0d0887"
            ],
            [
             0.1111111111111111,
             "#46039f"
            ],
            [
             0.2222222222222222,
             "#7201a8"
            ],
            [
             0.3333333333333333,
             "#9c179e"
            ],
            [
             0.4444444444444444,
             "#bd3786"
            ],
            [
             0.5555555555555556,
             "#d8576b"
            ],
            [
             0.6666666666666666,
             "#ed7953"
            ],
            [
             0.7777777777777778,
             "#fb9f3a"
            ],
            [
             0.8888888888888888,
             "#fdca26"
            ],
            [
             1,
             "#f0f921"
            ]
           ],
           "sequentialminus": [
            [
             0,
             "#0d0887"
            ],
            [
             0.1111111111111111,
             "#46039f"
            ],
            [
             0.2222222222222222,
             "#7201a8"
            ],
            [
             0.3333333333333333,
             "#9c179e"
            ],
            [
             0.4444444444444444,
             "#bd3786"
            ],
            [
             0.5555555555555556,
             "#d8576b"
            ],
            [
             0.6666666666666666,
             "#ed7953"
            ],
            [
             0.7777777777777778,
             "#fb9f3a"
            ],
            [
             0.8888888888888888,
             "#fdca26"
            ],
            [
             1,
             "#f0f921"
            ]
           ]
          },
          "colorway": [
           "#636efa",
           "#EF553B",
           "#00cc96",
           "#ab63fa",
           "#FFA15A",
           "#19d3f3",
           "#FF6692",
           "#B6E880",
           "#FF97FF",
           "#FECB52"
          ],
          "font": {
           "color": "#2a3f5f"
          },
          "geo": {
           "bgcolor": "white",
           "lakecolor": "white",
           "landcolor": "#E5ECF6",
           "showlakes": true,
           "showland": true,
           "subunitcolor": "white"
          },
          "hoverlabel": {
           "align": "left"
          },
          "hovermode": "closest",
          "mapbox": {
           "style": "light"
          },
          "paper_bgcolor": "white",
          "plot_bgcolor": "#E5ECF6",
          "polar": {
           "angularaxis": {
            "gridcolor": "white",
            "linecolor": "white",
            "ticks": ""
           },
           "bgcolor": "#E5ECF6",
           "radialaxis": {
            "gridcolor": "white",
            "linecolor": "white",
            "ticks": ""
           }
          },
          "scene": {
           "xaxis": {
            "backgroundcolor": "#E5ECF6",
            "gridcolor": "white",
            "gridwidth": 2,
            "linecolor": "white",
            "showbackground": true,
            "ticks": "",
            "zerolinecolor": "white"
           },
           "yaxis": {
            "backgroundcolor": "#E5ECF6",
            "gridcolor": "white",
            "gridwidth": 2,
            "linecolor": "white",
            "showbackground": true,
            "ticks": "",
            "zerolinecolor": "white"
           },
           "zaxis": {
            "backgroundcolor": "#E5ECF6",
            "gridcolor": "white",
            "gridwidth": 2,
            "linecolor": "white",
            "showbackground": true,
            "ticks": "",
            "zerolinecolor": "white"
           }
          },
          "shapedefaults": {
           "line": {
            "color": "#2a3f5f"
           }
          },
          "ternary": {
           "aaxis": {
            "gridcolor": "white",
            "linecolor": "white",
            "ticks": ""
           },
           "baxis": {
            "gridcolor": "white",
            "linecolor": "white",
            "ticks": ""
           },
           "bgcolor": "#E5ECF6",
           "caxis": {
            "gridcolor": "white",
            "linecolor": "white",
            "ticks": ""
           }
          },
          "title": {
           "x": 0.05
          },
          "xaxis": {
           "automargin": true,
           "gridcolor": "white",
           "linecolor": "white",
           "ticks": "",
           "title": {
            "standoff": 15
           },
           "zerolinecolor": "white",
           "zerolinewidth": 2
          },
          "yaxis": {
           "automargin": true,
           "gridcolor": "white",
           "linecolor": "white",
           "ticks": "",
           "title": {
            "standoff": 15
           },
           "zerolinecolor": "white",
           "zerolinewidth": 2
          }
         }
        },
        "title": {
         "text": "Profit and loss statement 2018"
        }
       }
      },
      "text/html": [
       "<div>\n",
       "        \n",
       "        \n",
       "            <div id=\"54926f74-eedb-478f-85df-6b860bae01df\" class=\"plotly-graph-div\" style=\"height:525px; width:100%;\"></div>\n",
       "            <script type=\"text/javascript\">\n",
       "                require([\"plotly\"], function(Plotly) {\n",
       "                    window.PLOTLYENV=window.PLOTLYENV || {};\n",
       "                    \n",
       "                if (document.getElementById(\"54926f74-eedb-478f-85df-6b860bae01df\")) {\n",
       "                    Plotly.newPlot(\n",
       "                        '54926f74-eedb-478f-85df-6b860bae01df',\n",
       "                        [{\"connector\": {\"line\": {\"color\": \"rgb(63, 63, 63)\"}}, \"measure\": [\"relative\", \"relative\", \"total\", \"relative\", \"relative\", \"total\"], \"name\": \"20\", \"orientation\": \"v\", \"text\": [\"+60\", \"+80\", \"\", \"-40\", \"-20\", \"Total\"], \"textposition\": \"outside\", \"type\": \"waterfall\", \"x\": [\"Sales\", \"Consulting\", \"Net revenue\", \"Purchases\", \"Other expenses\", \"Profit before tax\"], \"y\": [60, 80, 0, -40, -20, 0]}],\n",
       "                        {\"showlegend\": true, \"template\": {\"data\": {\"bar\": [{\"error_x\": {\"color\": \"#2a3f5f\"}, \"error_y\": {\"color\": \"#2a3f5f\"}, \"marker\": {\"line\": {\"color\": \"#E5ECF6\", \"width\": 0.5}}, \"type\": \"bar\"}], \"barpolar\": [{\"marker\": {\"line\": {\"color\": \"#E5ECF6\", \"width\": 0.5}}, \"type\": \"barpolar\"}], \"carpet\": [{\"aaxis\": {\"endlinecolor\": \"#2a3f5f\", \"gridcolor\": \"white\", \"linecolor\": \"white\", \"minorgridcolor\": \"white\", \"startlinecolor\": \"#2a3f5f\"}, \"baxis\": {\"endlinecolor\": \"#2a3f5f\", \"gridcolor\": \"white\", \"linecolor\": \"white\", \"minorgridcolor\": \"white\", \"startlinecolor\": \"#2a3f5f\"}, \"type\": \"carpet\"}], \"choropleth\": [{\"colorbar\": {\"outlinewidth\": 0, \"ticks\": \"\"}, \"type\": \"choropleth\"}], \"contour\": [{\"colorbar\": {\"outlinewidth\": 0, \"ticks\": \"\"}, \"colorscale\": [[0.0, \"#0d0887\"], [0.1111111111111111, \"#46039f\"], [0.2222222222222222, \"#7201a8\"], [0.3333333333333333, \"#9c179e\"], [0.4444444444444444, \"#bd3786\"], [0.5555555555555556, \"#d8576b\"], [0.6666666666666666, \"#ed7953\"], [0.7777777777777778, \"#fb9f3a\"], [0.8888888888888888, \"#fdca26\"], [1.0, \"#f0f921\"]], \"type\": \"contour\"}], \"contourcarpet\": [{\"colorbar\": {\"outlinewidth\": 0, \"ticks\": \"\"}, \"type\": \"contourcarpet\"}], \"heatmap\": [{\"colorbar\": {\"outlinewidth\": 0, \"ticks\": \"\"}, \"colorscale\": [[0.0, \"#0d0887\"], [0.1111111111111111, \"#46039f\"], [0.2222222222222222, \"#7201a8\"], [0.3333333333333333, \"#9c179e\"], [0.4444444444444444, \"#bd3786\"], [0.5555555555555556, \"#d8576b\"], [0.6666666666666666, \"#ed7953\"], [0.7777777777777778, \"#fb9f3a\"], [0.8888888888888888, \"#fdca26\"], [1.0, \"#f0f921\"]], \"type\": \"heatmap\"}], \"heatmapgl\": [{\"colorbar\": {\"outlinewidth\": 0, \"ticks\": \"\"}, \"colorscale\": [[0.0, \"#0d0887\"], [0.1111111111111111, \"#46039f\"], [0.2222222222222222, \"#7201a8\"], [0.3333333333333333, \"#9c179e\"], [0.4444444444444444, \"#bd3786\"], [0.5555555555555556, \"#d8576b\"], [0.6666666666666666, \"#ed7953\"], [0.7777777777777778, \"#fb9f3a\"], [0.8888888888888888, \"#fdca26\"], [1.0, \"#f0f921\"]], \"type\": \"heatmapgl\"}], \"histogram\": [{\"marker\": {\"colorbar\": {\"outlinewidth\": 0, \"ticks\": \"\"}}, \"type\": \"histogram\"}], \"histogram2d\": [{\"colorbar\": {\"outlinewidth\": 0, \"ticks\": \"\"}, \"colorscale\": [[0.0, \"#0d0887\"], [0.1111111111111111, \"#46039f\"], [0.2222222222222222, \"#7201a8\"], [0.3333333333333333, \"#9c179e\"], [0.4444444444444444, \"#bd3786\"], [0.5555555555555556, \"#d8576b\"], [0.6666666666666666, \"#ed7953\"], [0.7777777777777778, \"#fb9f3a\"], [0.8888888888888888, \"#fdca26\"], [1.0, \"#f0f921\"]], \"type\": \"histogram2d\"}], \"histogram2dcontour\": [{\"colorbar\": {\"outlinewidth\": 0, \"ticks\": \"\"}, \"colorscale\": [[0.0, \"#0d0887\"], [0.1111111111111111, \"#46039f\"], [0.2222222222222222, \"#7201a8\"], [0.3333333333333333, \"#9c179e\"], [0.4444444444444444, \"#bd3786\"], [0.5555555555555556, \"#d8576b\"], [0.6666666666666666, \"#ed7953\"], [0.7777777777777778, \"#fb9f3a\"], [0.8888888888888888, \"#fdca26\"], [1.0, \"#f0f921\"]], \"type\": \"histogram2dcontour\"}], \"mesh3d\": [{\"colorbar\": {\"outlinewidth\": 0, \"ticks\": \"\"}, \"type\": \"mesh3d\"}], \"parcoords\": [{\"line\": {\"colorbar\": {\"outlinewidth\": 0, \"ticks\": \"\"}}, \"type\": \"parcoords\"}], \"pie\": [{\"automargin\": true, \"type\": \"pie\"}], \"scatter\": [{\"marker\": {\"colorbar\": {\"outlinewidth\": 0, \"ticks\": \"\"}}, \"type\": \"scatter\"}], \"scatter3d\": [{\"line\": {\"colorbar\": {\"outlinewidth\": 0, \"ticks\": \"\"}}, \"marker\": {\"colorbar\": {\"outlinewidth\": 0, \"ticks\": \"\"}}, \"type\": \"scatter3d\"}], \"scattercarpet\": [{\"marker\": {\"colorbar\": {\"outlinewidth\": 0, \"ticks\": \"\"}}, \"type\": \"scattercarpet\"}], \"scattergeo\": [{\"marker\": {\"colorbar\": {\"outlinewidth\": 0, \"ticks\": \"\"}}, \"type\": \"scattergeo\"}], \"scattergl\": [{\"marker\": {\"colorbar\": {\"outlinewidth\": 0, \"ticks\": \"\"}}, \"type\": \"scattergl\"}], \"scattermapbox\": [{\"marker\": {\"colorbar\": {\"outlinewidth\": 0, \"ticks\": \"\"}}, \"type\": \"scattermapbox\"}], \"scatterpolar\": [{\"marker\": {\"colorbar\": {\"outlinewidth\": 0, \"ticks\": \"\"}}, \"type\": \"scatterpolar\"}], \"scatterpolargl\": [{\"marker\": {\"colorbar\": {\"outlinewidth\": 0, \"ticks\": \"\"}}, \"type\": \"scatterpolargl\"}], \"scatterternary\": [{\"marker\": {\"colorbar\": {\"outlinewidth\": 0, \"ticks\": \"\"}}, \"type\": \"scatterternary\"}], \"surface\": [{\"colorbar\": {\"outlinewidth\": 0, \"ticks\": \"\"}, \"colorscale\": [[0.0, \"#0d0887\"], [0.1111111111111111, \"#46039f\"], [0.2222222222222222, \"#7201a8\"], [0.3333333333333333, \"#9c179e\"], [0.4444444444444444, \"#bd3786\"], [0.5555555555555556, \"#d8576b\"], [0.6666666666666666, \"#ed7953\"], [0.7777777777777778, \"#fb9f3a\"], [0.8888888888888888, \"#fdca26\"], [1.0, \"#f0f921\"]], \"type\": \"surface\"}], \"table\": [{\"cells\": {\"fill\": {\"color\": \"#EBF0F8\"}, \"line\": {\"color\": \"white\"}}, \"header\": {\"fill\": {\"color\": \"#C8D4E3\"}, \"line\": {\"color\": \"white\"}}, \"type\": \"table\"}]}, \"layout\": {\"annotationdefaults\": {\"arrowcolor\": \"#2a3f5f\", \"arrowhead\": 0, \"arrowwidth\": 1}, \"coloraxis\": {\"colorbar\": {\"outlinewidth\": 0, \"ticks\": \"\"}}, \"colorscale\": {\"diverging\": [[0, \"#8e0152\"], [0.1, \"#c51b7d\"], [0.2, \"#de77ae\"], [0.3, \"#f1b6da\"], [0.4, \"#fde0ef\"], [0.5, \"#f7f7f7\"], [0.6, \"#e6f5d0\"], [0.7, \"#b8e186\"], [0.8, \"#7fbc41\"], [0.9, \"#4d9221\"], [1, \"#276419\"]], \"sequential\": [[0.0, \"#0d0887\"], [0.1111111111111111, \"#46039f\"], [0.2222222222222222, \"#7201a8\"], [0.3333333333333333, \"#9c179e\"], [0.4444444444444444, \"#bd3786\"], [0.5555555555555556, \"#d8576b\"], [0.6666666666666666, \"#ed7953\"], [0.7777777777777778, \"#fb9f3a\"], [0.8888888888888888, \"#fdca26\"], [1.0, \"#f0f921\"]], \"sequentialminus\": [[0.0, \"#0d0887\"], [0.1111111111111111, \"#46039f\"], [0.2222222222222222, \"#7201a8\"], [0.3333333333333333, \"#9c179e\"], [0.4444444444444444, \"#bd3786\"], [0.5555555555555556, \"#d8576b\"], [0.6666666666666666, \"#ed7953\"], [0.7777777777777778, \"#fb9f3a\"], [0.8888888888888888, \"#fdca26\"], [1.0, \"#f0f921\"]]}, \"colorway\": [\"#636efa\", \"#EF553B\", \"#00cc96\", \"#ab63fa\", \"#FFA15A\", \"#19d3f3\", \"#FF6692\", \"#B6E880\", \"#FF97FF\", \"#FECB52\"], \"font\": {\"color\": \"#2a3f5f\"}, \"geo\": {\"bgcolor\": \"white\", \"lakecolor\": \"white\", \"landcolor\": \"#E5ECF6\", \"showlakes\": true, \"showland\": true, \"subunitcolor\": \"white\"}, \"hoverlabel\": {\"align\": \"left\"}, \"hovermode\": \"closest\", \"mapbox\": {\"style\": \"light\"}, \"paper_bgcolor\": \"white\", \"plot_bgcolor\": \"#E5ECF6\", \"polar\": {\"angularaxis\": {\"gridcolor\": \"white\", \"linecolor\": \"white\", \"ticks\": \"\"}, \"bgcolor\": \"#E5ECF6\", \"radialaxis\": {\"gridcolor\": \"white\", \"linecolor\": \"white\", \"ticks\": \"\"}}, \"scene\": {\"xaxis\": {\"backgroundcolor\": \"#E5ECF6\", \"gridcolor\": \"white\", \"gridwidth\": 2, \"linecolor\": \"white\", \"showbackground\": true, \"ticks\": \"\", \"zerolinecolor\": \"white\"}, \"yaxis\": {\"backgroundcolor\": \"#E5ECF6\", \"gridcolor\": \"white\", \"gridwidth\": 2, \"linecolor\": \"white\", \"showbackground\": true, \"ticks\": \"\", \"zerolinecolor\": \"white\"}, \"zaxis\": {\"backgroundcolor\": \"#E5ECF6\", \"gridcolor\": \"white\", \"gridwidth\": 2, \"linecolor\": \"white\", \"showbackground\": true, \"ticks\": \"\", \"zerolinecolor\": \"white\"}}, \"shapedefaults\": {\"line\": {\"color\": \"#2a3f5f\"}}, \"ternary\": {\"aaxis\": {\"gridcolor\": \"white\", \"linecolor\": \"white\", \"ticks\": \"\"}, \"baxis\": {\"gridcolor\": \"white\", \"linecolor\": \"white\", \"ticks\": \"\"}, \"bgcolor\": \"#E5ECF6\", \"caxis\": {\"gridcolor\": \"white\", \"linecolor\": \"white\", \"ticks\": \"\"}}, \"title\": {\"x\": 0.05}, \"xaxis\": {\"automargin\": true, \"gridcolor\": \"white\", \"linecolor\": \"white\", \"ticks\": \"\", \"title\": {\"standoff\": 15}, \"zerolinecolor\": \"white\", \"zerolinewidth\": 2}, \"yaxis\": {\"automargin\": true, \"gridcolor\": \"white\", \"linecolor\": \"white\", \"ticks\": \"\", \"title\": {\"standoff\": 15}, \"zerolinecolor\": \"white\", \"zerolinewidth\": 2}}}, \"title\": {\"text\": \"Profit and loss statement 2018\"}},\n",
       "                        {\"responsive\": true}\n",
       "                    ).then(function(){\n",
       "                            \n",
       "var gd = document.getElementById('54926f74-eedb-478f-85df-6b860bae01df');\n",
       "var x = new MutationObserver(function (mutations, observer) {{\n",
       "        var display = window.getComputedStyle(gd).display;\n",
       "        if (!display || display === 'none') {{\n",
       "            console.log([gd, 'removed!']);\n",
       "            Plotly.purge(gd);\n",
       "            observer.disconnect();\n",
       "        }}\n",
       "}});\n",
       "\n",
       "// Listen for the removal of the full notebook cells\n",
       "var notebookContainer = gd.closest('#notebook-container');\n",
       "if (notebookContainer) {{\n",
       "    x.observe(notebookContainer, {childList: true});\n",
       "}}\n",
       "\n",
       "// Listen for the clearing of the current output cell\n",
       "var outputEl = gd.closest('.output');\n",
       "if (outputEl) {{\n",
       "    x.observe(outputEl, {childList: true});\n",
       "}}\n",
       "\n",
       "                        })\n",
       "                };\n",
       "                });\n",
       "            </script>\n",
       "        </div>"
      ]
     },
     "metadata": {},
     "output_type": "display_data"
    }
   ],
   "source": [
    "import plotly.graph_objects as go\n",
    "\n",
    "fig = go.Figure(go.Waterfall(\n",
    "    name = \"20\", orientation = \"v\",\n",
    "    measure = [\"relative\", \"relative\", \"total\", \"relative\", \"relative\", \"total\"],\n",
    "    x = [\"Sales\", \"Consulting\", \"Net revenue\", \"Purchases\", \"Other expenses\", \"Profit before tax\"],\n",
    "    textposition = \"outside\",\n",
    "    text = [\"+60\", \"+80\", \"\", \"-40\", \"-20\", \"Total\"],\n",
    "    y = [60, 80, 0, -40, -20, 0],\n",
    "    connector = {\"line\":{\"color\":\"rgb(63, 63, 63)\"}},\n",
    "))\n",
    "\n",
    "fig.update_layout(\n",
    "        title = \"Profit and loss statement 2018\",\n",
    "        showlegend = True\n",
    ")\n",
    "\n",
    "fig.show()"
   ]
  },
  {
   "cell_type": "markdown",
   "metadata": {},
   "source": [
    "# Account principal over time"
   ]
  },
  {
   "cell_type": "code",
   "execution_count": 76,
   "metadata": {},
   "outputs": [],
   "source": [
    "div_qtr = div_table.groupby('quarter')['principal'].sum()"
   ]
  },
  {
   "cell_type": "markdown",
   "metadata": {},
   "source": [
    "# Average share price for each mutual fund / ETF / stock :: Cost Basis"
   ]
  },
  {
   "cell_type": "code",
   "execution_count": 77,
   "metadata": {},
   "outputs": [],
   "source": [
    "cost_basis = unit.groupby('symbol')['share_price'].mean()"
   ]
  },
  {
   "cell_type": "code",
   "execution_count": 78,
   "metadata": {},
   "outputs": [
    {
     "data": {
      "text/plain": [
       "symbol\n",
       "AGG      109.590885\n",
       "FPURX     21.689735\n",
       "SPY      245.921400\n",
       "VWELX     40.043733\n",
       "Name: share_price, dtype: float64"
      ]
     },
     "execution_count": 78,
     "metadata": {},
     "output_type": "execute_result"
    }
   ],
   "source": [
    "cost_basis"
   ]
  },
  {
   "cell_type": "code",
   "execution_count": 79,
   "metadata": {},
   "outputs": [
    {
     "data": {
      "text/plain": [
       "date\n",
       "2015-01-28      26.70\n",
       "2015-02-11      93.45\n",
       "2015-02-25     160.20\n",
       "2015-03-11     226.95\n",
       "2015-03-20     227.98\n",
       "               ...   \n",
       "2017-07-26    5186.23\n",
       "2017-08-09    5227.33\n",
       "2017-08-23    5268.42\n",
       "2017-09-06    5309.52\n",
       "2017-09-15    5340.53\n",
       "Name: sym_total, Length: 80, dtype: float64"
      ]
     },
     "execution_count": 79,
     "metadata": {},
     "output_type": "execute_result"
    }
   ],
   "source": [
    "spy['sym_total'].head(80)"
   ]
  },
  {
   "cell_type": "markdown",
   "metadata": {},
   "source": [
    "# Create list of charts for inputs in the App"
   ]
  },
  {
   "cell_type": "markdown",
   "metadata": {},
   "source": [
    "Create the stacked area chart to visualize fund performance over time."
   ]
  },
  {
   "cell_type": "code",
   "execution_count": 80,
   "metadata": {},
   "outputs": [],
   "source": [
    "fig = go.Figure()"
   ]
  },
  {
   "cell_type": "code",
   "execution_count": 81,
   "metadata": {},
   "outputs": [
    {
     "data": {
      "application/vnd.plotly.v1+json": {
       "config": {
        "plotlyServerURL": "https://plot.ly"
       },
       "data": [
        {
         "hoverinfo": "x+y",
         "line": {
          "color": "rgb(0, 51, 153)",
          "width": 0.5
         },
         "mode": "lines",
         "name": "Taxable: AGG",
         "stackgroup": "one",
         "type": "scatter",
         "x": [
          "2015 Q1",
          "2015 Q1",
          "2015 Q1",
          "2015 Q1",
          "2015 Q1",
          "2015 Q1",
          "2015 Q1",
          "2015 Q2",
          "2015 Q2",
          "2015 Q2",
          "2015 Q2",
          "2015 Q2",
          "2015 Q2",
          "2015 Q2",
          "2015 Q2",
          "2015 Q2",
          "2015 Q3",
          "2015 Q3",
          "2015 Q3",
          "2015 Q3",
          "2015 Q3",
          "2015 Q3",
          "2015 Q3",
          "2015 Q3",
          "2015 Q3",
          "2015 Q3",
          "2015 Q4",
          "2015 Q4",
          "2015 Q4",
          "2015 Q4",
          "2015 Q4",
          "2015 Q4",
          "2015 Q4",
          "2015 Q4",
          "2015 Q4",
          "2015 Q4",
          "2015 Q4",
          "2016 Q1",
          "2016 Q1",
          "2016 Q1",
          "2016 Q1",
          "2016 Q1",
          "2016 Q1",
          "2016 Q1",
          "2016 Q1",
          "2016 Q2",
          "2016 Q2",
          "2016 Q2",
          "2016 Q2",
          "2016 Q2",
          "2016 Q2",
          "2016 Q2",
          "2016 Q2",
          "2016 Q2",
          "2016 Q2",
          "2016 Q3",
          "2016 Q3",
          "2016 Q3",
          "2016 Q3",
          "2016 Q3",
          "2016 Q3",
          "2016 Q3",
          "2016 Q3",
          "2016 Q3",
          "2016 Q4",
          "2016 Q4",
          "2016 Q4",
          "2016 Q4",
          "2016 Q4",
          "2016 Q4",
          "2016 Q4",
          "2016 Q4",
          "2016 Q4",
          "2016 Q4",
          "2016 Q4",
          "2017 Q1",
          "2017 Q1",
          "2017 Q1",
          "2017 Q1",
          "2017 Q1",
          "2017 Q1",
          "2017 Q1",
          "2017 Q1",
          "2017 Q2",
          "2017 Q2",
          "2017 Q2",
          "2017 Q2",
          "2017 Q2",
          "2017 Q2",
          "2017 Q2",
          "2017 Q2",
          "2017 Q2",
          "2017 Q2",
          "2017 Q3",
          "2017 Q3",
          "2017 Q3",
          "2017 Q3",
          "2017 Q3",
          "2017 Q3",
          "2017 Q3",
          "2017 Q3",
          "2017 Q3",
          "2017 Q4",
          "2017 Q4",
          "2017 Q4",
          "2017 Q4",
          "2017 Q4",
          "2017 Q4",
          "2017 Q4",
          "2017 Q4",
          "2017 Q4",
          "2017 Q4",
          "2017 Q4",
          "2018 Q1",
          "2018 Q1",
          "2018 Q1",
          "2018 Q1",
          "2018 Q1",
          "2018 Q1",
          "2018 Q1",
          "2018 Q1",
          "2018 Q2",
          "2018 Q2",
          "2018 Q2",
          "2018 Q2",
          "2018 Q2",
          "2018 Q2",
          "2018 Q2",
          "2018 Q2",
          "2018 Q2",
          "2018 Q2",
          "2018 Q3",
          "2018 Q3",
          "2018 Q3",
          "2018 Q4",
          "2018 Q4",
          "2018 Q4",
          "2018 Q4",
          "2018 Q4",
          "2018 Q4",
          "2018 Q4",
          "2018 Q4",
          "2018 Q4",
          "2018 Q4",
          "2019 Q1",
          "2019 Q1",
          "2019 Q1",
          "2019 Q1",
          "2019 Q1",
          "2019 Q1",
          "2019 Q1",
          "2019 Q1",
          "2019 Q2",
          "2019 Q2",
          "2019 Q2",
          "2019 Q2",
          "2019 Q2",
          "2019 Q2",
          "2019 Q2",
          "2019 Q2",
          "2019 Q2",
          "2019 Q2",
          "2019 Q3",
          "2019 Q3",
          "2019 Q3",
          "2019 Q3",
          "2019 Q3",
          "2019 Q3",
          "2019 Q3",
          "2019 Q3",
          "2019 Q3",
          "2019 Q4",
          "2019 Q4",
          "2019 Q4",
          "2019 Q4",
          "2019 Q4",
          "2019 Q4",
          "2019 Q4",
          "2019 Q4",
          "2019 Q4",
          "2019 Q4",
          "2019 Q4",
          "2020 Q1",
          "2020 Q1",
          "2020 Q1",
          "2020 Q1",
          "2020 Q1",
          "2020 Q1",
          "2020 Q1",
          "2020 Q1",
          "2020 Q2",
          "2020 Q2"
         ],
         "y": [
          26.7,
          26.74,
          93.49,
          160.24,
          160.51,
          227.26,
          294.01,
          294.57,
          361.32,
          428.07,
          428.86,
          504.51,
          580.16,
          581.25,
          656.9,
          732.55,
          733.98,
          809.63,
          885.28,
          960.93,
          962.8,
          1038.45,
          1118.55,
          1120.81,
          1200.91,
          1281.01,
          1283.41,
          1363.51,
          1443.61,
          1446.44,
          1526.54,
          1606.64,
          1612.08,
          1692.18,
          1772.28,
          1775.88,
          1869.33,
          1962.78,
          2056.23,
          2060.53,
          2153.98,
          2247.43,
          2251.98,
          2345.43,
          2438.88,
          2443.83,
          2546.18,
          2644.08,
          2649.04,
          2746.94,
          2844.84,
          2850.51,
          2948.41,
          3046.31,
          3144.21,
          3150.29,
          3248.19,
          3346.09,
          3352.4,
          3432.5,
          3512.6,
          3519.24,
          3599.34,
          3679.44,
          3686.23,
          3766.33,
          3846.43,
          3853.77,
          3933.87,
          4027.32,
          4120.77,
          4128.41,
          4221.86,
          4231.43,
          4324.88,
          4418.33,
          4511.78,
          4520.73,
          4614.18,
          4707.63,
          4717.07,
          4743.77,
          4784.86,
          4794.54,
          4835.64,
          4876.73,
          4887.36,
          4928.46,
          4969.55,
          5010.65,
          5021.15,
          5062.25,
          5103.34,
          5113.81,
          5154.9,
          5196,
          5206.89,
          5247.99,
          5289.08,
          5300.17,
          5341.26,
          5423.45,
          5434.67,
          5516.86,
          5599.05,
          5610.69,
          5728.1,
          5845.51,
          5962.92,
          5975.48,
          6092.89,
          6094.89,
          6212.3,
          6329.71,
          6447.12,
          6461.35,
          6578.76,
          6696.17,
          6710.55,
          6827.96,
          6951.27,
          6966.71,
          7090.02,
          7213.33,
          7229.17,
          7352.48,
          7475.79,
          7599.1,
          7616.45,
          7739.76,
          7863.07,
          7879.59,
          7897.74,
          7914.56,
          7932.86,
          8532.86,
          8582.18,
          8622.81,
          8672.14,
          8721.46,
          8741.63,
          8790.95,
          8807.95,
          8857.28,
          8900.43,
          8935.37,
          8957.43,
          8992.37,
          9028.12,
          9050.34,
          9087.9,
          9130.45,
          9152.5,
          9188.34,
          9224.18,
          9246.28,
          9282.12,
          9325.34,
          9373.94,
          9396.39,
          9432.23,
          9474.11,
          9496.1,
          9535.3,
          9571.14,
          9594.04,
          9629.88,
          9678.6,
          9702.02,
          9738.53,
          9774.37,
          9797.29,
          9833.13,
          9877.92,
          9922.72,
          9945.61,
          9990.4,
          10038.55,
          10061.23,
          10106.87,
          10124.58,
          10169.38,
          10214.17,
          10258.97,
          10281.84,
          10285.04,
          10307.58,
          10521.18,
          10671.18,
          10721.18,
          10745.61,
          10795.61
         ]
        },
        {
         "hoverinfo": "x+y",
         "line": {
          "color": "rgb(131, 90, 241)",
          "width": 0.5
         },
         "mode": "lines",
         "name": "Taxable: Puritan Fund",
         "stackgroup": "one",
         "type": "scatter",
         "x": [
          "2015 Q1",
          "2015 Q1",
          "2015 Q1",
          "2015 Q1",
          "2015 Q1",
          "2015 Q2",
          "2015 Q2",
          "2015 Q2",
          "2015 Q2",
          "2015 Q2",
          "2015 Q2",
          "2015 Q2",
          "2015 Q3",
          "2015 Q3",
          "2015 Q3",
          "2015 Q3",
          "2015 Q3",
          "2015 Q3",
          "2015 Q3",
          "2015 Q3",
          "2015 Q4",
          "2015 Q3",
          "2015 Q4",
          "2015 Q4",
          "2015 Q4",
          "2015 Q4",
          "2015 Q4",
          "2015 Q4",
          "2015 Q4",
          "2016 Q1",
          "2016 Q1",
          "2016 Q1",
          "2016 Q1",
          "2016 Q1",
          "2016 Q1",
          "2016 Q2",
          "2016 Q2",
          "2016 Q2",
          "2016 Q2",
          "2016 Q2",
          "2016 Q2",
          "2016 Q2",
          "2016 Q2",
          "2016 Q3",
          "2016 Q3",
          "2016 Q3",
          "2016 Q3",
          "2016 Q3",
          "2016 Q3",
          "2016 Q3",
          "2016 Q4",
          "2016 Q4",
          "2016 Q4",
          "2016 Q4",
          "2016 Q4",
          "2016 Q4",
          "2016 Q4",
          "2016 Q4",
          "2016 Q4",
          "2016 Q4",
          "2017 Q1",
          "2017 Q1",
          "2017 Q1",
          "2017 Q1",
          "2017 Q1",
          "2017 Q1",
          "2017 Q2",
          "2017 Q2",
          "2017 Q2",
          "2017 Q2",
          "2017 Q2",
          "2017 Q2",
          "2017 Q2",
          "2017 Q2",
          "2017 Q3",
          "2017 Q3",
          "2017 Q3",
          "2017 Q3",
          "2017 Q3",
          "2017 Q3",
          "2017 Q3",
          "2017 Q4",
          "2017 Q4",
          "2017 Q4",
          "2017 Q4",
          "2017 Q4",
          "2017 Q4",
          "2017 Q4",
          "2017 Q4",
          "2017 Q4",
          "2018 Q1",
          "2018 Q1",
          "2018 Q1",
          "2018 Q1",
          "2018 Q1",
          "2018 Q1",
          "2018 Q2",
          "2018 Q2",
          "2018 Q2",
          "2018 Q2",
          "2018 Q2",
          "2018 Q2",
          "2018 Q2",
          "2018 Q2",
          "2018 Q3",
          "2018 Q4",
          "2018 Q4",
          "2018 Q4",
          "2018 Q4",
          "2018 Q4",
          "2018 Q4",
          "2018 Q4",
          "2018 Q4",
          "2019 Q1",
          "2019 Q1",
          "2019 Q1",
          "2019 Q1",
          "2019 Q1",
          "2019 Q1",
          "2019 Q2",
          "2019 Q2",
          "2019 Q2",
          "2019 Q2",
          "2019 Q2",
          "2019 Q2",
          "2019 Q2",
          "2019 Q2",
          "2019 Q3",
          "2019 Q3",
          "2019 Q3",
          "2019 Q3",
          "2019 Q3",
          "2019 Q3",
          "2019 Q3",
          "2019 Q4",
          "2019 Q4",
          "2019 Q4",
          "2019 Q4",
          "2019 Q4",
          "2019 Q4",
          "2019 Q4",
          "2019 Q4",
          "2019 Q4",
          "2020 Q1",
          "2020 Q1",
          "2020 Q1",
          "2020 Q1",
          "2020 Q1",
          "2020 Q1",
          "2020 Q2",
          "2020 Q2"
         ],
         "y": [
          26.7,
          93.45,
          160.2,
          226.95,
          293.7,
          294.76,
          361.51,
          428.26,
          503.91,
          579.56,
          655.21,
          730.86,
          737.72,
          813.37,
          889.02,
          964.67,
          1040.32,
          1120.42,
          1200.52,
          1280.62,
          1360.72,
          1433.01,
          1513.11,
          1593.21,
          1673.31,
          1753.41,
          1759.25,
          1839.35,
          1932.8,
          2026.25,
          2119.7,
          2213.15,
          2306.6,
          2400.05,
          2493.5,
          2595.85,
          2607.66,
          2705.56,
          2803.46,
          2901.36,
          2999.26,
          3097.16,
          3195.06,
          3206.56,
          3304.46,
          3402.36,
          3482.46,
          3562.56,
          3642.66,
          3722.76,
          3802.86,
          3851.04,
          3931.14,
          4011.24,
          4104.69,
          4198.14,
          4252.05,
          4345.5,
          4353.47,
          4446.92,
          4540.37,
          4633.82,
          4727.27,
          4820.72,
          4847.42,
          4888.52,
          4929.62,
          4946.82,
          4987.92,
          5029.02,
          5070.12,
          5111.22,
          5152.32,
          5193.42,
          5214.55,
          5255.65,
          5296.75,
          5337.85,
          5378.95,
          5420.05,
          5502.24,
          5584.43,
          5722.15,
          5804.34,
          5921.75,
          6039.16,
          6156.57,
          6230.12,
          6347.53,
          6464.94,
          6582.35,
          6699.76,
          6817.17,
          6934.58,
          7051.99,
          7175.3,
          7298.61,
          7326.22,
          7449.53,
          7572.84,
          7696.15,
          7819.46,
          7942.77,
          8066.08,
          8095.35,
          8643.08,
          9243.08,
          9292.41,
          9341.74,
          9391.07,
          9868.17,
          9917.5,
          9966.83,
          10009.99,
          10044.93,
          10079.87,
          10115.63,
          10153.19,
          10195.75,
          10231.59,
          10265.94,
          10301.78,
          10337.62,
          10380.85,
          10429.45,
          10465.29,
          10507.17,
          10543.7,
          10582.9,
          10618.74,
          10654.58,
          10703.3,
          10739.81,
          10775.65,
          10811.49,
          11039.68,
          11084.48,
          11129.28,
          11174.08,
          11222.23,
          11267.87,
          11380.42,
          11425.22,
          11470.02,
          11514.82,
          11518.02,
          11731.62,
          11881.62,
          11931.62,
          11966.01,
          12016.01
         ]
        },
        {
         "hoverinfo": "x+y",
         "line": {
          "color": "rgb(102, 0, 204)",
          "width": 0.5
         },
         "mode": "lines",
         "name": "Taxable: Wellsley",
         "stackgroup": "one",
         "type": "scatter",
         "x": [
          "2015 Q1",
          "2015 Q1",
          "2015 Q1",
          "2015 Q1",
          "2015 Q1",
          "2015 Q1",
          "2015 Q2",
          "2015 Q2",
          "2015 Q2",
          "2015 Q2",
          "2015 Q2",
          "2015 Q2",
          "2015 Q2",
          "2015 Q3",
          "2015 Q3",
          "2015 Q3",
          "2015 Q3",
          "2015 Q3",
          "2015 Q3",
          "2015 Q3",
          "2015 Q3",
          "2015 Q4",
          "2015 Q4",
          "2015 Q4",
          "2015 Q4",
          "2015 Q4",
          "2015 Q4",
          "2015 Q4",
          "2015 Q4",
          "2016 Q1",
          "2016 Q1",
          "2016 Q1",
          "2016 Q1",
          "2016 Q1",
          "2016 Q1",
          "2016 Q1",
          "2016 Q2",
          "2016 Q2",
          "2016 Q2",
          "2016 Q2",
          "2016 Q2",
          "2016 Q2",
          "2016 Q2",
          "2016 Q2",
          "2016 Q3",
          "2016 Q3",
          "2016 Q3",
          "2016 Q3",
          "2016 Q3",
          "2016 Q3",
          "2016 Q3",
          "2016 Q4",
          "2016 Q4",
          "2016 Q4",
          "2016 Q4",
          "2016 Q4",
          "2016 Q4",
          "2016 Q4",
          "2016 Q4",
          "2017 Q1",
          "2017 Q1",
          "2017 Q1",
          "2017 Q1",
          "2017 Q1",
          "2017 Q1",
          "2017 Q1",
          "2017 Q2",
          "2017 Q2",
          "2017 Q2",
          "2017 Q2",
          "2017 Q2",
          "2017 Q2",
          "2017 Q2",
          "2017 Q2",
          "2017 Q3",
          "2017 Q3",
          "2017 Q3",
          "2017 Q3",
          "2017 Q3",
          "2017 Q3",
          "2017 Q3",
          "2017 Q4",
          "2017 Q4",
          "2017 Q4",
          "2017 Q4",
          "2017 Q4",
          "2017 Q4",
          "2017 Q4",
          "2017 Q4",
          "2018 Q1",
          "2018 Q1",
          "2018 Q1",
          "2018 Q1",
          "2018 Q1",
          "2018 Q1",
          "2018 Q1",
          "2018 Q2",
          "2018 Q2",
          "2018 Q2",
          "2018 Q2",
          "2018 Q2",
          "2018 Q2",
          "2018 Q2",
          "2018 Q2",
          "2018 Q3",
          "2018 Q4",
          "2018 Q4",
          "2018 Q4",
          "2018 Q4",
          "2018 Q4",
          "2018 Q4",
          "2018 Q4",
          "2019 Q1",
          "2019 Q1",
          "2019 Q1",
          "2019 Q1",
          "2019 Q1",
          "2019 Q1",
          "2019 Q1",
          "2019 Q2",
          "2019 Q2",
          "2019 Q2",
          "2019 Q2",
          "2019 Q2",
          "2019 Q2",
          "2019 Q2",
          "2019 Q2",
          "2019 Q3",
          "2019 Q3",
          "2019 Q3",
          "2019 Q3",
          "2019 Q3",
          "2019 Q3",
          "2019 Q3",
          "2019 Q4",
          "2019 Q4",
          "2019 Q4",
          "2019 Q4",
          "2019 Q4",
          "2019 Q4",
          "2019 Q4",
          "2019 Q4",
          "2020 Q1",
          "2020 Q1",
          "2020 Q1",
          "2020 Q1",
          "2020 Q1",
          "2020 Q1",
          "2020 Q1",
          "2020 Q2"
         ],
         "y": [
          26.7,
          93.45,
          160.2,
          226.95,
          293.7,
          295.43,
          362.18,
          428.93,
          504.58,
          580.23,
          655.88,
          731.53,
          736.04,
          811.69,
          887.34,
          962.99,
          1038.64,
          1118.74,
          1198.84,
          1206.33,
          1286.43,
          1366.53,
          1446.63,
          1526.73,
          1606.83,
          1686.93,
          1767.03,
          1846.47,
          1939.92,
          2033.37,
          2126.82,
          2220.27,
          2313.72,
          2407.17,
          2421.65,
          2515.1,
          2617.45,
          2715.35,
          2813.25,
          2911.15,
          3009.05,
          3106.95,
          3127.74,
          3225.64,
          3323.54,
          3421.44,
          3501.54,
          3581.64,
          3661.74,
          3685.5,
          3765.6,
          3845.7,
          3925.8,
          4005.9,
          4099.35,
          4192.8,
          4286.25,
          4401.92,
          4495.37,
          4588.82,
          4682.27,
          4775.72,
          4869.17,
          4895.87,
          4936.97,
          4967.66,
          5008.75,
          5049.85,
          5090.94,
          5132.04,
          5173.13,
          5214.23,
          5251.32,
          5292.42,
          5333.51,
          5374.61,
          5415.7,
          5456.8,
          5497.89,
          5580.08,
          5615.8,
          5697.99,
          5780.18,
          5897.59,
          6015,
          6132.41,
          6249.82,
          6576.14,
          6693.55,
          6810.96,
          6928.37,
          7045.78,
          7163.19,
          7280.6,
          7323.85,
          7447.16,
          7570.47,
          7693.78,
          7817.09,
          7940.4,
          8063.71,
          8187.02,
          8249.94,
          8373.25,
          8430.93,
          9030.93,
          9080.26,
          9129.58,
          9178.91,
          9228.23,
          9891.57,
          9940.9,
          9984.05,
          10018.99,
          10053.92,
          10089.68,
          10127.24,
          10192.13,
          10234.69,
          10270.53,
          10306.37,
          10342.21,
          10385.43,
          10434.03,
          10469.87,
          10541.87,
          10583.75,
          10622.95,
          10658.79,
          10694.63,
          10743.34,
          10779.85,
          10815.69,
          10886.94,
          10922.78,
          10967.58,
          11012.37,
          11057.17,
          11105.32,
          11150.95,
          11195.75,
          11542.32,
          11587.11,
          11631.91,
          11635.11,
          11848.7,
          11998.7,
          12078.3,
          12128.3,
          12178.3
         ]
        },
        {
         "hoverinfo": "x+y",
         "line": {
          "color": "rgb(50, 0, 204)",
          "width": 0.5
         },
         "mode": "lines",
         "name": "Taxable: SPY",
         "stackgroup": "one",
         "type": "scatter",
         "x": [
          "2015 Q1",
          "2015 Q1",
          "2015 Q1",
          "2015 Q1",
          "2015 Q1",
          "2015 Q1",
          "2015 Q2",
          "2015 Q2",
          "2015 Q2",
          "2015 Q2",
          "2015 Q2",
          "2015 Q2",
          "2015 Q2",
          "2015 Q3",
          "2015 Q3",
          "2015 Q3",
          "2015 Q3",
          "2015 Q3",
          "2015 Q3",
          "2015 Q3",
          "2015 Q3",
          "2015 Q4",
          "2015 Q4",
          "2015 Q4",
          "2015 Q4",
          "2015 Q4",
          "2015 Q4",
          "2015 Q4",
          "2015 Q4",
          "2016 Q1",
          "2016 Q1",
          "2016 Q1",
          "2016 Q1",
          "2016 Q1",
          "2016 Q1",
          "2016 Q1",
          "2016 Q2",
          "2016 Q2",
          "2016 Q2",
          "2016 Q2",
          "2016 Q2",
          "2016 Q2",
          "2016 Q2",
          "2016 Q2",
          "2016 Q3",
          "2016 Q3",
          "2016 Q3",
          "2016 Q3",
          "2016 Q3",
          "2016 Q3",
          "2016 Q3",
          "2016 Q4",
          "2016 Q4",
          "2016 Q4",
          "2016 Q4",
          "2016 Q4",
          "2016 Q4",
          "2016 Q4",
          "2016 Q4",
          "2017 Q1",
          "2017 Q1",
          "2017 Q1",
          "2017 Q1",
          "2017 Q1",
          "2017 Q1",
          "2017 Q1",
          "2017 Q2",
          "2017 Q2",
          "2017 Q2",
          "2017 Q2",
          "2017 Q2",
          "2017 Q2",
          "2017 Q2",
          "2017 Q2",
          "2017 Q3",
          "2017 Q3",
          "2017 Q3",
          "2017 Q3",
          "2017 Q3",
          "2017 Q3",
          "2017 Q3",
          "2017 Q4",
          "2017 Q4",
          "2017 Q4",
          "2017 Q4",
          "2017 Q4",
          "2017 Q4",
          "2017 Q4",
          "2017 Q4",
          "2018 Q1",
          "2018 Q1",
          "2018 Q1",
          "2018 Q1",
          "2018 Q1",
          "2018 Q1",
          "2018 Q1",
          "2018 Q2",
          "2018 Q2",
          "2018 Q2",
          "2018 Q2",
          "2018 Q2",
          "2018 Q2",
          "2018 Q2",
          "2018 Q2",
          "2018 Q3",
          "2018 Q4",
          "2018 Q4",
          "2018 Q4",
          "2018 Q4",
          "2018 Q4",
          "2018 Q4",
          "2018 Q4",
          "2019 Q1",
          "2019 Q1",
          "2019 Q1",
          "2019 Q1",
          "2019 Q1",
          "2019 Q1",
          "2019 Q1",
          "2019 Q2",
          "2019 Q2",
          "2019 Q2",
          "2019 Q2",
          "2019 Q2",
          "2019 Q2",
          "2019 Q2",
          "2019 Q2",
          "2019 Q3",
          "2019 Q3",
          "2019 Q3",
          "2019 Q3",
          "2019 Q3",
          "2019 Q3",
          "2019 Q3",
          "2019 Q4",
          "2019 Q4",
          "2019 Q4",
          "2019 Q4",
          "2019 Q4",
          "2019 Q4",
          "2019 Q4",
          "2019 Q4",
          "2020 Q1",
          "2020 Q1",
          "2020 Q1",
          "2020 Q1",
          "2020 Q1",
          "2020 Q1",
          "2020 Q1",
          "2020 Q2"
         ],
         "y": [
          26.7,
          93.45,
          160.2,
          226.95,
          227.98,
          294.73,
          361.48,
          428.23,
          503.88,
          579.53,
          655.18,
          730.83,
          734.45,
          810.1,
          885.75,
          961.4,
          1037.05,
          1117.15,
          1197.25,
          1203.26,
          1283.36,
          1363.46,
          1443.56,
          1523.66,
          1603.76,
          1683.86,
          1763.96,
          1774.4,
          1867.85,
          1961.3,
          2054.75,
          2148.2,
          2241.65,
          2335.1,
          2347.25,
          2440.7,
          2543.05,
          2640.95,
          2738.85,
          2836.75,
          2934.65,
          3032.55,
          3048.68,
          3146.58,
          3244.48,
          3342.38,
          3422.48,
          3502.58,
          3582.68,
          3601.65,
          3681.75,
          3761.85,
          3841.95,
          3922.05,
          4015.5,
          4108.95,
          4202.4,
          4229.54,
          4322.99,
          4416.44,
          4509.89,
          4603.34,
          4696.79,
          4723.49,
          4746.9,
          4788,
          4829.09,
          4870.19,
          4911.28,
          4952.38,
          4993.47,
          5034.57,
          5062.95,
          5104.04,
          5145.14,
          5186.23,
          5227.33,
          5268.42,
          5309.52,
          5340.53,
          5422.72,
          5504.91,
          5587.1,
          5704.51,
          5821.92,
          5939.33,
          6056.74,
          6094.61,
          6212.02,
          6329.43,
          6446.84,
          6564.25,
          6681.66,
          6799.07,
          6832.78,
          6956.09,
          7079.4,
          7202.71,
          7326.02,
          7449.33,
          7572.64,
          7695.95,
          7738.41,
          7861.72,
          7907.62,
          8507.62,
          8556.94,
          8606.27,
          8655.59,
          8704.92,
          8759.12,
          8808.45,
          8851.6,
          8886.54,
          8921.47,
          8957.23,
          8994.79,
          9042.67,
          9085.22,
          9121.06,
          9156.9,
          9192.74,
          9235.97,
          9284.57,
          9320.41,
          9377.67,
          9419.55,
          9458.74,
          9494.58,
          9530.42,
          9579.14,
          9615.65,
          9651.49,
          9708.37,
          9744.21,
          9789.01,
          9833.8,
          9878.6,
          9926.75,
          9972.38,
          10038.57,
          10083.36,
          10128.16,
          10172.95,
          10176.15,
          10389.75,
          10539.75,
          10601.79,
          10651.79,
          10701.79
         ]
        }
       ],
       "layout": {
        "template": {
         "data": {
          "bar": [
           {
            "error_x": {
             "color": "#2a3f5f"
            },
            "error_y": {
             "color": "#2a3f5f"
            },
            "marker": {
             "line": {
              "color": "#E5ECF6",
              "width": 0.5
             }
            },
            "type": "bar"
           }
          ],
          "barpolar": [
           {
            "marker": {
             "line": {
              "color": "#E5ECF6",
              "width": 0.5
             }
            },
            "type": "barpolar"
           }
          ],
          "carpet": [
           {
            "aaxis": {
             "endlinecolor": "#2a3f5f",
             "gridcolor": "white",
             "linecolor": "white",
             "minorgridcolor": "white",
             "startlinecolor": "#2a3f5f"
            },
            "baxis": {
             "endlinecolor": "#2a3f5f",
             "gridcolor": "white",
             "linecolor": "white",
             "minorgridcolor": "white",
             "startlinecolor": "#2a3f5f"
            },
            "type": "carpet"
           }
          ],
          "choropleth": [
           {
            "colorbar": {
             "outlinewidth": 0,
             "ticks": ""
            },
            "type": "choropleth"
           }
          ],
          "contour": [
           {
            "colorbar": {
             "outlinewidth": 0,
             "ticks": ""
            },
            "colorscale": [
             [
              0,
              "#0d0887"
             ],
             [
              0.1111111111111111,
              "#46039f"
             ],
             [
              0.2222222222222222,
              "#7201a8"
             ],
             [
              0.3333333333333333,
              "#9c179e"
             ],
             [
              0.4444444444444444,
              "#bd3786"
             ],
             [
              0.5555555555555556,
              "#d8576b"
             ],
             [
              0.6666666666666666,
              "#ed7953"
             ],
             [
              0.7777777777777778,
              "#fb9f3a"
             ],
             [
              0.8888888888888888,
              "#fdca26"
             ],
             [
              1,
              "#f0f921"
             ]
            ],
            "type": "contour"
           }
          ],
          "contourcarpet": [
           {
            "colorbar": {
             "outlinewidth": 0,
             "ticks": ""
            },
            "type": "contourcarpet"
           }
          ],
          "heatmap": [
           {
            "colorbar": {
             "outlinewidth": 0,
             "ticks": ""
            },
            "colorscale": [
             [
              0,
              "#0d0887"
             ],
             [
              0.1111111111111111,
              "#46039f"
             ],
             [
              0.2222222222222222,
              "#7201a8"
             ],
             [
              0.3333333333333333,
              "#9c179e"
             ],
             [
              0.4444444444444444,
              "#bd3786"
             ],
             [
              0.5555555555555556,
              "#d8576b"
             ],
             [
              0.6666666666666666,
              "#ed7953"
             ],
             [
              0.7777777777777778,
              "#fb9f3a"
             ],
             [
              0.8888888888888888,
              "#fdca26"
             ],
             [
              1,
              "#f0f921"
             ]
            ],
            "type": "heatmap"
           }
          ],
          "heatmapgl": [
           {
            "colorbar": {
             "outlinewidth": 0,
             "ticks": ""
            },
            "colorscale": [
             [
              0,
              "#0d0887"
             ],
             [
              0.1111111111111111,
              "#46039f"
             ],
             [
              0.2222222222222222,
              "#7201a8"
             ],
             [
              0.3333333333333333,
              "#9c179e"
             ],
             [
              0.4444444444444444,
              "#bd3786"
             ],
             [
              0.5555555555555556,
              "#d8576b"
             ],
             [
              0.6666666666666666,
              "#ed7953"
             ],
             [
              0.7777777777777778,
              "#fb9f3a"
             ],
             [
              0.8888888888888888,
              "#fdca26"
             ],
             [
              1,
              "#f0f921"
             ]
            ],
            "type": "heatmapgl"
           }
          ],
          "histogram": [
           {
            "marker": {
             "colorbar": {
              "outlinewidth": 0,
              "ticks": ""
             }
            },
            "type": "histogram"
           }
          ],
          "histogram2d": [
           {
            "colorbar": {
             "outlinewidth": 0,
             "ticks": ""
            },
            "colorscale": [
             [
              0,
              "#0d0887"
             ],
             [
              0.1111111111111111,
              "#46039f"
             ],
             [
              0.2222222222222222,
              "#7201a8"
             ],
             [
              0.3333333333333333,
              "#9c179e"
             ],
             [
              0.4444444444444444,
              "#bd3786"
             ],
             [
              0.5555555555555556,
              "#d8576b"
             ],
             [
              0.6666666666666666,
              "#ed7953"
             ],
             [
              0.7777777777777778,
              "#fb9f3a"
             ],
             [
              0.8888888888888888,
              "#fdca26"
             ],
             [
              1,
              "#f0f921"
             ]
            ],
            "type": "histogram2d"
           }
          ],
          "histogram2dcontour": [
           {
            "colorbar": {
             "outlinewidth": 0,
             "ticks": ""
            },
            "colorscale": [
             [
              0,
              "#0d0887"
             ],
             [
              0.1111111111111111,
              "#46039f"
             ],
             [
              0.2222222222222222,
              "#7201a8"
             ],
             [
              0.3333333333333333,
              "#9c179e"
             ],
             [
              0.4444444444444444,
              "#bd3786"
             ],
             [
              0.5555555555555556,
              "#d8576b"
             ],
             [
              0.6666666666666666,
              "#ed7953"
             ],
             [
              0.7777777777777778,
              "#fb9f3a"
             ],
             [
              0.8888888888888888,
              "#fdca26"
             ],
             [
              1,
              "#f0f921"
             ]
            ],
            "type": "histogram2dcontour"
           }
          ],
          "mesh3d": [
           {
            "colorbar": {
             "outlinewidth": 0,
             "ticks": ""
            },
            "type": "mesh3d"
           }
          ],
          "parcoords": [
           {
            "line": {
             "colorbar": {
              "outlinewidth": 0,
              "ticks": ""
             }
            },
            "type": "parcoords"
           }
          ],
          "pie": [
           {
            "automargin": true,
            "type": "pie"
           }
          ],
          "scatter": [
           {
            "marker": {
             "colorbar": {
              "outlinewidth": 0,
              "ticks": ""
             }
            },
            "type": "scatter"
           }
          ],
          "scatter3d": [
           {
            "line": {
             "colorbar": {
              "outlinewidth": 0,
              "ticks": ""
             }
            },
            "marker": {
             "colorbar": {
              "outlinewidth": 0,
              "ticks": ""
             }
            },
            "type": "scatter3d"
           }
          ],
          "scattercarpet": [
           {
            "marker": {
             "colorbar": {
              "outlinewidth": 0,
              "ticks": ""
             }
            },
            "type": "scattercarpet"
           }
          ],
          "scattergeo": [
           {
            "marker": {
             "colorbar": {
              "outlinewidth": 0,
              "ticks": ""
             }
            },
            "type": "scattergeo"
           }
          ],
          "scattergl": [
           {
            "marker": {
             "colorbar": {
              "outlinewidth": 0,
              "ticks": ""
             }
            },
            "type": "scattergl"
           }
          ],
          "scattermapbox": [
           {
            "marker": {
             "colorbar": {
              "outlinewidth": 0,
              "ticks": ""
             }
            },
            "type": "scattermapbox"
           }
          ],
          "scatterpolar": [
           {
            "marker": {
             "colorbar": {
              "outlinewidth": 0,
              "ticks": ""
             }
            },
            "type": "scatterpolar"
           }
          ],
          "scatterpolargl": [
           {
            "marker": {
             "colorbar": {
              "outlinewidth": 0,
              "ticks": ""
             }
            },
            "type": "scatterpolargl"
           }
          ],
          "scatterternary": [
           {
            "marker": {
             "colorbar": {
              "outlinewidth": 0,
              "ticks": ""
             }
            },
            "type": "scatterternary"
           }
          ],
          "surface": [
           {
            "colorbar": {
             "outlinewidth": 0,
             "ticks": ""
            },
            "colorscale": [
             [
              0,
              "#0d0887"
             ],
             [
              0.1111111111111111,
              "#46039f"
             ],
             [
              0.2222222222222222,
              "#7201a8"
             ],
             [
              0.3333333333333333,
              "#9c179e"
             ],
             [
              0.4444444444444444,
              "#bd3786"
             ],
             [
              0.5555555555555556,
              "#d8576b"
             ],
             [
              0.6666666666666666,
              "#ed7953"
             ],
             [
              0.7777777777777778,
              "#fb9f3a"
             ],
             [
              0.8888888888888888,
              "#fdca26"
             ],
             [
              1,
              "#f0f921"
             ]
            ],
            "type": "surface"
           }
          ],
          "table": [
           {
            "cells": {
             "fill": {
              "color": "#EBF0F8"
             },
             "line": {
              "color": "white"
             }
            },
            "header": {
             "fill": {
              "color": "#C8D4E3"
             },
             "line": {
              "color": "white"
             }
            },
            "type": "table"
           }
          ]
         },
         "layout": {
          "annotationdefaults": {
           "arrowcolor": "#2a3f5f",
           "arrowhead": 0,
           "arrowwidth": 1
          },
          "coloraxis": {
           "colorbar": {
            "outlinewidth": 0,
            "ticks": ""
           }
          },
          "colorscale": {
           "diverging": [
            [
             0,
             "#8e0152"
            ],
            [
             0.1,
             "#c51b7d"
            ],
            [
             0.2,
             "#de77ae"
            ],
            [
             0.3,
             "#f1b6da"
            ],
            [
             0.4,
             "#fde0ef"
            ],
            [
             0.5,
             "#f7f7f7"
            ],
            [
             0.6,
             "#e6f5d0"
            ],
            [
             0.7,
             "#b8e186"
            ],
            [
             0.8,
             "#7fbc41"
            ],
            [
             0.9,
             "#4d9221"
            ],
            [
             1,
             "#276419"
            ]
           ],
           "sequential": [
            [
             0,
             "#0d0887"
            ],
            [
             0.1111111111111111,
             "#46039f"
            ],
            [
             0.2222222222222222,
             "#7201a8"
            ],
            [
             0.3333333333333333,
             "#9c179e"
            ],
            [
             0.4444444444444444,
             "#bd3786"
            ],
            [
             0.5555555555555556,
             "#d8576b"
            ],
            [
             0.6666666666666666,
             "#ed7953"
            ],
            [
             0.7777777777777778,
             "#fb9f3a"
            ],
            [
             0.8888888888888888,
             "#fdca26"
            ],
            [
             1,
             "#f0f921"
            ]
           ],
           "sequentialminus": [
            [
             0,
             "#0d0887"
            ],
            [
             0.1111111111111111,
             "#46039f"
            ],
            [
             0.2222222222222222,
             "#7201a8"
            ],
            [
             0.3333333333333333,
             "#9c179e"
            ],
            [
             0.4444444444444444,
             "#bd3786"
            ],
            [
             0.5555555555555556,
             "#d8576b"
            ],
            [
             0.6666666666666666,
             "#ed7953"
            ],
            [
             0.7777777777777778,
             "#fb9f3a"
            ],
            [
             0.8888888888888888,
             "#fdca26"
            ],
            [
             1,
             "#f0f921"
            ]
           ]
          },
          "colorway": [
           "#636efa",
           "#EF553B",
           "#00cc96",
           "#ab63fa",
           "#FFA15A",
           "#19d3f3",
           "#FF6692",
           "#B6E880",
           "#FF97FF",
           "#FECB52"
          ],
          "font": {
           "color": "#2a3f5f"
          },
          "geo": {
           "bgcolor": "white",
           "lakecolor": "white",
           "landcolor": "#E5ECF6",
           "showlakes": true,
           "showland": true,
           "subunitcolor": "white"
          },
          "hoverlabel": {
           "align": "left"
          },
          "hovermode": "closest",
          "mapbox": {
           "style": "light"
          },
          "paper_bgcolor": "white",
          "plot_bgcolor": "#E5ECF6",
          "polar": {
           "angularaxis": {
            "gridcolor": "white",
            "linecolor": "white",
            "ticks": ""
           },
           "bgcolor": "#E5ECF6",
           "radialaxis": {
            "gridcolor": "white",
            "linecolor": "white",
            "ticks": ""
           }
          },
          "scene": {
           "xaxis": {
            "backgroundcolor": "#E5ECF6",
            "gridcolor": "white",
            "gridwidth": 2,
            "linecolor": "white",
            "showbackground": true,
            "ticks": "",
            "zerolinecolor": "white"
           },
           "yaxis": {
            "backgroundcolor": "#E5ECF6",
            "gridcolor": "white",
            "gridwidth": 2,
            "linecolor": "white",
            "showbackground": true,
            "ticks": "",
            "zerolinecolor": "white"
           },
           "zaxis": {
            "backgroundcolor": "#E5ECF6",
            "gridcolor": "white",
            "gridwidth": 2,
            "linecolor": "white",
            "showbackground": true,
            "ticks": "",
            "zerolinecolor": "white"
           }
          },
          "shapedefaults": {
           "line": {
            "color": "#2a3f5f"
           }
          },
          "ternary": {
           "aaxis": {
            "gridcolor": "white",
            "linecolor": "white",
            "ticks": ""
           },
           "baxis": {
            "gridcolor": "white",
            "linecolor": "white",
            "ticks": ""
           },
           "bgcolor": "#E5ECF6",
           "caxis": {
            "gridcolor": "white",
            "linecolor": "white",
            "ticks": ""
           }
          },
          "title": {
           "x": 0.05
          },
          "xaxis": {
           "automargin": true,
           "gridcolor": "white",
           "linecolor": "white",
           "ticks": "",
           "title": {
            "standoff": 15
           },
           "zerolinecolor": "white",
           "zerolinewidth": 2
          },
          "yaxis": {
           "automargin": true,
           "gridcolor": "white",
           "linecolor": "white",
           "ticks": "",
           "title": {
            "standoff": 15
           },
           "zerolinecolor": "white",
           "zerolinewidth": 2
          }
         }
        },
        "yaxis": {
         "range": [
          0,
          55000
         ]
        }
       }
      },
      "text/html": [
       "<div>\n",
       "        \n",
       "        \n",
       "            <div id=\"3494a1fd-b751-4cdb-a6aa-e1b5d9b95e72\" class=\"plotly-graph-div\" style=\"height:525px; width:100%;\"></div>\n",
       "            <script type=\"text/javascript\">\n",
       "                require([\"plotly\"], function(Plotly) {\n",
       "                    window.PLOTLYENV=window.PLOTLYENV || {};\n",
       "                    \n",
       "                if (document.getElementById(\"3494a1fd-b751-4cdb-a6aa-e1b5d9b95e72\")) {\n",
       "                    Plotly.newPlot(\n",
       "                        '3494a1fd-b751-4cdb-a6aa-e1b5d9b95e72',\n",
       "                        [{\"hoverinfo\": \"x+y\", \"line\": {\"color\": \"rgb(0, 51, 153)\", \"width\": 0.5}, \"mode\": \"lines\", \"name\": \"Taxable: AGG\", \"stackgroup\": \"one\", \"type\": \"scatter\", \"x\": [\"2015 Q1\", \"2015 Q1\", \"2015 Q1\", \"2015 Q1\", \"2015 Q1\", \"2015 Q1\", \"2015 Q1\", \"2015 Q2\", \"2015 Q2\", \"2015 Q2\", \"2015 Q2\", \"2015 Q2\", \"2015 Q2\", \"2015 Q2\", \"2015 Q2\", \"2015 Q2\", \"2015 Q3\", \"2015 Q3\", \"2015 Q3\", \"2015 Q3\", \"2015 Q3\", \"2015 Q3\", \"2015 Q3\", \"2015 Q3\", \"2015 Q3\", \"2015 Q3\", \"2015 Q4\", \"2015 Q4\", \"2015 Q4\", \"2015 Q4\", \"2015 Q4\", \"2015 Q4\", \"2015 Q4\", \"2015 Q4\", \"2015 Q4\", \"2015 Q4\", \"2015 Q4\", \"2016 Q1\", \"2016 Q1\", \"2016 Q1\", \"2016 Q1\", \"2016 Q1\", \"2016 Q1\", \"2016 Q1\", \"2016 Q1\", \"2016 Q2\", \"2016 Q2\", \"2016 Q2\", \"2016 Q2\", \"2016 Q2\", \"2016 Q2\", \"2016 Q2\", \"2016 Q2\", \"2016 Q2\", \"2016 Q2\", \"2016 Q3\", \"2016 Q3\", \"2016 Q3\", \"2016 Q3\", \"2016 Q3\", \"2016 Q3\", \"2016 Q3\", \"2016 Q3\", \"2016 Q3\", \"2016 Q4\", \"2016 Q4\", \"2016 Q4\", \"2016 Q4\", \"2016 Q4\", \"2016 Q4\", \"2016 Q4\", \"2016 Q4\", \"2016 Q4\", \"2016 Q4\", \"2016 Q4\", \"2017 Q1\", \"2017 Q1\", \"2017 Q1\", \"2017 Q1\", \"2017 Q1\", \"2017 Q1\", \"2017 Q1\", \"2017 Q1\", \"2017 Q2\", \"2017 Q2\", \"2017 Q2\", \"2017 Q2\", \"2017 Q2\", \"2017 Q2\", \"2017 Q2\", \"2017 Q2\", \"2017 Q2\", \"2017 Q2\", \"2017 Q3\", \"2017 Q3\", \"2017 Q3\", \"2017 Q3\", \"2017 Q3\", \"2017 Q3\", \"2017 Q3\", \"2017 Q3\", \"2017 Q3\", \"2017 Q4\", \"2017 Q4\", \"2017 Q4\", \"2017 Q4\", \"2017 Q4\", \"2017 Q4\", \"2017 Q4\", \"2017 Q4\", \"2017 Q4\", \"2017 Q4\", \"2017 Q4\", \"2018 Q1\", \"2018 Q1\", \"2018 Q1\", \"2018 Q1\", \"2018 Q1\", \"2018 Q1\", \"2018 Q1\", \"2018 Q1\", \"2018 Q2\", \"2018 Q2\", \"2018 Q2\", \"2018 Q2\", \"2018 Q2\", \"2018 Q2\", \"2018 Q2\", \"2018 Q2\", \"2018 Q2\", \"2018 Q2\", \"2018 Q3\", \"2018 Q3\", \"2018 Q3\", \"2018 Q4\", \"2018 Q4\", \"2018 Q4\", \"2018 Q4\", \"2018 Q4\", \"2018 Q4\", \"2018 Q4\", \"2018 Q4\", \"2018 Q4\", \"2018 Q4\", \"2019 Q1\", \"2019 Q1\", \"2019 Q1\", \"2019 Q1\", \"2019 Q1\", \"2019 Q1\", \"2019 Q1\", \"2019 Q1\", \"2019 Q2\", \"2019 Q2\", \"2019 Q2\", \"2019 Q2\", \"2019 Q2\", \"2019 Q2\", \"2019 Q2\", \"2019 Q2\", \"2019 Q2\", \"2019 Q2\", \"2019 Q3\", \"2019 Q3\", \"2019 Q3\", \"2019 Q3\", \"2019 Q3\", \"2019 Q3\", \"2019 Q3\", \"2019 Q3\", \"2019 Q3\", \"2019 Q4\", \"2019 Q4\", \"2019 Q4\", \"2019 Q4\", \"2019 Q4\", \"2019 Q4\", \"2019 Q4\", \"2019 Q4\", \"2019 Q4\", \"2019 Q4\", \"2019 Q4\", \"2020 Q1\", \"2020 Q1\", \"2020 Q1\", \"2020 Q1\", \"2020 Q1\", \"2020 Q1\", \"2020 Q1\", \"2020 Q1\", \"2020 Q2\", \"2020 Q2\"], \"y\": [26.7, 26.74, 93.49, 160.24, 160.51, 227.26, 294.01, 294.57, 361.32, 428.07, 428.86, 504.51, 580.16, 581.25, 656.9, 732.55, 733.98, 809.63, 885.28, 960.93, 962.8, 1038.45, 1118.55, 1120.81, 1200.91, 1281.01, 1283.41, 1363.51, 1443.61, 1446.44, 1526.54, 1606.64, 1612.08, 1692.18, 1772.28, 1775.88, 1869.33, 1962.78, 2056.23, 2060.53, 2153.98, 2247.43, 2251.98, 2345.43, 2438.88, 2443.83, 2546.18, 2644.08, 2649.04, 2746.94, 2844.84, 2850.51, 2948.41, 3046.31, 3144.21, 3150.29, 3248.19, 3346.09, 3352.4, 3432.5, 3512.6, 3519.24, 3599.34, 3679.44, 3686.23, 3766.33, 3846.43, 3853.77, 3933.87, 4027.32, 4120.77, 4128.41, 4221.86, 4231.43, 4324.88, 4418.33, 4511.78, 4520.73, 4614.18, 4707.63, 4717.07, 4743.77, 4784.86, 4794.54, 4835.64, 4876.73, 4887.36, 4928.46, 4969.55, 5010.65, 5021.15, 5062.25, 5103.34, 5113.81, 5154.9, 5196.0, 5206.89, 5247.99, 5289.08, 5300.17, 5341.26, 5423.45, 5434.67, 5516.86, 5599.05, 5610.69, 5728.1, 5845.51, 5962.92, 5975.48, 6092.89, 6094.89, 6212.3, 6329.71, 6447.12, 6461.35, 6578.76, 6696.17, 6710.55, 6827.96, 6951.27, 6966.71, 7090.02, 7213.33, 7229.17, 7352.48, 7475.79, 7599.1, 7616.45, 7739.76, 7863.07, 7879.59, 7897.74, 7914.56, 7932.86, 8532.86, 8582.18, 8622.81, 8672.14, 8721.46, 8741.63, 8790.95, 8807.95, 8857.28, 8900.43, 8935.37, 8957.43, 8992.37, 9028.12, 9050.34, 9087.9, 9130.45, 9152.5, 9188.34, 9224.18, 9246.28, 9282.12, 9325.34, 9373.94, 9396.39, 9432.23, 9474.11, 9496.1, 9535.3, 9571.14, 9594.04, 9629.88, 9678.6, 9702.02, 9738.53, 9774.37, 9797.29, 9833.13, 9877.92, 9922.72, 9945.61, 9990.4, 10038.55, 10061.23, 10106.87, 10124.58, 10169.38, 10214.17, 10258.97, 10281.84, 10285.04, 10307.58, 10521.18, 10671.18, 10721.18, 10745.61, 10795.61]}, {\"hoverinfo\": \"x+y\", \"line\": {\"color\": \"rgb(131, 90, 241)\", \"width\": 0.5}, \"mode\": \"lines\", \"name\": \"Taxable: Puritan Fund\", \"stackgroup\": \"one\", \"type\": \"scatter\", \"x\": [\"2015 Q1\", \"2015 Q1\", \"2015 Q1\", \"2015 Q1\", \"2015 Q1\", \"2015 Q2\", \"2015 Q2\", \"2015 Q2\", \"2015 Q2\", \"2015 Q2\", \"2015 Q2\", \"2015 Q2\", \"2015 Q3\", \"2015 Q3\", \"2015 Q3\", \"2015 Q3\", \"2015 Q3\", \"2015 Q3\", \"2015 Q3\", \"2015 Q3\", \"2015 Q4\", \"2015 Q3\", \"2015 Q4\", \"2015 Q4\", \"2015 Q4\", \"2015 Q4\", \"2015 Q4\", \"2015 Q4\", \"2015 Q4\", \"2016 Q1\", \"2016 Q1\", \"2016 Q1\", \"2016 Q1\", \"2016 Q1\", \"2016 Q1\", \"2016 Q2\", \"2016 Q2\", \"2016 Q2\", \"2016 Q2\", \"2016 Q2\", \"2016 Q2\", \"2016 Q2\", \"2016 Q2\", \"2016 Q3\", \"2016 Q3\", \"2016 Q3\", \"2016 Q3\", \"2016 Q3\", \"2016 Q3\", \"2016 Q3\", \"2016 Q4\", \"2016 Q4\", \"2016 Q4\", \"2016 Q4\", \"2016 Q4\", \"2016 Q4\", \"2016 Q4\", \"2016 Q4\", \"2016 Q4\", \"2016 Q4\", \"2017 Q1\", \"2017 Q1\", \"2017 Q1\", \"2017 Q1\", \"2017 Q1\", \"2017 Q1\", \"2017 Q2\", \"2017 Q2\", \"2017 Q2\", \"2017 Q2\", \"2017 Q2\", \"2017 Q2\", \"2017 Q2\", \"2017 Q2\", \"2017 Q3\", \"2017 Q3\", \"2017 Q3\", \"2017 Q3\", \"2017 Q3\", \"2017 Q3\", \"2017 Q3\", \"2017 Q4\", \"2017 Q4\", \"2017 Q4\", \"2017 Q4\", \"2017 Q4\", \"2017 Q4\", \"2017 Q4\", \"2017 Q4\", \"2017 Q4\", \"2018 Q1\", \"2018 Q1\", \"2018 Q1\", \"2018 Q1\", \"2018 Q1\", \"2018 Q1\", \"2018 Q2\", \"2018 Q2\", \"2018 Q2\", \"2018 Q2\", \"2018 Q2\", \"2018 Q2\", \"2018 Q2\", \"2018 Q2\", \"2018 Q3\", \"2018 Q4\", \"2018 Q4\", \"2018 Q4\", \"2018 Q4\", \"2018 Q4\", \"2018 Q4\", \"2018 Q4\", \"2018 Q4\", \"2019 Q1\", \"2019 Q1\", \"2019 Q1\", \"2019 Q1\", \"2019 Q1\", \"2019 Q1\", \"2019 Q2\", \"2019 Q2\", \"2019 Q2\", \"2019 Q2\", \"2019 Q2\", \"2019 Q2\", \"2019 Q2\", \"2019 Q2\", \"2019 Q3\", \"2019 Q3\", \"2019 Q3\", \"2019 Q3\", \"2019 Q3\", \"2019 Q3\", \"2019 Q3\", \"2019 Q4\", \"2019 Q4\", \"2019 Q4\", \"2019 Q4\", \"2019 Q4\", \"2019 Q4\", \"2019 Q4\", \"2019 Q4\", \"2019 Q4\", \"2020 Q1\", \"2020 Q1\", \"2020 Q1\", \"2020 Q1\", \"2020 Q1\", \"2020 Q1\", \"2020 Q2\", \"2020 Q2\"], \"y\": [26.7, 93.45, 160.2, 226.95, 293.7, 294.76, 361.51, 428.26, 503.91, 579.56, 655.21, 730.86, 737.72, 813.37, 889.02, 964.67, 1040.32, 1120.42, 1200.52, 1280.62, 1360.72, 1433.01, 1513.11, 1593.21, 1673.31, 1753.41, 1759.25, 1839.35, 1932.8, 2026.25, 2119.7, 2213.15, 2306.6, 2400.05, 2493.5, 2595.85, 2607.66, 2705.56, 2803.46, 2901.36, 2999.26, 3097.16, 3195.06, 3206.56, 3304.46, 3402.36, 3482.46, 3562.56, 3642.66, 3722.76, 3802.86, 3851.04, 3931.14, 4011.24, 4104.69, 4198.14, 4252.05, 4345.5, 4353.47, 4446.92, 4540.37, 4633.82, 4727.27, 4820.72, 4847.42, 4888.52, 4929.62, 4946.82, 4987.92, 5029.02, 5070.12, 5111.22, 5152.32, 5193.42, 5214.55, 5255.65, 5296.75, 5337.85, 5378.95, 5420.05, 5502.24, 5584.43, 5722.15, 5804.34, 5921.75, 6039.16, 6156.57, 6230.12, 6347.53, 6464.94, 6582.35, 6699.76, 6817.17, 6934.58, 7051.99, 7175.3, 7298.61, 7326.22, 7449.53, 7572.84, 7696.15, 7819.46, 7942.77, 8066.08, 8095.35, 8643.08, 9243.08, 9292.41, 9341.74, 9391.07, 9868.17, 9917.5, 9966.83, 10009.99, 10044.93, 10079.87, 10115.63, 10153.19, 10195.75, 10231.59, 10265.94, 10301.78, 10337.62, 10380.85, 10429.45, 10465.29, 10507.17, 10543.7, 10582.9, 10618.74, 10654.58, 10703.3, 10739.81, 10775.65, 10811.49, 11039.68, 11084.48, 11129.28, 11174.08, 11222.23, 11267.87, 11380.42, 11425.22, 11470.02, 11514.82, 11518.02, 11731.62, 11881.62, 11931.62, 11966.01, 12016.01]}, {\"hoverinfo\": \"x+y\", \"line\": {\"color\": \"rgb(102, 0, 204)\", \"width\": 0.5}, \"mode\": \"lines\", \"name\": \"Taxable: Wellsley\", \"stackgroup\": \"one\", \"type\": \"scatter\", \"x\": [\"2015 Q1\", \"2015 Q1\", \"2015 Q1\", \"2015 Q1\", \"2015 Q1\", \"2015 Q1\", \"2015 Q2\", \"2015 Q2\", \"2015 Q2\", \"2015 Q2\", \"2015 Q2\", \"2015 Q2\", \"2015 Q2\", \"2015 Q3\", \"2015 Q3\", \"2015 Q3\", \"2015 Q3\", \"2015 Q3\", \"2015 Q3\", \"2015 Q3\", \"2015 Q3\", \"2015 Q4\", \"2015 Q4\", \"2015 Q4\", \"2015 Q4\", \"2015 Q4\", \"2015 Q4\", \"2015 Q4\", \"2015 Q4\", \"2016 Q1\", \"2016 Q1\", \"2016 Q1\", \"2016 Q1\", \"2016 Q1\", \"2016 Q1\", \"2016 Q1\", \"2016 Q2\", \"2016 Q2\", \"2016 Q2\", \"2016 Q2\", \"2016 Q2\", \"2016 Q2\", \"2016 Q2\", \"2016 Q2\", \"2016 Q3\", \"2016 Q3\", \"2016 Q3\", \"2016 Q3\", \"2016 Q3\", \"2016 Q3\", \"2016 Q3\", \"2016 Q4\", \"2016 Q4\", \"2016 Q4\", \"2016 Q4\", \"2016 Q4\", \"2016 Q4\", \"2016 Q4\", \"2016 Q4\", \"2017 Q1\", \"2017 Q1\", \"2017 Q1\", \"2017 Q1\", \"2017 Q1\", \"2017 Q1\", \"2017 Q1\", \"2017 Q2\", \"2017 Q2\", \"2017 Q2\", \"2017 Q2\", \"2017 Q2\", \"2017 Q2\", \"2017 Q2\", \"2017 Q2\", \"2017 Q3\", \"2017 Q3\", \"2017 Q3\", \"2017 Q3\", \"2017 Q3\", \"2017 Q3\", \"2017 Q3\", \"2017 Q4\", \"2017 Q4\", \"2017 Q4\", \"2017 Q4\", \"2017 Q4\", \"2017 Q4\", \"2017 Q4\", \"2017 Q4\", \"2018 Q1\", \"2018 Q1\", \"2018 Q1\", \"2018 Q1\", \"2018 Q1\", \"2018 Q1\", \"2018 Q1\", \"2018 Q2\", \"2018 Q2\", \"2018 Q2\", \"2018 Q2\", \"2018 Q2\", \"2018 Q2\", \"2018 Q2\", \"2018 Q2\", \"2018 Q3\", \"2018 Q4\", \"2018 Q4\", \"2018 Q4\", \"2018 Q4\", \"2018 Q4\", \"2018 Q4\", \"2018 Q4\", \"2019 Q1\", \"2019 Q1\", \"2019 Q1\", \"2019 Q1\", \"2019 Q1\", \"2019 Q1\", \"2019 Q1\", \"2019 Q2\", \"2019 Q2\", \"2019 Q2\", \"2019 Q2\", \"2019 Q2\", \"2019 Q2\", \"2019 Q2\", \"2019 Q2\", \"2019 Q3\", \"2019 Q3\", \"2019 Q3\", \"2019 Q3\", \"2019 Q3\", \"2019 Q3\", \"2019 Q3\", \"2019 Q4\", \"2019 Q4\", \"2019 Q4\", \"2019 Q4\", \"2019 Q4\", \"2019 Q4\", \"2019 Q4\", \"2019 Q4\", \"2020 Q1\", \"2020 Q1\", \"2020 Q1\", \"2020 Q1\", \"2020 Q1\", \"2020 Q1\", \"2020 Q1\", \"2020 Q2\"], \"y\": [26.7, 93.45, 160.2, 226.95, 293.7, 295.43, 362.18, 428.93, 504.58, 580.23, 655.88, 731.53, 736.04, 811.69, 887.34, 962.99, 1038.64, 1118.74, 1198.84, 1206.33, 1286.43, 1366.53, 1446.63, 1526.73, 1606.83, 1686.93, 1767.03, 1846.47, 1939.92, 2033.37, 2126.82, 2220.27, 2313.72, 2407.17, 2421.65, 2515.1, 2617.45, 2715.35, 2813.25, 2911.15, 3009.05, 3106.95, 3127.74, 3225.64, 3323.54, 3421.44, 3501.54, 3581.64, 3661.74, 3685.5, 3765.6, 3845.7, 3925.8, 4005.9, 4099.35, 4192.8, 4286.25, 4401.92, 4495.37, 4588.82, 4682.27, 4775.72, 4869.17, 4895.87, 4936.97, 4967.66, 5008.75, 5049.85, 5090.94, 5132.04, 5173.13, 5214.23, 5251.32, 5292.42, 5333.51, 5374.61, 5415.7, 5456.8, 5497.89, 5580.08, 5615.8, 5697.99, 5780.18, 5897.59, 6015.0, 6132.41, 6249.82, 6576.14, 6693.55, 6810.96, 6928.37, 7045.78, 7163.19, 7280.6, 7323.85, 7447.16, 7570.47, 7693.78, 7817.09, 7940.4, 8063.71, 8187.02, 8249.94, 8373.25, 8430.93, 9030.93, 9080.26, 9129.58, 9178.91, 9228.23, 9891.57, 9940.9, 9984.05, 10018.99, 10053.92, 10089.68, 10127.24, 10192.13, 10234.69, 10270.53, 10306.37, 10342.21, 10385.43, 10434.03, 10469.87, 10541.87, 10583.75, 10622.95, 10658.79, 10694.63, 10743.34, 10779.85, 10815.69, 10886.94, 10922.78, 10967.58, 11012.37, 11057.17, 11105.32, 11150.95, 11195.75, 11542.32, 11587.11, 11631.91, 11635.11, 11848.7, 11998.7, 12078.3, 12128.3, 12178.3]}, {\"hoverinfo\": \"x+y\", \"line\": {\"color\": \"rgb(50, 0, 204)\", \"width\": 0.5}, \"mode\": \"lines\", \"name\": \"Taxable: SPY\", \"stackgroup\": \"one\", \"type\": \"scatter\", \"x\": [\"2015 Q1\", \"2015 Q1\", \"2015 Q1\", \"2015 Q1\", \"2015 Q1\", \"2015 Q1\", \"2015 Q2\", \"2015 Q2\", \"2015 Q2\", \"2015 Q2\", \"2015 Q2\", \"2015 Q2\", \"2015 Q2\", \"2015 Q3\", \"2015 Q3\", \"2015 Q3\", \"2015 Q3\", \"2015 Q3\", \"2015 Q3\", \"2015 Q3\", \"2015 Q3\", \"2015 Q4\", \"2015 Q4\", \"2015 Q4\", \"2015 Q4\", \"2015 Q4\", \"2015 Q4\", \"2015 Q4\", \"2015 Q4\", \"2016 Q1\", \"2016 Q1\", \"2016 Q1\", \"2016 Q1\", \"2016 Q1\", \"2016 Q1\", \"2016 Q1\", \"2016 Q2\", \"2016 Q2\", \"2016 Q2\", \"2016 Q2\", \"2016 Q2\", \"2016 Q2\", \"2016 Q2\", \"2016 Q2\", \"2016 Q3\", \"2016 Q3\", \"2016 Q3\", \"2016 Q3\", \"2016 Q3\", \"2016 Q3\", \"2016 Q3\", \"2016 Q4\", \"2016 Q4\", \"2016 Q4\", \"2016 Q4\", \"2016 Q4\", \"2016 Q4\", \"2016 Q4\", \"2016 Q4\", \"2017 Q1\", \"2017 Q1\", \"2017 Q1\", \"2017 Q1\", \"2017 Q1\", \"2017 Q1\", \"2017 Q1\", \"2017 Q2\", \"2017 Q2\", \"2017 Q2\", \"2017 Q2\", \"2017 Q2\", \"2017 Q2\", \"2017 Q2\", \"2017 Q2\", \"2017 Q3\", \"2017 Q3\", \"2017 Q3\", \"2017 Q3\", \"2017 Q3\", \"2017 Q3\", \"2017 Q3\", \"2017 Q4\", \"2017 Q4\", \"2017 Q4\", \"2017 Q4\", \"2017 Q4\", \"2017 Q4\", \"2017 Q4\", \"2017 Q4\", \"2018 Q1\", \"2018 Q1\", \"2018 Q1\", \"2018 Q1\", \"2018 Q1\", \"2018 Q1\", \"2018 Q1\", \"2018 Q2\", \"2018 Q2\", \"2018 Q2\", \"2018 Q2\", \"2018 Q2\", \"2018 Q2\", \"2018 Q2\", \"2018 Q2\", \"2018 Q3\", \"2018 Q4\", \"2018 Q4\", \"2018 Q4\", \"2018 Q4\", \"2018 Q4\", \"2018 Q4\", \"2018 Q4\", \"2019 Q1\", \"2019 Q1\", \"2019 Q1\", \"2019 Q1\", \"2019 Q1\", \"2019 Q1\", \"2019 Q1\", \"2019 Q2\", \"2019 Q2\", \"2019 Q2\", \"2019 Q2\", \"2019 Q2\", \"2019 Q2\", \"2019 Q2\", \"2019 Q2\", \"2019 Q3\", \"2019 Q3\", \"2019 Q3\", \"2019 Q3\", \"2019 Q3\", \"2019 Q3\", \"2019 Q3\", \"2019 Q4\", \"2019 Q4\", \"2019 Q4\", \"2019 Q4\", \"2019 Q4\", \"2019 Q4\", \"2019 Q4\", \"2019 Q4\", \"2020 Q1\", \"2020 Q1\", \"2020 Q1\", \"2020 Q1\", \"2020 Q1\", \"2020 Q1\", \"2020 Q1\", \"2020 Q2\"], \"y\": [26.7, 93.45, 160.2, 226.95, 227.98, 294.73, 361.48, 428.23, 503.88, 579.53, 655.18, 730.83, 734.45, 810.1, 885.75, 961.4, 1037.05, 1117.15, 1197.25, 1203.26, 1283.36, 1363.46, 1443.56, 1523.66, 1603.76, 1683.86, 1763.96, 1774.4, 1867.85, 1961.3, 2054.75, 2148.2, 2241.65, 2335.1, 2347.25, 2440.7, 2543.05, 2640.95, 2738.85, 2836.75, 2934.65, 3032.55, 3048.68, 3146.58, 3244.48, 3342.38, 3422.48, 3502.58, 3582.68, 3601.65, 3681.75, 3761.85, 3841.95, 3922.05, 4015.5, 4108.95, 4202.4, 4229.54, 4322.99, 4416.44, 4509.89, 4603.34, 4696.79, 4723.49, 4746.9, 4788.0, 4829.09, 4870.19, 4911.28, 4952.38, 4993.47, 5034.57, 5062.95, 5104.04, 5145.14, 5186.23, 5227.33, 5268.42, 5309.52, 5340.53, 5422.72, 5504.91, 5587.1, 5704.51, 5821.92, 5939.33, 6056.74, 6094.61, 6212.02, 6329.43, 6446.84, 6564.25, 6681.66, 6799.07, 6832.78, 6956.09, 7079.4, 7202.71, 7326.02, 7449.33, 7572.64, 7695.95, 7738.41, 7861.72, 7907.62, 8507.62, 8556.94, 8606.27, 8655.59, 8704.92, 8759.12, 8808.45, 8851.6, 8886.54, 8921.47, 8957.23, 8994.79, 9042.67, 9085.22, 9121.06, 9156.9, 9192.74, 9235.97, 9284.57, 9320.41, 9377.67, 9419.55, 9458.74, 9494.58, 9530.42, 9579.14, 9615.65, 9651.49, 9708.37, 9744.21, 9789.01, 9833.8, 9878.6, 9926.75, 9972.38, 10038.57, 10083.36, 10128.16, 10172.95, 10176.15, 10389.75, 10539.75, 10601.79, 10651.79, 10701.79]}],\n",
       "                        {\"template\": {\"data\": {\"bar\": [{\"error_x\": {\"color\": \"#2a3f5f\"}, \"error_y\": {\"color\": \"#2a3f5f\"}, \"marker\": {\"line\": {\"color\": \"#E5ECF6\", \"width\": 0.5}}, \"type\": \"bar\"}], \"barpolar\": [{\"marker\": {\"line\": {\"color\": \"#E5ECF6\", \"width\": 0.5}}, \"type\": \"barpolar\"}], \"carpet\": [{\"aaxis\": {\"endlinecolor\": \"#2a3f5f\", \"gridcolor\": \"white\", \"linecolor\": \"white\", \"minorgridcolor\": \"white\", \"startlinecolor\": \"#2a3f5f\"}, \"baxis\": {\"endlinecolor\": \"#2a3f5f\", \"gridcolor\": \"white\", \"linecolor\": \"white\", \"minorgridcolor\": \"white\", \"startlinecolor\": \"#2a3f5f\"}, \"type\": \"carpet\"}], \"choropleth\": [{\"colorbar\": {\"outlinewidth\": 0, \"ticks\": \"\"}, \"type\": \"choropleth\"}], \"contour\": [{\"colorbar\": {\"outlinewidth\": 0, \"ticks\": \"\"}, \"colorscale\": [[0.0, \"#0d0887\"], [0.1111111111111111, \"#46039f\"], [0.2222222222222222, \"#7201a8\"], [0.3333333333333333, \"#9c179e\"], [0.4444444444444444, \"#bd3786\"], [0.5555555555555556, \"#d8576b\"], [0.6666666666666666, \"#ed7953\"], [0.7777777777777778, \"#fb9f3a\"], [0.8888888888888888, \"#fdca26\"], [1.0, \"#f0f921\"]], \"type\": \"contour\"}], \"contourcarpet\": [{\"colorbar\": {\"outlinewidth\": 0, \"ticks\": \"\"}, \"type\": \"contourcarpet\"}], \"heatmap\": [{\"colorbar\": {\"outlinewidth\": 0, \"ticks\": \"\"}, \"colorscale\": [[0.0, \"#0d0887\"], [0.1111111111111111, \"#46039f\"], [0.2222222222222222, \"#7201a8\"], [0.3333333333333333, \"#9c179e\"], [0.4444444444444444, \"#bd3786\"], [0.5555555555555556, \"#d8576b\"], [0.6666666666666666, \"#ed7953\"], [0.7777777777777778, \"#fb9f3a\"], [0.8888888888888888, \"#fdca26\"], [1.0, \"#f0f921\"]], \"type\": \"heatmap\"}], \"heatmapgl\": [{\"colorbar\": {\"outlinewidth\": 0, \"ticks\": \"\"}, \"colorscale\": [[0.0, \"#0d0887\"], [0.1111111111111111, \"#46039f\"], [0.2222222222222222, \"#7201a8\"], [0.3333333333333333, \"#9c179e\"], [0.4444444444444444, \"#bd3786\"], [0.5555555555555556, \"#d8576b\"], [0.6666666666666666, \"#ed7953\"], [0.7777777777777778, \"#fb9f3a\"], [0.8888888888888888, \"#fdca26\"], [1.0, \"#f0f921\"]], \"type\": \"heatmapgl\"}], \"histogram\": [{\"marker\": {\"colorbar\": {\"outlinewidth\": 0, \"ticks\": \"\"}}, \"type\": \"histogram\"}], \"histogram2d\": [{\"colorbar\": {\"outlinewidth\": 0, \"ticks\": \"\"}, \"colorscale\": [[0.0, \"#0d0887\"], [0.1111111111111111, \"#46039f\"], [0.2222222222222222, \"#7201a8\"], [0.3333333333333333, \"#9c179e\"], [0.4444444444444444, \"#bd3786\"], [0.5555555555555556, \"#d8576b\"], [0.6666666666666666, \"#ed7953\"], [0.7777777777777778, \"#fb9f3a\"], [0.8888888888888888, \"#fdca26\"], [1.0, \"#f0f921\"]], \"type\": \"histogram2d\"}], \"histogram2dcontour\": [{\"colorbar\": {\"outlinewidth\": 0, \"ticks\": \"\"}, \"colorscale\": [[0.0, \"#0d0887\"], [0.1111111111111111, \"#46039f\"], [0.2222222222222222, \"#7201a8\"], [0.3333333333333333, \"#9c179e\"], [0.4444444444444444, \"#bd3786\"], [0.5555555555555556, \"#d8576b\"], [0.6666666666666666, \"#ed7953\"], [0.7777777777777778, \"#fb9f3a\"], [0.8888888888888888, \"#fdca26\"], [1.0, \"#f0f921\"]], \"type\": \"histogram2dcontour\"}], \"mesh3d\": [{\"colorbar\": {\"outlinewidth\": 0, \"ticks\": \"\"}, \"type\": \"mesh3d\"}], \"parcoords\": [{\"line\": {\"colorbar\": {\"outlinewidth\": 0, \"ticks\": \"\"}}, \"type\": \"parcoords\"}], \"pie\": [{\"automargin\": true, \"type\": \"pie\"}], \"scatter\": [{\"marker\": {\"colorbar\": {\"outlinewidth\": 0, \"ticks\": \"\"}}, \"type\": \"scatter\"}], \"scatter3d\": [{\"line\": {\"colorbar\": {\"outlinewidth\": 0, \"ticks\": \"\"}}, \"marker\": {\"colorbar\": {\"outlinewidth\": 0, \"ticks\": \"\"}}, \"type\": \"scatter3d\"}], \"scattercarpet\": [{\"marker\": {\"colorbar\": {\"outlinewidth\": 0, \"ticks\": \"\"}}, \"type\": \"scattercarpet\"}], \"scattergeo\": [{\"marker\": {\"colorbar\": {\"outlinewidth\": 0, \"ticks\": \"\"}}, \"type\": \"scattergeo\"}], \"scattergl\": [{\"marker\": {\"colorbar\": {\"outlinewidth\": 0, \"ticks\": \"\"}}, \"type\": \"scattergl\"}], \"scattermapbox\": [{\"marker\": {\"colorbar\": {\"outlinewidth\": 0, \"ticks\": \"\"}}, \"type\": \"scattermapbox\"}], \"scatterpolar\": [{\"marker\": {\"colorbar\": {\"outlinewidth\": 0, \"ticks\": \"\"}}, \"type\": \"scatterpolar\"}], \"scatterpolargl\": [{\"marker\": {\"colorbar\": {\"outlinewidth\": 0, \"ticks\": \"\"}}, \"type\": \"scatterpolargl\"}], \"scatterternary\": [{\"marker\": {\"colorbar\": {\"outlinewidth\": 0, \"ticks\": \"\"}}, \"type\": \"scatterternary\"}], \"surface\": [{\"colorbar\": {\"outlinewidth\": 0, \"ticks\": \"\"}, \"colorscale\": [[0.0, \"#0d0887\"], [0.1111111111111111, \"#46039f\"], [0.2222222222222222, \"#7201a8\"], [0.3333333333333333, \"#9c179e\"], [0.4444444444444444, \"#bd3786\"], [0.5555555555555556, \"#d8576b\"], [0.6666666666666666, \"#ed7953\"], [0.7777777777777778, \"#fb9f3a\"], [0.8888888888888888, \"#fdca26\"], [1.0, \"#f0f921\"]], \"type\": \"surface\"}], \"table\": [{\"cells\": {\"fill\": {\"color\": \"#EBF0F8\"}, \"line\": {\"color\": \"white\"}}, \"header\": {\"fill\": {\"color\": \"#C8D4E3\"}, \"line\": {\"color\": \"white\"}}, \"type\": \"table\"}]}, \"layout\": {\"annotationdefaults\": {\"arrowcolor\": \"#2a3f5f\", \"arrowhead\": 0, \"arrowwidth\": 1}, \"coloraxis\": {\"colorbar\": {\"outlinewidth\": 0, \"ticks\": \"\"}}, \"colorscale\": {\"diverging\": [[0, \"#8e0152\"], [0.1, \"#c51b7d\"], [0.2, \"#de77ae\"], [0.3, \"#f1b6da\"], [0.4, \"#fde0ef\"], [0.5, \"#f7f7f7\"], [0.6, \"#e6f5d0\"], [0.7, \"#b8e186\"], [0.8, \"#7fbc41\"], [0.9, \"#4d9221\"], [1, \"#276419\"]], \"sequential\": [[0.0, \"#0d0887\"], [0.1111111111111111, \"#46039f\"], [0.2222222222222222, \"#7201a8\"], [0.3333333333333333, \"#9c179e\"], [0.4444444444444444, \"#bd3786\"], [0.5555555555555556, \"#d8576b\"], [0.6666666666666666, \"#ed7953\"], [0.7777777777777778, \"#fb9f3a\"], [0.8888888888888888, \"#fdca26\"], [1.0, \"#f0f921\"]], \"sequentialminus\": [[0.0, \"#0d0887\"], [0.1111111111111111, \"#46039f\"], [0.2222222222222222, \"#7201a8\"], [0.3333333333333333, \"#9c179e\"], [0.4444444444444444, \"#bd3786\"], [0.5555555555555556, \"#d8576b\"], [0.6666666666666666, \"#ed7953\"], [0.7777777777777778, \"#fb9f3a\"], [0.8888888888888888, \"#fdca26\"], [1.0, \"#f0f921\"]]}, \"colorway\": [\"#636efa\", \"#EF553B\", \"#00cc96\", \"#ab63fa\", \"#FFA15A\", \"#19d3f3\", \"#FF6692\", \"#B6E880\", \"#FF97FF\", \"#FECB52\"], \"font\": {\"color\": \"#2a3f5f\"}, \"geo\": {\"bgcolor\": \"white\", \"lakecolor\": \"white\", \"landcolor\": \"#E5ECF6\", \"showlakes\": true, \"showland\": true, \"subunitcolor\": \"white\"}, \"hoverlabel\": {\"align\": \"left\"}, \"hovermode\": \"closest\", \"mapbox\": {\"style\": \"light\"}, \"paper_bgcolor\": \"white\", \"plot_bgcolor\": \"#E5ECF6\", \"polar\": {\"angularaxis\": {\"gridcolor\": \"white\", \"linecolor\": \"white\", \"ticks\": \"\"}, \"bgcolor\": \"#E5ECF6\", \"radialaxis\": {\"gridcolor\": \"white\", \"linecolor\": \"white\", \"ticks\": \"\"}}, \"scene\": {\"xaxis\": {\"backgroundcolor\": \"#E5ECF6\", \"gridcolor\": \"white\", \"gridwidth\": 2, \"linecolor\": \"white\", \"showbackground\": true, \"ticks\": \"\", \"zerolinecolor\": \"white\"}, \"yaxis\": {\"backgroundcolor\": \"#E5ECF6\", \"gridcolor\": \"white\", \"gridwidth\": 2, \"linecolor\": \"white\", \"showbackground\": true, \"ticks\": \"\", \"zerolinecolor\": \"white\"}, \"zaxis\": {\"backgroundcolor\": \"#E5ECF6\", \"gridcolor\": \"white\", \"gridwidth\": 2, \"linecolor\": \"white\", \"showbackground\": true, \"ticks\": \"\", \"zerolinecolor\": \"white\"}}, \"shapedefaults\": {\"line\": {\"color\": \"#2a3f5f\"}}, \"ternary\": {\"aaxis\": {\"gridcolor\": \"white\", \"linecolor\": \"white\", \"ticks\": \"\"}, \"baxis\": {\"gridcolor\": \"white\", \"linecolor\": \"white\", \"ticks\": \"\"}, \"bgcolor\": \"#E5ECF6\", \"caxis\": {\"gridcolor\": \"white\", \"linecolor\": \"white\", \"ticks\": \"\"}}, \"title\": {\"x\": 0.05}, \"xaxis\": {\"automargin\": true, \"gridcolor\": \"white\", \"linecolor\": \"white\", \"ticks\": \"\", \"title\": {\"standoff\": 15}, \"zerolinecolor\": \"white\", \"zerolinewidth\": 2}, \"yaxis\": {\"automargin\": true, \"gridcolor\": \"white\", \"linecolor\": \"white\", \"ticks\": \"\", \"title\": {\"standoff\": 15}, \"zerolinecolor\": \"white\", \"zerolinewidth\": 2}}}, \"yaxis\": {\"range\": [0, 55000]}},\n",
       "                        {\"responsive\": true}\n",
       "                    ).then(function(){\n",
       "                            \n",
       "var gd = document.getElementById('3494a1fd-b751-4cdb-a6aa-e1b5d9b95e72');\n",
       "var x = new MutationObserver(function (mutations, observer) {{\n",
       "        var display = window.getComputedStyle(gd).display;\n",
       "        if (!display || display === 'none') {{\n",
       "            console.log([gd, 'removed!']);\n",
       "            Plotly.purge(gd);\n",
       "            observer.disconnect();\n",
       "        }}\n",
       "}});\n",
       "\n",
       "// Listen for the removal of the full notebook cells\n",
       "var notebookContainer = gd.closest('#notebook-container');\n",
       "if (notebookContainer) {{\n",
       "    x.observe(notebookContainer, {childList: true});\n",
       "}}\n",
       "\n",
       "// Listen for the clearing of the current output cell\n",
       "var outputEl = gd.closest('.output');\n",
       "if (outputEl) {{\n",
       "    x.observe(outputEl, {childList: true});\n",
       "}}\n",
       "\n",
       "                        })\n",
       "                };\n",
       "                });\n",
       "            </script>\n",
       "        </div>"
      ]
     },
     "metadata": {},
     "output_type": "display_data"
    }
   ],
   "source": [
    "fig.add_trace(go.Scatter(\n",
    "    x=agg['quarter'], y=agg['sym_total'],\n",
    "    name=\"Taxable: AGG\",\n",
    "    hoverinfo='x+y',\n",
    "    mode='lines',\n",
    "    line=dict(width=0.5, color='rgb(0, 51, 153)'),\n",
    "    stackgroup='one' # define stack group\n",
    "))\n",
    "fig.add_trace(go.Scatter(\n",
    "    x=puritan['quarter'], y=puritan['sym_total'],\n",
    "    name=\"Taxable: Puritan Fund\",\n",
    "    hoverinfo='x+y',\n",
    "    mode='lines',\n",
    "    line=dict(width=0.5, color='rgb(131, 90, 241)'),\n",
    "    stackgroup='one' # define stack group\n",
    "))\n",
    "fig.add_trace(go.Scatter(\n",
    "    x=well['quarter'], y=well['sym_total'],\n",
    "    name=\"Taxable: Wellsley\",\n",
    "    hoverinfo='x+y',\n",
    "    mode='lines',\n",
    "    line=dict(width=0.5, color='rgb(102, 0, 204)'),\n",
    "    stackgroup='one'\n",
    "))\n",
    "fig.add_trace(go.Scatter(\n",
    "    x=spy['quarter'], y=spy['sym_total'],\n",
    "    name=\"Taxable: SPY\",\n",
    "    hoverinfo='x+y',\n",
    "    mode='lines',\n",
    "    line=dict(width=0.5, color='rgb(50, 0, 204)'),\n",
    "    stackgroup='one'\n",
    "))\n",
    "\n",
    "fig.update_layout(yaxis_range=(0, 55000))"
   ]
  },
  {
   "cell_type": "markdown",
   "metadata": {},
   "source": [
    "Create a treemap to show symbol summary"
   ]
  },
  {
   "cell_type": "code",
   "execution_count": 84,
   "metadata": {
    "scrolled": true
   },
   "outputs": [],
   "source": [
    "fig4 = px.treemap(unit, path=['symbol'], values='principal')"
   ]
  },
  {
   "cell_type": "code",
   "execution_count": 85,
   "metadata": {},
   "outputs": [
    {
     "data": {
      "application/vnd.plotly.v1+json": {
       "config": {
        "plotlyServerURL": "https://plot.ly"
       },
       "data": [
        {
         "branchvalues": "total",
         "domain": {
          "x": [
           0,
           1
          ],
          "y": [
           0,
           1
          ]
         },
         "hoverlabel": {
          "namelength": 0
         },
         "hovertemplate": "labels=%{label}<br>principal=%{value}<br>parent=%{parent}<br>id=%{id}",
         "ids": [
          "AGG",
          "FPURX",
          "SPY",
          "VWELX"
         ],
         "labels": [
          "AGG",
          "FPURX",
          "SPY",
          "VWELX"
         ],
         "name": "",
         "parents": [
          "",
          "",
          "",
          ""
         ],
         "type": "treemap",
         "values": [
          10795.800000000001,
          12016.01,
          10701.96,
          12178.459999999997
         ]
        }
       ],
       "layout": {
        "legend": {
         "tracegroupgap": 0
        },
        "margin": {
         "t": 60
        },
        "template": {
         "data": {
          "bar": [
           {
            "error_x": {
             "color": "#2a3f5f"
            },
            "error_y": {
             "color": "#2a3f5f"
            },
            "marker": {
             "line": {
              "color": "#E5ECF6",
              "width": 0.5
             }
            },
            "type": "bar"
           }
          ],
          "barpolar": [
           {
            "marker": {
             "line": {
              "color": "#E5ECF6",
              "width": 0.5
             }
            },
            "type": "barpolar"
           }
          ],
          "carpet": [
           {
            "aaxis": {
             "endlinecolor": "#2a3f5f",
             "gridcolor": "white",
             "linecolor": "white",
             "minorgridcolor": "white",
             "startlinecolor": "#2a3f5f"
            },
            "baxis": {
             "endlinecolor": "#2a3f5f",
             "gridcolor": "white",
             "linecolor": "white",
             "minorgridcolor": "white",
             "startlinecolor": "#2a3f5f"
            },
            "type": "carpet"
           }
          ],
          "choropleth": [
           {
            "colorbar": {
             "outlinewidth": 0,
             "ticks": ""
            },
            "type": "choropleth"
           }
          ],
          "contour": [
           {
            "colorbar": {
             "outlinewidth": 0,
             "ticks": ""
            },
            "colorscale": [
             [
              0,
              "#0d0887"
             ],
             [
              0.1111111111111111,
              "#46039f"
             ],
             [
              0.2222222222222222,
              "#7201a8"
             ],
             [
              0.3333333333333333,
              "#9c179e"
             ],
             [
              0.4444444444444444,
              "#bd3786"
             ],
             [
              0.5555555555555556,
              "#d8576b"
             ],
             [
              0.6666666666666666,
              "#ed7953"
             ],
             [
              0.7777777777777778,
              "#fb9f3a"
             ],
             [
              0.8888888888888888,
              "#fdca26"
             ],
             [
              1,
              "#f0f921"
             ]
            ],
            "type": "contour"
           }
          ],
          "contourcarpet": [
           {
            "colorbar": {
             "outlinewidth": 0,
             "ticks": ""
            },
            "type": "contourcarpet"
           }
          ],
          "heatmap": [
           {
            "colorbar": {
             "outlinewidth": 0,
             "ticks": ""
            },
            "colorscale": [
             [
              0,
              "#0d0887"
             ],
             [
              0.1111111111111111,
              "#46039f"
             ],
             [
              0.2222222222222222,
              "#7201a8"
             ],
             [
              0.3333333333333333,
              "#9c179e"
             ],
             [
              0.4444444444444444,
              "#bd3786"
             ],
             [
              0.5555555555555556,
              "#d8576b"
             ],
             [
              0.6666666666666666,
              "#ed7953"
             ],
             [
              0.7777777777777778,
              "#fb9f3a"
             ],
             [
              0.8888888888888888,
              "#fdca26"
             ],
             [
              1,
              "#f0f921"
             ]
            ],
            "type": "heatmap"
           }
          ],
          "heatmapgl": [
           {
            "colorbar": {
             "outlinewidth": 0,
             "ticks": ""
            },
            "colorscale": [
             [
              0,
              "#0d0887"
             ],
             [
              0.1111111111111111,
              "#46039f"
             ],
             [
              0.2222222222222222,
              "#7201a8"
             ],
             [
              0.3333333333333333,
              "#9c179e"
             ],
             [
              0.4444444444444444,
              "#bd3786"
             ],
             [
              0.5555555555555556,
              "#d8576b"
             ],
             [
              0.6666666666666666,
              "#ed7953"
             ],
             [
              0.7777777777777778,
              "#fb9f3a"
             ],
             [
              0.8888888888888888,
              "#fdca26"
             ],
             [
              1,
              "#f0f921"
             ]
            ],
            "type": "heatmapgl"
           }
          ],
          "histogram": [
           {
            "marker": {
             "colorbar": {
              "outlinewidth": 0,
              "ticks": ""
             }
            },
            "type": "histogram"
           }
          ],
          "histogram2d": [
           {
            "colorbar": {
             "outlinewidth": 0,
             "ticks": ""
            },
            "colorscale": [
             [
              0,
              "#0d0887"
             ],
             [
              0.1111111111111111,
              "#46039f"
             ],
             [
              0.2222222222222222,
              "#7201a8"
             ],
             [
              0.3333333333333333,
              "#9c179e"
             ],
             [
              0.4444444444444444,
              "#bd3786"
             ],
             [
              0.5555555555555556,
              "#d8576b"
             ],
             [
              0.6666666666666666,
              "#ed7953"
             ],
             [
              0.7777777777777778,
              "#fb9f3a"
             ],
             [
              0.8888888888888888,
              "#fdca26"
             ],
             [
              1,
              "#f0f921"
             ]
            ],
            "type": "histogram2d"
           }
          ],
          "histogram2dcontour": [
           {
            "colorbar": {
             "outlinewidth": 0,
             "ticks": ""
            },
            "colorscale": [
             [
              0,
              "#0d0887"
             ],
             [
              0.1111111111111111,
              "#46039f"
             ],
             [
              0.2222222222222222,
              "#7201a8"
             ],
             [
              0.3333333333333333,
              "#9c179e"
             ],
             [
              0.4444444444444444,
              "#bd3786"
             ],
             [
              0.5555555555555556,
              "#d8576b"
             ],
             [
              0.6666666666666666,
              "#ed7953"
             ],
             [
              0.7777777777777778,
              "#fb9f3a"
             ],
             [
              0.8888888888888888,
              "#fdca26"
             ],
             [
              1,
              "#f0f921"
             ]
            ],
            "type": "histogram2dcontour"
           }
          ],
          "mesh3d": [
           {
            "colorbar": {
             "outlinewidth": 0,
             "ticks": ""
            },
            "type": "mesh3d"
           }
          ],
          "parcoords": [
           {
            "line": {
             "colorbar": {
              "outlinewidth": 0,
              "ticks": ""
             }
            },
            "type": "parcoords"
           }
          ],
          "pie": [
           {
            "automargin": true,
            "type": "pie"
           }
          ],
          "scatter": [
           {
            "marker": {
             "colorbar": {
              "outlinewidth": 0,
              "ticks": ""
             }
            },
            "type": "scatter"
           }
          ],
          "scatter3d": [
           {
            "line": {
             "colorbar": {
              "outlinewidth": 0,
              "ticks": ""
             }
            },
            "marker": {
             "colorbar": {
              "outlinewidth": 0,
              "ticks": ""
             }
            },
            "type": "scatter3d"
           }
          ],
          "scattercarpet": [
           {
            "marker": {
             "colorbar": {
              "outlinewidth": 0,
              "ticks": ""
             }
            },
            "type": "scattercarpet"
           }
          ],
          "scattergeo": [
           {
            "marker": {
             "colorbar": {
              "outlinewidth": 0,
              "ticks": ""
             }
            },
            "type": "scattergeo"
           }
          ],
          "scattergl": [
           {
            "marker": {
             "colorbar": {
              "outlinewidth": 0,
              "ticks": ""
             }
            },
            "type": "scattergl"
           }
          ],
          "scattermapbox": [
           {
            "marker": {
             "colorbar": {
              "outlinewidth": 0,
              "ticks": ""
             }
            },
            "type": "scattermapbox"
           }
          ],
          "scatterpolar": [
           {
            "marker": {
             "colorbar": {
              "outlinewidth": 0,
              "ticks": ""
             }
            },
            "type": "scatterpolar"
           }
          ],
          "scatterpolargl": [
           {
            "marker": {
             "colorbar": {
              "outlinewidth": 0,
              "ticks": ""
             }
            },
            "type": "scatterpolargl"
           }
          ],
          "scatterternary": [
           {
            "marker": {
             "colorbar": {
              "outlinewidth": 0,
              "ticks": ""
             }
            },
            "type": "scatterternary"
           }
          ],
          "surface": [
           {
            "colorbar": {
             "outlinewidth": 0,
             "ticks": ""
            },
            "colorscale": [
             [
              0,
              "#0d0887"
             ],
             [
              0.1111111111111111,
              "#46039f"
             ],
             [
              0.2222222222222222,
              "#7201a8"
             ],
             [
              0.3333333333333333,
              "#9c179e"
             ],
             [
              0.4444444444444444,
              "#bd3786"
             ],
             [
              0.5555555555555556,
              "#d8576b"
             ],
             [
              0.6666666666666666,
              "#ed7953"
             ],
             [
              0.7777777777777778,
              "#fb9f3a"
             ],
             [
              0.8888888888888888,
              "#fdca26"
             ],
             [
              1,
              "#f0f921"
             ]
            ],
            "type": "surface"
           }
          ],
          "table": [
           {
            "cells": {
             "fill": {
              "color": "#EBF0F8"
             },
             "line": {
              "color": "white"
             }
            },
            "header": {
             "fill": {
              "color": "#C8D4E3"
             },
             "line": {
              "color": "white"
             }
            },
            "type": "table"
           }
          ]
         },
         "layout": {
          "annotationdefaults": {
           "arrowcolor": "#2a3f5f",
           "arrowhead": 0,
           "arrowwidth": 1
          },
          "coloraxis": {
           "colorbar": {
            "outlinewidth": 0,
            "ticks": ""
           }
          },
          "colorscale": {
           "diverging": [
            [
             0,
             "#8e0152"
            ],
            [
             0.1,
             "#c51b7d"
            ],
            [
             0.2,
             "#de77ae"
            ],
            [
             0.3,
             "#f1b6da"
            ],
            [
             0.4,
             "#fde0ef"
            ],
            [
             0.5,
             "#f7f7f7"
            ],
            [
             0.6,
             "#e6f5d0"
            ],
            [
             0.7,
             "#b8e186"
            ],
            [
             0.8,
             "#7fbc41"
            ],
            [
             0.9,
             "#4d9221"
            ],
            [
             1,
             "#276419"
            ]
           ],
           "sequential": [
            [
             0,
             "#0d0887"
            ],
            [
             0.1111111111111111,
             "#46039f"
            ],
            [
             0.2222222222222222,
             "#7201a8"
            ],
            [
             0.3333333333333333,
             "#9c179e"
            ],
            [
             0.4444444444444444,
             "#bd3786"
            ],
            [
             0.5555555555555556,
             "#d8576b"
            ],
            [
             0.6666666666666666,
             "#ed7953"
            ],
            [
             0.7777777777777778,
             "#fb9f3a"
            ],
            [
             0.8888888888888888,
             "#fdca26"
            ],
            [
             1,
             "#f0f921"
            ]
           ],
           "sequentialminus": [
            [
             0,
             "#0d0887"
            ],
            [
             0.1111111111111111,
             "#46039f"
            ],
            [
             0.2222222222222222,
             "#7201a8"
            ],
            [
             0.3333333333333333,
             "#9c179e"
            ],
            [
             0.4444444444444444,
             "#bd3786"
            ],
            [
             0.5555555555555556,
             "#d8576b"
            ],
            [
             0.6666666666666666,
             "#ed7953"
            ],
            [
             0.7777777777777778,
             "#fb9f3a"
            ],
            [
             0.8888888888888888,
             "#fdca26"
            ],
            [
             1,
             "#f0f921"
            ]
           ]
          },
          "colorway": [
           "#636efa",
           "#EF553B",
           "#00cc96",
           "#ab63fa",
           "#FFA15A",
           "#19d3f3",
           "#FF6692",
           "#B6E880",
           "#FF97FF",
           "#FECB52"
          ],
          "font": {
           "color": "#2a3f5f"
          },
          "geo": {
           "bgcolor": "white",
           "lakecolor": "white",
           "landcolor": "#E5ECF6",
           "showlakes": true,
           "showland": true,
           "subunitcolor": "white"
          },
          "hoverlabel": {
           "align": "left"
          },
          "hovermode": "closest",
          "mapbox": {
           "style": "light"
          },
          "paper_bgcolor": "white",
          "plot_bgcolor": "#E5ECF6",
          "polar": {
           "angularaxis": {
            "gridcolor": "white",
            "linecolor": "white",
            "ticks": ""
           },
           "bgcolor": "#E5ECF6",
           "radialaxis": {
            "gridcolor": "white",
            "linecolor": "white",
            "ticks": ""
           }
          },
          "scene": {
           "xaxis": {
            "backgroundcolor": "#E5ECF6",
            "gridcolor": "white",
            "gridwidth": 2,
            "linecolor": "white",
            "showbackground": true,
            "ticks": "",
            "zerolinecolor": "white"
           },
           "yaxis": {
            "backgroundcolor": "#E5ECF6",
            "gridcolor": "white",
            "gridwidth": 2,
            "linecolor": "white",
            "showbackground": true,
            "ticks": "",
            "zerolinecolor": "white"
           },
           "zaxis": {
            "backgroundcolor": "#E5ECF6",
            "gridcolor": "white",
            "gridwidth": 2,
            "linecolor": "white",
            "showbackground": true,
            "ticks": "",
            "zerolinecolor": "white"
           }
          },
          "shapedefaults": {
           "line": {
            "color": "#2a3f5f"
           }
          },
          "ternary": {
           "aaxis": {
            "gridcolor": "white",
            "linecolor": "white",
            "ticks": ""
           },
           "baxis": {
            "gridcolor": "white",
            "linecolor": "white",
            "ticks": ""
           },
           "bgcolor": "#E5ECF6",
           "caxis": {
            "gridcolor": "white",
            "linecolor": "white",
            "ticks": ""
           }
          },
          "title": {
           "x": 0.05
          },
          "xaxis": {
           "automargin": true,
           "gridcolor": "white",
           "linecolor": "white",
           "ticks": "",
           "title": {
            "standoff": 15
           },
           "zerolinecolor": "white",
           "zerolinewidth": 2
          },
          "yaxis": {
           "automargin": true,
           "gridcolor": "white",
           "linecolor": "white",
           "ticks": "",
           "title": {
            "standoff": 15
           },
           "zerolinecolor": "white",
           "zerolinewidth": 2
          }
         }
        }
       }
      },
      "text/html": [
       "<div>\n",
       "        \n",
       "        \n",
       "            <div id=\"69a03081-2789-411a-9837-c9d10f0e8ca2\" class=\"plotly-graph-div\" style=\"height:525px; width:100%;\"></div>\n",
       "            <script type=\"text/javascript\">\n",
       "                require([\"plotly\"], function(Plotly) {\n",
       "                    window.PLOTLYENV=window.PLOTLYENV || {};\n",
       "                    \n",
       "                if (document.getElementById(\"69a03081-2789-411a-9837-c9d10f0e8ca2\")) {\n",
       "                    Plotly.newPlot(\n",
       "                        '69a03081-2789-411a-9837-c9d10f0e8ca2',\n",
       "                        [{\"branchvalues\": \"total\", \"domain\": {\"x\": [0.0, 1.0], \"y\": [0.0, 1.0]}, \"hoverlabel\": {\"namelength\": 0}, \"hovertemplate\": \"labels=%{label}<br>principal=%{value}<br>parent=%{parent}<br>id=%{id}\", \"ids\": [\"AGG\", \"FPURX\", \"SPY\", \"VWELX\"], \"labels\": [\"AGG\", \"FPURX\", \"SPY\", \"VWELX\"], \"name\": \"\", \"parents\": [\"\", \"\", \"\", \"\"], \"type\": \"treemap\", \"values\": [10795.800000000001, 12016.01, 10701.96, 12178.459999999997]}],\n",
       "                        {\"legend\": {\"tracegroupgap\": 0}, \"margin\": {\"t\": 60}, \"template\": {\"data\": {\"bar\": [{\"error_x\": {\"color\": \"#2a3f5f\"}, \"error_y\": {\"color\": \"#2a3f5f\"}, \"marker\": {\"line\": {\"color\": \"#E5ECF6\", \"width\": 0.5}}, \"type\": \"bar\"}], \"barpolar\": [{\"marker\": {\"line\": {\"color\": \"#E5ECF6\", \"width\": 0.5}}, \"type\": \"barpolar\"}], \"carpet\": [{\"aaxis\": {\"endlinecolor\": \"#2a3f5f\", \"gridcolor\": \"white\", \"linecolor\": \"white\", \"minorgridcolor\": \"white\", \"startlinecolor\": \"#2a3f5f\"}, \"baxis\": {\"endlinecolor\": \"#2a3f5f\", \"gridcolor\": \"white\", \"linecolor\": \"white\", \"minorgridcolor\": \"white\", \"startlinecolor\": \"#2a3f5f\"}, \"type\": \"carpet\"}], \"choropleth\": [{\"colorbar\": {\"outlinewidth\": 0, \"ticks\": \"\"}, \"type\": \"choropleth\"}], \"contour\": [{\"colorbar\": {\"outlinewidth\": 0, \"ticks\": \"\"}, \"colorscale\": [[0.0, \"#0d0887\"], [0.1111111111111111, \"#46039f\"], [0.2222222222222222, \"#7201a8\"], [0.3333333333333333, \"#9c179e\"], [0.4444444444444444, \"#bd3786\"], [0.5555555555555556, \"#d8576b\"], [0.6666666666666666, \"#ed7953\"], [0.7777777777777778, \"#fb9f3a\"], [0.8888888888888888, \"#fdca26\"], [1.0, \"#f0f921\"]], \"type\": \"contour\"}], \"contourcarpet\": [{\"colorbar\": {\"outlinewidth\": 0, \"ticks\": \"\"}, \"type\": \"contourcarpet\"}], \"heatmap\": [{\"colorbar\": {\"outlinewidth\": 0, \"ticks\": \"\"}, \"colorscale\": [[0.0, \"#0d0887\"], [0.1111111111111111, \"#46039f\"], [0.2222222222222222, \"#7201a8\"], [0.3333333333333333, \"#9c179e\"], [0.4444444444444444, \"#bd3786\"], [0.5555555555555556, \"#d8576b\"], [0.6666666666666666, \"#ed7953\"], [0.7777777777777778, \"#fb9f3a\"], [0.8888888888888888, \"#fdca26\"], [1.0, \"#f0f921\"]], \"type\": \"heatmap\"}], \"heatmapgl\": [{\"colorbar\": {\"outlinewidth\": 0, \"ticks\": \"\"}, \"colorscale\": [[0.0, \"#0d0887\"], [0.1111111111111111, \"#46039f\"], [0.2222222222222222, \"#7201a8\"], [0.3333333333333333, \"#9c179e\"], [0.4444444444444444, \"#bd3786\"], [0.5555555555555556, \"#d8576b\"], [0.6666666666666666, \"#ed7953\"], [0.7777777777777778, \"#fb9f3a\"], [0.8888888888888888, \"#fdca26\"], [1.0, \"#f0f921\"]], \"type\": \"heatmapgl\"}], \"histogram\": [{\"marker\": {\"colorbar\": {\"outlinewidth\": 0, \"ticks\": \"\"}}, \"type\": \"histogram\"}], \"histogram2d\": [{\"colorbar\": {\"outlinewidth\": 0, \"ticks\": \"\"}, \"colorscale\": [[0.0, \"#0d0887\"], [0.1111111111111111, \"#46039f\"], [0.2222222222222222, \"#7201a8\"], [0.3333333333333333, \"#9c179e\"], [0.4444444444444444, \"#bd3786\"], [0.5555555555555556, \"#d8576b\"], [0.6666666666666666, \"#ed7953\"], [0.7777777777777778, \"#fb9f3a\"], [0.8888888888888888, \"#fdca26\"], [1.0, \"#f0f921\"]], \"type\": \"histogram2d\"}], \"histogram2dcontour\": [{\"colorbar\": {\"outlinewidth\": 0, \"ticks\": \"\"}, \"colorscale\": [[0.0, \"#0d0887\"], [0.1111111111111111, \"#46039f\"], [0.2222222222222222, \"#7201a8\"], [0.3333333333333333, \"#9c179e\"], [0.4444444444444444, \"#bd3786\"], [0.5555555555555556, \"#d8576b\"], [0.6666666666666666, \"#ed7953\"], [0.7777777777777778, \"#fb9f3a\"], [0.8888888888888888, \"#fdca26\"], [1.0, \"#f0f921\"]], \"type\": \"histogram2dcontour\"}], \"mesh3d\": [{\"colorbar\": {\"outlinewidth\": 0, \"ticks\": \"\"}, \"type\": \"mesh3d\"}], \"parcoords\": [{\"line\": {\"colorbar\": {\"outlinewidth\": 0, \"ticks\": \"\"}}, \"type\": \"parcoords\"}], \"pie\": [{\"automargin\": true, \"type\": \"pie\"}], \"scatter\": [{\"marker\": {\"colorbar\": {\"outlinewidth\": 0, \"ticks\": \"\"}}, \"type\": \"scatter\"}], \"scatter3d\": [{\"line\": {\"colorbar\": {\"outlinewidth\": 0, \"ticks\": \"\"}}, \"marker\": {\"colorbar\": {\"outlinewidth\": 0, \"ticks\": \"\"}}, \"type\": \"scatter3d\"}], \"scattercarpet\": [{\"marker\": {\"colorbar\": {\"outlinewidth\": 0, \"ticks\": \"\"}}, \"type\": \"scattercarpet\"}], \"scattergeo\": [{\"marker\": {\"colorbar\": {\"outlinewidth\": 0, \"ticks\": \"\"}}, \"type\": \"scattergeo\"}], \"scattergl\": [{\"marker\": {\"colorbar\": {\"outlinewidth\": 0, \"ticks\": \"\"}}, \"type\": \"scattergl\"}], \"scattermapbox\": [{\"marker\": {\"colorbar\": {\"outlinewidth\": 0, \"ticks\": \"\"}}, \"type\": \"scattermapbox\"}], \"scatterpolar\": [{\"marker\": {\"colorbar\": {\"outlinewidth\": 0, \"ticks\": \"\"}}, \"type\": \"scatterpolar\"}], \"scatterpolargl\": [{\"marker\": {\"colorbar\": {\"outlinewidth\": 0, \"ticks\": \"\"}}, \"type\": \"scatterpolargl\"}], \"scatterternary\": [{\"marker\": {\"colorbar\": {\"outlinewidth\": 0, \"ticks\": \"\"}}, \"type\": \"scatterternary\"}], \"surface\": [{\"colorbar\": {\"outlinewidth\": 0, \"ticks\": \"\"}, \"colorscale\": [[0.0, \"#0d0887\"], [0.1111111111111111, \"#46039f\"], [0.2222222222222222, \"#7201a8\"], [0.3333333333333333, \"#9c179e\"], [0.4444444444444444, \"#bd3786\"], [0.5555555555555556, \"#d8576b\"], [0.6666666666666666, \"#ed7953\"], [0.7777777777777778, \"#fb9f3a\"], [0.8888888888888888, \"#fdca26\"], [1.0, \"#f0f921\"]], \"type\": \"surface\"}], \"table\": [{\"cells\": {\"fill\": {\"color\": \"#EBF0F8\"}, \"line\": {\"color\": \"white\"}}, \"header\": {\"fill\": {\"color\": \"#C8D4E3\"}, \"line\": {\"color\": \"white\"}}, \"type\": \"table\"}]}, \"layout\": {\"annotationdefaults\": {\"arrowcolor\": \"#2a3f5f\", \"arrowhead\": 0, \"arrowwidth\": 1}, \"coloraxis\": {\"colorbar\": {\"outlinewidth\": 0, \"ticks\": \"\"}}, \"colorscale\": {\"diverging\": [[0, \"#8e0152\"], [0.1, \"#c51b7d\"], [0.2, \"#de77ae\"], [0.3, \"#f1b6da\"], [0.4, \"#fde0ef\"], [0.5, \"#f7f7f7\"], [0.6, \"#e6f5d0\"], [0.7, \"#b8e186\"], [0.8, \"#7fbc41\"], [0.9, \"#4d9221\"], [1, \"#276419\"]], \"sequential\": [[0.0, \"#0d0887\"], [0.1111111111111111, \"#46039f\"], [0.2222222222222222, \"#7201a8\"], [0.3333333333333333, \"#9c179e\"], [0.4444444444444444, \"#bd3786\"], [0.5555555555555556, \"#d8576b\"], [0.6666666666666666, \"#ed7953\"], [0.7777777777777778, \"#fb9f3a\"], [0.8888888888888888, \"#fdca26\"], [1.0, \"#f0f921\"]], \"sequentialminus\": [[0.0, \"#0d0887\"], [0.1111111111111111, \"#46039f\"], [0.2222222222222222, \"#7201a8\"], [0.3333333333333333, \"#9c179e\"], [0.4444444444444444, \"#bd3786\"], [0.5555555555555556, \"#d8576b\"], [0.6666666666666666, \"#ed7953\"], [0.7777777777777778, \"#fb9f3a\"], [0.8888888888888888, \"#fdca26\"], [1.0, \"#f0f921\"]]}, \"colorway\": [\"#636efa\", \"#EF553B\", \"#00cc96\", \"#ab63fa\", \"#FFA15A\", \"#19d3f3\", \"#FF6692\", \"#B6E880\", \"#FF97FF\", \"#FECB52\"], \"font\": {\"color\": \"#2a3f5f\"}, \"geo\": {\"bgcolor\": \"white\", \"lakecolor\": \"white\", \"landcolor\": \"#E5ECF6\", \"showlakes\": true, \"showland\": true, \"subunitcolor\": \"white\"}, \"hoverlabel\": {\"align\": \"left\"}, \"hovermode\": \"closest\", \"mapbox\": {\"style\": \"light\"}, \"paper_bgcolor\": \"white\", \"plot_bgcolor\": \"#E5ECF6\", \"polar\": {\"angularaxis\": {\"gridcolor\": \"white\", \"linecolor\": \"white\", \"ticks\": \"\"}, \"bgcolor\": \"#E5ECF6\", \"radialaxis\": {\"gridcolor\": \"white\", \"linecolor\": \"white\", \"ticks\": \"\"}}, \"scene\": {\"xaxis\": {\"backgroundcolor\": \"#E5ECF6\", \"gridcolor\": \"white\", \"gridwidth\": 2, \"linecolor\": \"white\", \"showbackground\": true, \"ticks\": \"\", \"zerolinecolor\": \"white\"}, \"yaxis\": {\"backgroundcolor\": \"#E5ECF6\", \"gridcolor\": \"white\", \"gridwidth\": 2, \"linecolor\": \"white\", \"showbackground\": true, \"ticks\": \"\", \"zerolinecolor\": \"white\"}, \"zaxis\": {\"backgroundcolor\": \"#E5ECF6\", \"gridcolor\": \"white\", \"gridwidth\": 2, \"linecolor\": \"white\", \"showbackground\": true, \"ticks\": \"\", \"zerolinecolor\": \"white\"}}, \"shapedefaults\": {\"line\": {\"color\": \"#2a3f5f\"}}, \"ternary\": {\"aaxis\": {\"gridcolor\": \"white\", \"linecolor\": \"white\", \"ticks\": \"\"}, \"baxis\": {\"gridcolor\": \"white\", \"linecolor\": \"white\", \"ticks\": \"\"}, \"bgcolor\": \"#E5ECF6\", \"caxis\": {\"gridcolor\": \"white\", \"linecolor\": \"white\", \"ticks\": \"\"}}, \"title\": {\"x\": 0.05}, \"xaxis\": {\"automargin\": true, \"gridcolor\": \"white\", \"linecolor\": \"white\", \"ticks\": \"\", \"title\": {\"standoff\": 15}, \"zerolinecolor\": \"white\", \"zerolinewidth\": 2}, \"yaxis\": {\"automargin\": true, \"gridcolor\": \"white\", \"linecolor\": \"white\", \"ticks\": \"\", \"title\": {\"standoff\": 15}, \"zerolinecolor\": \"white\", \"zerolinewidth\": 2}}}},\n",
       "                        {\"responsive\": true}\n",
       "                    ).then(function(){\n",
       "                            \n",
       "var gd = document.getElementById('69a03081-2789-411a-9837-c9d10f0e8ca2');\n",
       "var x = new MutationObserver(function (mutations, observer) {{\n",
       "        var display = window.getComputedStyle(gd).display;\n",
       "        if (!display || display === 'none') {{\n",
       "            console.log([gd, 'removed!']);\n",
       "            Plotly.purge(gd);\n",
       "            observer.disconnect();\n",
       "        }}\n",
       "}});\n",
       "\n",
       "// Listen for the removal of the full notebook cells\n",
       "var notebookContainer = gd.closest('#notebook-container');\n",
       "if (notebookContainer) {{\n",
       "    x.observe(notebookContainer, {childList: true});\n",
       "}}\n",
       "\n",
       "// Listen for the clearing of the current output cell\n",
       "var outputEl = gd.closest('.output');\n",
       "if (outputEl) {{\n",
       "    x.observe(outputEl, {childList: true});\n",
       "}}\n",
       "\n",
       "                        })\n",
       "                };\n",
       "                });\n",
       "            </script>\n",
       "        </div>"
      ]
     },
     "metadata": {},
     "output_type": "display_data"
    }
   ],
   "source": [
    "fig4"
   ]
  },
  {
   "cell_type": "code",
   "execution_count": 66,
   "metadata": {},
   "outputs": [
    {
     "data": {
      "text/plain": [
       "Index(['2015-04-01', '2015-07-01', '2015-10-09', '2015-12-11', '2016-04-08',\n",
       "       '2016-07-08', '2016-10-14', '2016-12-09', '2016-12-27', '2017-04-07',\n",
       "       '2017-07-07', '2017-10-13', '2017-12-08', '2018-04-06', '2018-07-06',\n",
       "       '2018-10-12', '2018-12-07', '2019-04-05', '2019-07-05', '2019-10-11',\n",
       "       '2019-12-13', '2020-04-03'],\n",
       "      dtype='object', name='date')"
      ]
     },
     "execution_count": 66,
     "metadata": {},
     "output_type": "execute_result"
    }
   ],
   "source": [
    "puritan_d.index"
   ]
  },
  {
   "cell_type": "markdown",
   "metadata": {},
   "source": [
    "# Prepare series of each symbol"
   ]
  },
  {
   "cell_type": "code",
   "execution_count": 86,
   "metadata": {},
   "outputs": [],
   "source": [
    "agg_sp = agg['share_price']\n",
    "spy_sp = spy['share_price']\n",
    "pure_sp = puritan['share_price']\n",
    "well_sp = well['share_price']"
   ]
  },
  {
   "cell_type": "code",
   "execution_count": 87,
   "metadata": {},
   "outputs": [
    {
     "data": {
      "text/plain": [
       "date\n",
       "2015-01-28    112.07\n",
       "2015-02-02    112.20\n",
       "2015-02-11    110.87\n",
       "2015-02-25    111.32\n",
       "2015-03-02    110.45\n",
       "               ...  \n",
       "2020-03-10    116.38\n",
       "2020-03-11    114.72\n",
       "2020-03-25    114.73\n",
       "2020-04-01    114.73\n",
       "2020-04-08    115.81\n",
       "Name: share_price, Length: 192, dtype: float64"
      ]
     },
     "execution_count": 87,
     "metadata": {},
     "output_type": "execute_result"
    }
   ],
   "source": [
    "agg_sp"
   ]
  },
  {
   "cell_type": "markdown",
   "metadata": {},
   "source": [
    "# Layout and Data :: Plotly and Dash Application"
   ]
  },
  {
   "cell_type": "code",
   "execution_count": 90,
   "metadata": {},
   "outputs": [],
   "source": [
    "external_stylesheets = ['https://codepen.io/chriddyp/pen/bWLwgP.css']\n",
    "\n",
    "app = dash.Dash(__name__, external_stylesheets=external_stylesheets)\n",
    "\n",
    "app.layout = html.Div([\n",
    "    dcc.Tabs([\n",
    "        dcc.Tab(label='Cost Basis: Taxable', children=[\n",
    "            dcc.Graph(\n",
    "                figure={\n",
    "                    'data': [\n",
    "                        go.Scatter(\n",
    "                            x = df2.index,\n",
    "                            y = df2['SPY'],\n",
    "                            mode = 'lines',\n",
    "                            name='SPY Daily Close',\n",
    "                            marker = dict(color='#D7DF01')\n",
    "                        ),\n",
    "                        go.Scatter(\n",
    "                            x = spy_sp.index,\n",
    "                            y = spy_sp,\n",
    "                            mode = 'markers',\n",
    "                            name='Cost Basis',\n",
    "                            marker = dict(color='black',size=3)\n",
    "                        ),\n",
    "                        go.Scatter(\n",
    "                            x = df2.index,\n",
    "                            y = df2['SPY'].rolling(50).mean(),\n",
    "                            mode = 'lines',\n",
    "                            name='MA 50',\n",
    "                            marker=dict(\n",
    "                                color='gray',\n",
    "                                line = dict(width=6)\n",
    "                            )\n",
    "                        )\n",
    "                    ],\n",
    "                'layout': go.Layout(\n",
    "                    title = 'SPDR S&P 500 ETF Trust Daily Close 2015 - present',\n",
    "                    xaxis = {'title': 'Time Interval (daily)'},\n",
    "                    yaxis = {'title': 'Price per Share ($/share)'},\n",
    "                    hovermode='closest'\n",
    "                )\n",
    "            }\n",
    "        ),\n",
    "            dcc.Graph(\n",
    "                figure={\n",
    "                    'data': [\n",
    "                        go.Scatter(\n",
    "                            x = df2.index,\n",
    "                            y = df2['FPURX'],\n",
    "                            mode = 'lines',\n",
    "                            name='FPURX Daily Close',\n",
    "                            marker = dict(color='#D7DF01')\n",
    "                        ),\n",
    "                        go.Scatter(\n",
    "                            x = pure_sp.index,\n",
    "                            y = pure_sp,\n",
    "                            mode = 'markers',\n",
    "                            name='Cost Basis',\n",
    "                            marker = dict(color='black',size=3)\n",
    "                        ),\n",
    "                        go.Scatter(\n",
    "                            x = df2.index,\n",
    "                            y = df2['FPURX'].rolling(50).mean(),\n",
    "                            mode = 'lines',\n",
    "                            name='MA 50',\n",
    "                            marker=dict(\n",
    "                                color='gray',\n",
    "                                line = dict(width=6)\n",
    "                            )\n",
    "                        )\n",
    "                    ],\n",
    "                'layout': go.Layout(\n",
    "                    title = 'Fidelity Puritan Mutual Fund Daily Close 2015 - present',\n",
    "                    xaxis = {'title': 'Time Interval (daily)'},\n",
    "                    yaxis = {'title': 'Price per Share ($/share)'},\n",
    "                    hovermode='closest'\n",
    "                )\n",
    "            }\n",
    "        ),\n",
    "            dcc.Graph(\n",
    "                figure={\n",
    "                    'data': [\n",
    "                        go.Scatter(\n",
    "                            x = df2.index,\n",
    "                            y = df2['VWELX'],\n",
    "                            mode = 'lines',\n",
    "                            name='FSGGX Daily Close',\n",
    "                            marker = dict(color='#D7DF01')\n",
    "                        ),\n",
    "                        go.Scatter(\n",
    "                            x = well_sp.index,\n",
    "                            y = well_sp,\n",
    "                            mode = 'markers',\n",
    "                            name='Cost Basis',\n",
    "                            marker = dict(color='black',size=3)\n",
    "                        ),\n",
    "                        go.Scatter(\n",
    "                            x = df2.index,\n",
    "                            y = df2['VWELX'].rolling(50).mean(),\n",
    "                            mode = 'lines',\n",
    "                            name='MA 50',\n",
    "                            marker=dict(\n",
    "                                color='gray',\n",
    "                                line = dict(width=6)\n",
    "                            )\n",
    "                        )\n",
    "                    ],\n",
    "                'layout': go.Layout(\n",
    "                    title = 'Vanguard Wellington Mutual Fund Daily Close 2015 - present',\n",
    "                    xaxis = {'title': 'Time Interval (daily)'},\n",
    "                    yaxis = {'title': 'Price per Share ($/share)'},\n",
    "                    hovermode='closest'\n",
    "                )\n",
    "            }\n",
    "        ),\n",
    "            dcc.Graph(\n",
    "                figure={\n",
    "                    'data': [\n",
    "                        go.Scatter(\n",
    "                            x = df2.index,\n",
    "                            y = df2['AGG'],\n",
    "                            mode = 'lines',\n",
    "                            name='AGG Daily Close',\n",
    "                            marker = dict(color='#D7DF01')\n",
    "                        ),\n",
    "                        go.Scatter(\n",
    "                            x = agg_sp.index,\n",
    "                            y = agg_sp,\n",
    "                            mode = 'markers',\n",
    "                            name='Cost Basis',\n",
    "                            marker = dict(color='black',size=3)\n",
    "                        ),\n",
    "                        go.Scatter(\n",
    "                            x = df2.index,\n",
    "                            y = df2['AGG'].rolling(50).mean(),\n",
    "                            mode = 'lines',\n",
    "                            name='MA 50',\n",
    "                            marker=dict(\n",
    "                                color='gray',\n",
    "                                line = dict(width=6)\n",
    "                            )\n",
    "                        )\n",
    "                    ],\n",
    "                'layout': go.Layout(\n",
    "                    title = 'iShares Barclays Aggregate Bond Fund Daily Close 2015 - present',\n",
    "                    xaxis = {'title': 'Time Interval (daily)'},\n",
    "                    yaxis = {'title': 'Price per Share ($/share))'},\n",
    "                    hovermode='closest'\n",
    "                )\n",
    "            }\n",
    "        ),\n",
    "            dcc.Graph(\n",
    "                figure={\n",
    "                    'data': [\n",
    "                        go.Bar(\n",
    "                        x=df4['symbol'],\n",
    "                        y=df4['share_price']\n",
    "                        )\n",
    "                    ],                \n",
    "                    'layout': go.Layout(\n",
    "                        title = 'Average Cost Basis',\n",
    "                        xaxis = {'title': 'Fund or Symbol'},\n",
    "                        yaxis = {'title': 'Price per Share'},\n",
    "                        hovermode='closest'\n",
    "                    )  \n",
    "                }\n",
    "            )\n",
    "    ]),\n",
    "        dcc.Tab(label='Performance', children=[\n",
    "            dcc.Graph(\n",
    "                figure={\n",
    "                    'data': [\n",
    "                        go.Scatter(\n",
    "                            x = agg['quarter'],\n",
    "                            y = agg['sym_total'],\n",
    "                            name=\"Taxable: AGG\",\n",
    "                            hoverinfo='x+y',\n",
    "                            mode='lines',\n",
    "                            line=dict(width=0.5, color='rgb(0, 51, 153)'),\n",
    "                            stackgroup='one' # define stack group\n",
    "                        ),\n",
    "                        go.Scatter(\n",
    "                            x = puritan['quarter'],\n",
    "                            y = puritan['sym_total'],\n",
    "                            name=\"Taxable: Puritan Fund\",\n",
    "                            hoverinfo='x+y',\n",
    "                            mode='lines',\n",
    "                            line=dict(width=0.5, color='rgb(131, 90, 241)'),\n",
    "                            stackgroup='one' # define stack group\n",
    "                        ),\n",
    "                        go.Scatter(\n",
    "                            x = well['quarter'],\n",
    "                            y = well['sym_total'],\n",
    "                            name=\"Taxable: Wellsley\",\n",
    "                            hoverinfo='x+y',\n",
    "                            mode='lines',\n",
    "                            line=dict(width=0.5, color='rgb(102, 0, 204)'),\n",
    "                            stackgroup='one'\n",
    "                        ),\n",
    "                        go.Scatter(\n",
    "                            x = spy['quarter'],\n",
    "                            y = spy['sym_total'],\n",
    "                            name=\"Taxable: SPY\",\n",
    "                            hoverinfo='x+y',\n",
    "                            mode='lines',\n",
    "                            line=dict(width=0.5, color='rgb(50, 0, 204)'),\n",
    "                            stackgroup='one'\n",
    "                            )\n",
    "                    ],\n",
    "                'layout': go.Layout(\n",
    "                    title = 'Portfolio Performance over Time',\n",
    "                    xaxis = {'title': 'Time Interval (daily)'},\n",
    "                    yaxis = {'title': 'Price per Share ($/share)'},\n",
    "                    hovermode='closest',\n",
    "                )\n",
    "            }\n",
    "        ),\n",
    "            dcc.Graph(\n",
    "                figure={\n",
    "                    'data': [\n",
    "                        go.Bar(\n",
    "                            x = well_d.quarter,\n",
    "                            y = well_d.principal,\n",
    "                            name='Wellseley'\n",
    "                        ),\n",
    "                        go.Bar(\n",
    "                            x = puritan_d.quarter,\n",
    "                            y = puritan_d.principal,\n",
    "                            name='Puritan'\n",
    "                        ),\n",
    "                        go.Bar(\n",
    "                            x = agg_d.quarter,\n",
    "                            y = agg_d.principal,\n",
    "                            name='AGG'\n",
    "                        ),\n",
    "                        go.Bar(\n",
    "                            x = spy_d.quarter,\n",
    "                            y = spy_d.principal,\n",
    "                            name='SPY'\n",
    "                        ),\n",
    "                    ],\n",
    "                'layout': go.Layout(\n",
    "                    title = 'Quarterly Dividends & Capital Gains Reinvested back into the Portfolio by Fund',\n",
    "                    xaxis = {'title': 'Time Interval (quarterly)'},\n",
    "                    yaxis = {'title': 'Principal Amount'},\n",
    "                    hovermode='closest',\n",
    "                    barmode='stack'\n",
    "                )\n",
    "            }\n",
    "        ),\n",
    "            dcc.Graph(\n",
    "                figure={\n",
    "                    'data': [\n",
    "                        go.Bar(\n",
    "                            x = pur_q.quarter,\n",
    "                            y = pur_q.principal,\n",
    "                            name='Puritan'\n",
    "                        ),\n",
    "                        go.Bar(\n",
    "                            x = well_q.quarter,\n",
    "                            y = well_q.principal,\n",
    "                            name='Wellseley'\n",
    "                        ),\n",
    "                        go.Bar(\n",
    "                            x = spy_q.quarter,\n",
    "                            y = spy_q.principal,\n",
    "                            name='SPY'          \n",
    "                        ),\n",
    "                        go.Bar(\n",
    "                            x = agg_q.quarter,\n",
    "                            y = agg_q.principal,\n",
    "                            name='AGG',\n",
    "                        ),\n",
    "                    ],\n",
    "                'layout': go.Layout(\n",
    "                    title = 'Quarterly Contributions by Fund',\n",
    "                    xaxis = {'title': 'Time Interval (quarterly)'},\n",
    "                    yaxis = {'title': 'Principal Amount'},\n",
    "                    hovermode='closest',\n",
    "                    barmode='stack'\n",
    "                )\n",
    "            }\n",
    "        ),\n",
    "        ]),\n",
    "        dcc.Tab(label='Free Cash Flow', children=[\n",
    "            dcc.Graph(\n",
    "                figure={\n",
    "                    'data': [\n",
    "                        go.Waterfall(\n",
    "                            name = \"Change over Time\",\n",
    "                            orientation = \"v\",\n",
    "                            measure = [\"total\", \"relative\", \"relative\", \"relative\", \"relative\", \"total\"],\n",
    "                            x = [\"Oct 2019\", \"Nov 2019\", \"Dec 2019\", \"Jan 2020\", \"Feb 2020\",\"Mar 2020\",\"Apr 2020\"],\n",
    "                            textposition = \"outside\",\n",
    "                            text = [\"+60\", \"+80\", \"\", \"-40\", \"-20\", \"Total\"],\n",
    "                            y = [50754, -542.08, -9193.78, 1043.48, 64.54, -798.42, 43340.99],\n",
    "                            connector = {\"line\":{\"color\":\"rgb(63, 63, 63)\"}},\n",
    "                        )\n",
    "                    ],\n",
    "                'layout': go.Layout(\n",
    "                    title = 'Profit and Loss Statement in 2020',\n",
    "                    showlegend = True\n",
    "                    )\n",
    "                }\n",
    "            ),\n",
    "        ]),\n",
    "    ])\n",
    "])"
   ]
  },
  {
   "cell_type": "markdown",
   "metadata": {},
   "source": [
    "# Call Application"
   ]
  },
  {
   "cell_type": "code",
   "execution_count": null,
   "metadata": {},
   "outputs": [
    {
     "name": "stdout",
     "output_type": "stream",
     "text": [
      " * Serving Flask app \"__main__\" (lazy loading)\n",
      " * Environment: production\n",
      "   WARNING: This is a development server. Do not use it in a production deployment.\n",
      "   Use a production WSGI server instead.\n",
      " * Debug mode: off\n"
     ]
    },
    {
     "name": "stderr",
     "output_type": "stream",
     "text": [
      " * Running on http://127.0.0.1:8050/ (Press CTRL+C to quit)\n",
      "127.0.0.1 - - [01/May/2020 13:51:42] \"\u001b[37mGET / HTTP/1.1\u001b[0m\" 200 -\n",
      "127.0.0.1 - - [01/May/2020 13:51:42] \"\u001b[37mGET /_dash-dependencies HTTP/1.1\u001b[0m\" 200 -\n",
      "127.0.0.1 - - [01/May/2020 13:51:42] \"\u001b[37mGET /_favicon.ico?v=1.11.0 HTTP/1.1\u001b[0m\" 200 -\n",
      "127.0.0.1 - - [01/May/2020 13:51:42] \"\u001b[37mGET /_dash-layout HTTP/1.1\u001b[0m\" 200 -\n"
     ]
    }
   ],
   "source": [
    "if __name__ == '__main__':\n",
    "    app.run_server()"
   ]
  },
  {
   "cell_type": "code",
   "execution_count": null,
   "metadata": {},
   "outputs": [],
   "source": []
  },
  {
   "cell_type": "code",
   "execution_count": null,
   "metadata": {},
   "outputs": [],
   "source": []
  },
  {
   "cell_type": "code",
   "execution_count": null,
   "metadata": {},
   "outputs": [],
   "source": []
  }
 ],
 "metadata": {
  "kernelspec": {
   "display_name": "Python 3",
   "language": "python",
   "name": "python3"
  },
  "language_info": {
   "codemirror_mode": {
    "name": "ipython",
    "version": 3
   },
   "file_extension": ".py",
   "mimetype": "text/x-python",
   "name": "python",
   "nbconvert_exporter": "python",
   "pygments_lexer": "ipython3",
   "version": "3.7.4"
  }
 },
 "nbformat": 4,
 "nbformat_minor": 4
}
