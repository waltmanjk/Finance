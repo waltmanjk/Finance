{
 "cells": [
  {
   "cell_type": "code",
   "execution_count": 120,
   "metadata": {},
   "outputs": [],
   "source": [
    "###############################################################################\n",
    "#                          1. Importing Libraries                             #\n",
    "###############################################################################\n",
    "\n",
    "# To chart out stock data\n",
    "from pylab import plt, mpl  \n",
    "plt.style.use('seaborn')  \n",
    "mpl.rcParams['font.family'] = 'serif'  \n",
    "%matplotlib inline\n",
    "\n",
    "# To create datetime objects \n",
    "import datetime \n",
    "from datetime import date\n",
    "import matplotlib.pyplot as plt\n",
    "import numpy as np\n",
    "import seaborn as sns\n",
    "import pandas as pd\n",
    "import sqlite3\n",
    "from sqlite3 import Error\n",
    "import io\n",
    "import requests\n",
    "\n",
    "# To grab stock data\n",
    "import yfinance as fyf\n",
    "from pandas_datareader import data as pdr\n",
    "fyf.pdr_override() # <-- Here is the fix"
   ]
  },
  {
   "cell_type": "code",
   "execution_count": 27,
   "metadata": {},
   "outputs": [
    {
     "name": "stdout",
     "output_type": "stream",
     "text": [
      "[*********************100%***********************]  2 of 2 completed\n"
     ]
    }
   ],
   "source": [
    "###############################################################################\n",
    "#                               2. Read data from API                         #\n",
    "###############################################################################\n",
    "\n",
    "\n",
    "# Set label\n",
    "stocks = [\"SPY\",\"ONEQ\"] # If you want to grab multiple stocks add more labels to this list\n",
    "\n",
    "\n",
    "# Set personal stocks, mutual funds, or ETFs\n",
    "dummy = [\"FXAIX\",\"FBAKX\"]\n",
    "\n",
    "# Set start and end dates\n",
    "start = datetime.datetime(2015, 1, 1)\n",
    "end   = datetime.datetime(2020, 3, 30)\n",
    "\n",
    "# Grab data\n",
    "df_quotes = pdr.get_data_yahoo(dummy, start = start, end = end)"
   ]
  },
  {
   "cell_type": "markdown",
   "metadata": {},
   "source": [
    "# Inspect the Data Frame from Yahoo Finance API"
   ]
  },
  {
   "cell_type": "code",
   "execution_count": 28,
   "metadata": {},
   "outputs": [
    {
     "name": "stdout",
     "output_type": "stream",
     "text": [
      "<class 'pandas.core.frame.DataFrame'>\n",
      "DatetimeIndex: 1318 entries, 2015-01-02 to 2020-03-27\n",
      "Data columns (total 12 columns):\n",
      "(Adj Close, FBAKX)    1318 non-null float64\n",
      "(Adj Close, FXAIX)    1318 non-null float64\n",
      "(Close, FBAKX)        1318 non-null float64\n",
      "(Close, FXAIX)        1318 non-null float64\n",
      "(High, FBAKX)         1318 non-null float64\n",
      "(High, FXAIX)         1318 non-null float64\n",
      "(Low, FBAKX)          1318 non-null float64\n",
      "(Low, FXAIX)          1318 non-null float64\n",
      "(Open, FBAKX)         1318 non-null float64\n",
      "(Open, FXAIX)         1318 non-null float64\n",
      "(Volume, FBAKX)       1318 non-null int64\n",
      "(Volume, FXAIX)       1318 non-null int64\n",
      "dtypes: float64(10), int64(2)\n",
      "memory usage: 133.9 KB\n"
     ]
    }
   ],
   "source": [
    "df_quotes.info()"
   ]
  },
  {
   "cell_type": "markdown",
   "metadata": {},
   "source": [
    "# Two indexes, we want to look at the first level of the index"
   ]
  },
  {
   "cell_type": "code",
   "execution_count": 101,
   "metadata": {},
   "outputs": [],
   "source": [
    "df_quotes_close = df_quotes[['Close']]"
   ]
  },
  {
   "cell_type": "markdown",
   "metadata": {},
   "source": [
    "# Now that we just have the stock quotes for the close, let's drop the top column Index: Close"
   ]
  },
  {
   "cell_type": "code",
   "execution_count": 102,
   "metadata": {},
   "outputs": [],
   "source": [
    "df_quotes_close.columns = df_quotes_close.columns.droplevel()"
   ]
  },
  {
   "cell_type": "markdown",
   "metadata": {},
   "source": [
    "# We are left with just the stock symbols and adjust close prices. Let's save this as the adjusted close version of the retirement table."
   ]
  },
  {
   "cell_type": "code",
   "execution_count": 103,
   "metadata": {},
   "outputs": [
    {
     "data": {
      "text/plain": [
       "Index(['FBAKX', 'FXAIX'], dtype='object')"
      ]
     },
     "execution_count": 103,
     "metadata": {},
     "output_type": "execute_result"
    }
   ],
   "source": [
    "df_quotes_close.columns"
   ]
  },
  {
   "cell_type": "markdown",
   "metadata": {},
   "source": [
    "# Write to CSV or to SQLite"
   ]
  },
  {
   "cell_type": "code",
   "execution_count": 15,
   "metadata": {},
   "outputs": [],
   "source": [
    "df_quotes_close.to_csv(\"dummy_retirement_quotes.csv\", index=True)"
   ]
  },
  {
   "cell_type": "markdown",
   "metadata": {},
   "source": [
    "# Establish a connection with the SQLite database"
   ]
  },
  {
   "cell_type": "markdown",
   "metadata": {},
   "source": [
    "Please download the Dummy_Finance.db file stored in the Repository"
   ]
  },
  {
   "cell_type": "code",
   "execution_count": 38,
   "metadata": {},
   "outputs": [],
   "source": [
    "con = sqlite3.connect('Dummy_Finance.db')"
   ]
  },
  {
   "cell_type": "code",
   "execution_count": 39,
   "metadata": {},
   "outputs": [],
   "source": [
    "def sql_connection():\n",
    "\n",
    "    try:\n",
    "\n",
    "        con = sqlite3.connect('Dummy_Finance.db')\n",
    "\n",
    "        print(\"Connection is established\")\n",
    "\n",
    "    except Error:\n",
    "\n",
    "        print(Error)\n",
    "\n",
    "    finally:\n",
    "\n",
    "        con.close()"
   ]
  },
  {
   "cell_type": "code",
   "execution_count": 40,
   "metadata": {},
   "outputs": [
    {
     "name": "stdout",
     "output_type": "stream",
     "text": [
      "Connection is established\n"
     ]
    }
   ],
   "source": [
    "sql_connection()"
   ]
  },
  {
   "cell_type": "markdown",
   "metadata": {},
   "source": [
    "# The next line can be used to execute any change to the database"
   ]
  },
  {
   "cell_type": "markdown",
   "metadata": {},
   "source": [
    "In this example, this code will create a new table called \"employees\""
   ]
  },
  {
   "cell_type": "code",
   "execution_count": 142,
   "metadata": {},
   "outputs": [],
   "source": [
    "#def sql_table(con):\n",
    "\n",
    "#    cursorObj = con.cursor()\n",
    "\n",
    "#    cursorObj.execute(\"CREATE TABLE employees(id integer PRIMARY KEY, name text, salary real, department text, position text, hireDate text)\")\n",
    "\n",
    "#    con.commit()"
   ]
  },
  {
   "cell_type": "code",
   "execution_count": 20,
   "metadata": {},
   "outputs": [
    {
     "ename": "NameError",
     "evalue": "name 'con' is not defined",
     "output_type": "error",
     "traceback": [
      "\u001b[1;31m---------------------------------------------------------------------------\u001b[0m",
      "\u001b[1;31mNameError\u001b[0m                                 Traceback (most recent call last)",
      "\u001b[1;32m<ipython-input-20-0fb9640e82f6>\u001b[0m in \u001b[0;36m<module>\u001b[1;34m\u001b[0m\n\u001b[1;32m----> 1\u001b[1;33m \u001b[0msql_table\u001b[0m\u001b[1;33m(\u001b[0m\u001b[0mcon\u001b[0m\u001b[1;33m)\u001b[0m\u001b[1;33m\u001b[0m\u001b[1;33m\u001b[0m\u001b[0m\n\u001b[0m",
      "\u001b[1;31mNameError\u001b[0m: name 'con' is not defined"
     ]
    }
   ],
   "source": [
    "# sql_table(con)"
   ]
  },
  {
   "cell_type": "markdown",
   "metadata": {},
   "source": [
    "# Run SELECT statement from SQLite database"
   ]
  },
  {
   "cell_type": "code",
   "execution_count": 41,
   "metadata": {},
   "outputs": [],
   "source": [
    "#def sql_fetch(con):\n",
    "\n",
    "#    cursorObj = con.cursor()\n",
    "\n",
    "#    cursorObj.execute('SELECT * FROM dummy_cost_unit limit 5;')\n",
    "\n",
    "#    rows = cursorObj.fetchall()\n",
    "\n",
    "#    for row in rows:\n",
    "\n",
    "#        print(row)"
   ]
  },
  {
   "cell_type": "code",
   "execution_count": 42,
   "metadata": {},
   "outputs": [
    {
     "name": "stdout",
     "output_type": "stream",
     "text": [
      "('2015-01-28', '2015 Q1', 'Retirement', 'FBAKX', 'Stock Purchase', 2.368, 22.55, 53.4)\n",
      "('2015-01-28', '2015 Q1', 'Retirement', 'FXAIX', 'Stock Purchase', 1.82, 73.35, 133.5)\n",
      "('2015-02-11', '2015 Q1', 'Retirement', 'FBAKX', 'Stock Purchase', 5.817, 22.95, 133.5)\n",
      "('2015-02-11', '2015 Q1', 'Retirement', 'FXAIX', 'Stock Purchase', 1.78, 75, 133.5)\n",
      "('2015-02-25', '2015 Q1', 'Retirement', 'FBAKX', 'Stock Purchase', 5.693, 23.45, 133.5)\n"
     ]
    }
   ],
   "source": [
    "#sql_fetch(con)"
   ]
  },
  {
   "cell_type": "markdown",
   "metadata": {},
   "source": [
    "# Write back to database; adds new daily records from last update"
   ]
  },
  {
   "cell_type": "code",
   "execution_count": null,
   "metadata": {},
   "outputs": [],
   "source": [
    "# df_quotes_close.to_sql(\"df_quotes_close\", con, if_exists=\"replace\")"
   ]
  },
  {
   "cell_type": "markdown",
   "metadata": {},
   "source": [
    "# Now let's load our transactional data"
   ]
  },
  {
   "cell_type": "code",
   "execution_count": 146,
   "metadata": {},
   "outputs": [
    {
     "data": {
      "text/html": [
       "<div>\n",
       "<style scoped>\n",
       "    .dataframe tbody tr th:only-of-type {\n",
       "        vertical-align: middle;\n",
       "    }\n",
       "\n",
       "    .dataframe tbody tr th {\n",
       "        vertical-align: top;\n",
       "    }\n",
       "\n",
       "    .dataframe thead th {\n",
       "        text-align: right;\n",
       "    }\n",
       "</style>\n",
       "<table border=\"1\" class=\"dataframe\">\n",
       "  <thead>\n",
       "    <tr style=\"text-align: right;\">\n",
       "      <th></th>\n",
       "      <th>404: Not Found</th>\n",
       "    </tr>\n",
       "  </thead>\n",
       "  <tbody>\n",
       "  </tbody>\n",
       "</table>\n",
       "</div>"
      ],
      "text/plain": [
       "Empty DataFrame\n",
       "Columns: [404: Not Found]\n",
       "Index: []"
      ]
     },
     "execution_count": 146,
     "metadata": {},
     "output_type": "execute_result"
    }
   ],
   "source": [
    "url=\"https://raw.githubusercontent.com/waltmanjk/Main/master/dummy_cost_unit.csv?token=AF5KFLWZ35HTCX3LJCIHGGS6QTUFA\"\n",
    "\n",
    "s=requests.get(url).content\n",
    "transaction=pd.read_csv(io.StringIO(s.decode('utf-8')))\n",
    "transaction"
   ]
  },
  {
   "cell_type": "code",
   "execution_count": 144,
   "metadata": {},
   "outputs": [
    {
     "ename": "KeyError",
     "evalue": "'date'",
     "output_type": "error",
     "traceback": [
      "\u001b[1;31m---------------------------------------------------------------------------\u001b[0m",
      "\u001b[1;31mKeyError\u001b[0m                                  Traceback (most recent call last)",
      "\u001b[1;32m~\\Anaconda3\\lib\\site-packages\\pandas\\core\\indexes\\base.py\u001b[0m in \u001b[0;36mget_loc\u001b[1;34m(self, key, method, tolerance)\u001b[0m\n\u001b[0;32m   2896\u001b[0m             \u001b[1;32mtry\u001b[0m\u001b[1;33m:\u001b[0m\u001b[1;33m\u001b[0m\u001b[1;33m\u001b[0m\u001b[0m\n\u001b[1;32m-> 2897\u001b[1;33m                 \u001b[1;32mreturn\u001b[0m \u001b[0mself\u001b[0m\u001b[1;33m.\u001b[0m\u001b[0m_engine\u001b[0m\u001b[1;33m.\u001b[0m\u001b[0mget_loc\u001b[0m\u001b[1;33m(\u001b[0m\u001b[0mkey\u001b[0m\u001b[1;33m)\u001b[0m\u001b[1;33m\u001b[0m\u001b[1;33m\u001b[0m\u001b[0m\n\u001b[0m\u001b[0;32m   2898\u001b[0m             \u001b[1;32mexcept\u001b[0m \u001b[0mKeyError\u001b[0m\u001b[1;33m:\u001b[0m\u001b[1;33m\u001b[0m\u001b[1;33m\u001b[0m\u001b[0m\n",
      "\u001b[1;32mpandas/_libs/index.pyx\u001b[0m in \u001b[0;36mpandas._libs.index.IndexEngine.get_loc\u001b[1;34m()\u001b[0m\n",
      "\u001b[1;32mpandas/_libs/index.pyx\u001b[0m in \u001b[0;36mpandas._libs.index.IndexEngine.get_loc\u001b[1;34m()\u001b[0m\n",
      "\u001b[1;32mpandas/_libs/hashtable_class_helper.pxi\u001b[0m in \u001b[0;36mpandas._libs.hashtable.PyObjectHashTable.get_item\u001b[1;34m()\u001b[0m\n",
      "\u001b[1;32mpandas/_libs/hashtable_class_helper.pxi\u001b[0m in \u001b[0;36mpandas._libs.hashtable.PyObjectHashTable.get_item\u001b[1;34m()\u001b[0m\n",
      "\u001b[1;31mKeyError\u001b[0m: 'date'",
      "\nDuring handling of the above exception, another exception occurred:\n",
      "\u001b[1;31mKeyError\u001b[0m                                  Traceback (most recent call last)",
      "\u001b[1;32m<ipython-input-144-d51d85540235>\u001b[0m in \u001b[0;36m<module>\u001b[1;34m\u001b[0m\n\u001b[1;32m----> 1\u001b[1;33m \u001b[0mtransaction\u001b[0m\u001b[1;33m[\u001b[0m\u001b[1;34m'date'\u001b[0m\u001b[1;33m]\u001b[0m \u001b[1;33m=\u001b[0m \u001b[0mtransaction\u001b[0m\u001b[1;33m[\u001b[0m\u001b[1;34m'date'\u001b[0m\u001b[1;33m]\u001b[0m\u001b[1;33m.\u001b[0m\u001b[0mastype\u001b[0m\u001b[1;33m(\u001b[0m\u001b[1;34m'datetime64[ns]'\u001b[0m\u001b[1;33m)\u001b[0m\u001b[1;33m\u001b[0m\u001b[1;33m\u001b[0m\u001b[0m\n\u001b[0m\u001b[0;32m      2\u001b[0m \u001b[0mtransaction\u001b[0m\u001b[1;33m.\u001b[0m\u001b[0mset_index\u001b[0m\u001b[1;33m(\u001b[0m\u001b[1;34m'date'\u001b[0m\u001b[1;33m,\u001b[0m \u001b[0minplace\u001b[0m\u001b[1;33m=\u001b[0m\u001b[1;32mTrue\u001b[0m\u001b[1;33m)\u001b[0m\u001b[1;33m\u001b[0m\u001b[1;33m\u001b[0m\u001b[0m\n",
      "\u001b[1;32m~\\Anaconda3\\lib\\site-packages\\pandas\\core\\frame.py\u001b[0m in \u001b[0;36m__getitem__\u001b[1;34m(self, key)\u001b[0m\n\u001b[0;32m   2993\u001b[0m             \u001b[1;32mif\u001b[0m \u001b[0mself\u001b[0m\u001b[1;33m.\u001b[0m\u001b[0mcolumns\u001b[0m\u001b[1;33m.\u001b[0m\u001b[0mnlevels\u001b[0m \u001b[1;33m>\u001b[0m \u001b[1;36m1\u001b[0m\u001b[1;33m:\u001b[0m\u001b[1;33m\u001b[0m\u001b[1;33m\u001b[0m\u001b[0m\n\u001b[0;32m   2994\u001b[0m                 \u001b[1;32mreturn\u001b[0m \u001b[0mself\u001b[0m\u001b[1;33m.\u001b[0m\u001b[0m_getitem_multilevel\u001b[0m\u001b[1;33m(\u001b[0m\u001b[0mkey\u001b[0m\u001b[1;33m)\u001b[0m\u001b[1;33m\u001b[0m\u001b[1;33m\u001b[0m\u001b[0m\n\u001b[1;32m-> 2995\u001b[1;33m             \u001b[0mindexer\u001b[0m \u001b[1;33m=\u001b[0m \u001b[0mself\u001b[0m\u001b[1;33m.\u001b[0m\u001b[0mcolumns\u001b[0m\u001b[1;33m.\u001b[0m\u001b[0mget_loc\u001b[0m\u001b[1;33m(\u001b[0m\u001b[0mkey\u001b[0m\u001b[1;33m)\u001b[0m\u001b[1;33m\u001b[0m\u001b[1;33m\u001b[0m\u001b[0m\n\u001b[0m\u001b[0;32m   2996\u001b[0m             \u001b[1;32mif\u001b[0m \u001b[0mis_integer\u001b[0m\u001b[1;33m(\u001b[0m\u001b[0mindexer\u001b[0m\u001b[1;33m)\u001b[0m\u001b[1;33m:\u001b[0m\u001b[1;33m\u001b[0m\u001b[1;33m\u001b[0m\u001b[0m\n\u001b[0;32m   2997\u001b[0m                 \u001b[0mindexer\u001b[0m \u001b[1;33m=\u001b[0m \u001b[1;33m[\u001b[0m\u001b[0mindexer\u001b[0m\u001b[1;33m]\u001b[0m\u001b[1;33m\u001b[0m\u001b[1;33m\u001b[0m\u001b[0m\n",
      "\u001b[1;32m~\\Anaconda3\\lib\\site-packages\\pandas\\core\\indexes\\base.py\u001b[0m in \u001b[0;36mget_loc\u001b[1;34m(self, key, method, tolerance)\u001b[0m\n\u001b[0;32m   2897\u001b[0m                 \u001b[1;32mreturn\u001b[0m \u001b[0mself\u001b[0m\u001b[1;33m.\u001b[0m\u001b[0m_engine\u001b[0m\u001b[1;33m.\u001b[0m\u001b[0mget_loc\u001b[0m\u001b[1;33m(\u001b[0m\u001b[0mkey\u001b[0m\u001b[1;33m)\u001b[0m\u001b[1;33m\u001b[0m\u001b[1;33m\u001b[0m\u001b[0m\n\u001b[0;32m   2898\u001b[0m             \u001b[1;32mexcept\u001b[0m \u001b[0mKeyError\u001b[0m\u001b[1;33m:\u001b[0m\u001b[1;33m\u001b[0m\u001b[1;33m\u001b[0m\u001b[0m\n\u001b[1;32m-> 2899\u001b[1;33m                 \u001b[1;32mreturn\u001b[0m \u001b[0mself\u001b[0m\u001b[1;33m.\u001b[0m\u001b[0m_engine\u001b[0m\u001b[1;33m.\u001b[0m\u001b[0mget_loc\u001b[0m\u001b[1;33m(\u001b[0m\u001b[0mself\u001b[0m\u001b[1;33m.\u001b[0m\u001b[0m_maybe_cast_indexer\u001b[0m\u001b[1;33m(\u001b[0m\u001b[0mkey\u001b[0m\u001b[1;33m)\u001b[0m\u001b[1;33m)\u001b[0m\u001b[1;33m\u001b[0m\u001b[1;33m\u001b[0m\u001b[0m\n\u001b[0m\u001b[0;32m   2900\u001b[0m         \u001b[0mindexer\u001b[0m \u001b[1;33m=\u001b[0m \u001b[0mself\u001b[0m\u001b[1;33m.\u001b[0m\u001b[0mget_indexer\u001b[0m\u001b[1;33m(\u001b[0m\u001b[1;33m[\u001b[0m\u001b[0mkey\u001b[0m\u001b[1;33m]\u001b[0m\u001b[1;33m,\u001b[0m \u001b[0mmethod\u001b[0m\u001b[1;33m=\u001b[0m\u001b[0mmethod\u001b[0m\u001b[1;33m,\u001b[0m \u001b[0mtolerance\u001b[0m\u001b[1;33m=\u001b[0m\u001b[0mtolerance\u001b[0m\u001b[1;33m)\u001b[0m\u001b[1;33m\u001b[0m\u001b[1;33m\u001b[0m\u001b[0m\n\u001b[0;32m   2901\u001b[0m         \u001b[1;32mif\u001b[0m \u001b[0mindexer\u001b[0m\u001b[1;33m.\u001b[0m\u001b[0mndim\u001b[0m \u001b[1;33m>\u001b[0m \u001b[1;36m1\u001b[0m \u001b[1;32mor\u001b[0m \u001b[0mindexer\u001b[0m\u001b[1;33m.\u001b[0m\u001b[0msize\u001b[0m \u001b[1;33m>\u001b[0m \u001b[1;36m1\u001b[0m\u001b[1;33m:\u001b[0m\u001b[1;33m\u001b[0m\u001b[1;33m\u001b[0m\u001b[0m\n",
      "\u001b[1;32mpandas/_libs/index.pyx\u001b[0m in \u001b[0;36mpandas._libs.index.IndexEngine.get_loc\u001b[1;34m()\u001b[0m\n",
      "\u001b[1;32mpandas/_libs/index.pyx\u001b[0m in \u001b[0;36mpandas._libs.index.IndexEngine.get_loc\u001b[1;34m()\u001b[0m\n",
      "\u001b[1;32mpandas/_libs/hashtable_class_helper.pxi\u001b[0m in \u001b[0;36mpandas._libs.hashtable.PyObjectHashTable.get_item\u001b[1;34m()\u001b[0m\n",
      "\u001b[1;32mpandas/_libs/hashtable_class_helper.pxi\u001b[0m in \u001b[0;36mpandas._libs.hashtable.PyObjectHashTable.get_item\u001b[1;34m()\u001b[0m\n",
      "\u001b[1;31mKeyError\u001b[0m: 'date'"
     ]
    }
   ],
   "source": [
    "transaction['date'] = transaction['date'].astype('datetime64[ns]')\n",
    "transaction.set_index('date', inplace=True)"
   ]
  },
  {
   "cell_type": "code",
   "execution_count": 123,
   "metadata": {},
   "outputs": [
    {
     "name": "stdout",
     "output_type": "stream",
     "text": [
      "<class 'pandas.core.frame.DataFrame'>\n",
      "Index: 0 entries\n",
      "Data columns (total 1 columns):\n",
      "404: Not Found    0 non-null object\n",
      "dtypes: object(1)\n",
      "memory usage: 0.0+ bytes\n"
     ]
    }
   ],
   "source": [
    "transaction.info()"
   ]
  },
  {
   "cell_type": "code",
   "execution_count": 47,
   "metadata": {},
   "outputs": [
    {
     "data": {
      "text/plain": [
       "Index(['quarterly_date', 'account', 'symbol', 'type', 'num_shares',\n",
       "       'share_price', 'principal'],\n",
       "      dtype='object')"
      ]
     },
     "execution_count": 47,
     "metadata": {},
     "output_type": "execute_result"
    }
   ],
   "source": [
    "transaction.columns"
   ]
  },
  {
   "cell_type": "code",
   "execution_count": 48,
   "metadata": {},
   "outputs": [
    {
     "data": {
      "text/html": [
       "<div>\n",
       "<style scoped>\n",
       "    .dataframe tbody tr th:only-of-type {\n",
       "        vertical-align: middle;\n",
       "    }\n",
       "\n",
       "    .dataframe tbody tr th {\n",
       "        vertical-align: top;\n",
       "    }\n",
       "\n",
       "    .dataframe thead th {\n",
       "        text-align: right;\n",
       "    }\n",
       "</style>\n",
       "<table border=\"1\" class=\"dataframe\">\n",
       "  <thead>\n",
       "    <tr style=\"text-align: right;\">\n",
       "      <th></th>\n",
       "      <th>quarterly_date</th>\n",
       "      <th>account</th>\n",
       "      <th>symbol</th>\n",
       "      <th>type</th>\n",
       "      <th>num_shares</th>\n",
       "      <th>share_price</th>\n",
       "      <th>principal</th>\n",
       "    </tr>\n",
       "    <tr>\n",
       "      <th>date</th>\n",
       "      <th></th>\n",
       "      <th></th>\n",
       "      <th></th>\n",
       "      <th></th>\n",
       "      <th></th>\n",
       "      <th></th>\n",
       "      <th></th>\n",
       "    </tr>\n",
       "  </thead>\n",
       "  <tbody>\n",
       "    <tr>\n",
       "      <th>2015-01-28</th>\n",
       "      <td>2015 Q1</td>\n",
       "      <td>Retirement</td>\n",
       "      <td>FBAKX</td>\n",
       "      <td>Stock Purchase</td>\n",
       "      <td>2.368</td>\n",
       "      <td>22.55</td>\n",
       "      <td>53.4</td>\n",
       "    </tr>\n",
       "    <tr>\n",
       "      <th>2015-01-28</th>\n",
       "      <td>2015 Q1</td>\n",
       "      <td>Retirement</td>\n",
       "      <td>FXAIX</td>\n",
       "      <td>Stock Purchase</td>\n",
       "      <td>1.820</td>\n",
       "      <td>73.35</td>\n",
       "      <td>133.5</td>\n",
       "    </tr>\n",
       "    <tr>\n",
       "      <th>2015-02-11</th>\n",
       "      <td>2015 Q1</td>\n",
       "      <td>Retirement</td>\n",
       "      <td>FBAKX</td>\n",
       "      <td>Stock Purchase</td>\n",
       "      <td>5.817</td>\n",
       "      <td>22.95</td>\n",
       "      <td>133.5</td>\n",
       "    </tr>\n",
       "    <tr>\n",
       "      <th>2015-02-11</th>\n",
       "      <td>2015 Q1</td>\n",
       "      <td>Retirement</td>\n",
       "      <td>FXAIX</td>\n",
       "      <td>Stock Purchase</td>\n",
       "      <td>1.780</td>\n",
       "      <td>75.00</td>\n",
       "      <td>133.5</td>\n",
       "    </tr>\n",
       "    <tr>\n",
       "      <th>2015-02-25</th>\n",
       "      <td>2015 Q1</td>\n",
       "      <td>Retirement</td>\n",
       "      <td>FBAKX</td>\n",
       "      <td>Stock Purchase</td>\n",
       "      <td>5.693</td>\n",
       "      <td>23.45</td>\n",
       "      <td>133.5</td>\n",
       "    </tr>\n",
       "  </tbody>\n",
       "</table>\n",
       "</div>"
      ],
      "text/plain": [
       "           quarterly_date     account symbol            type  num_shares  \\\n",
       "date                                                                       \n",
       "2015-01-28        2015 Q1  Retirement  FBAKX  Stock Purchase       2.368   \n",
       "2015-01-28        2015 Q1  Retirement  FXAIX  Stock Purchase       1.820   \n",
       "2015-02-11        2015 Q1  Retirement  FBAKX  Stock Purchase       5.817   \n",
       "2015-02-11        2015 Q1  Retirement  FXAIX  Stock Purchase       1.780   \n",
       "2015-02-25        2015 Q1  Retirement  FBAKX  Stock Purchase       5.693   \n",
       "\n",
       "            share_price  principal  \n",
       "date                                \n",
       "2015-01-28        22.55       53.4  \n",
       "2015-01-28        73.35      133.5  \n",
       "2015-02-11        22.95      133.5  \n",
       "2015-02-11        75.00      133.5  \n",
       "2015-02-25        23.45      133.5  "
      ]
     },
     "execution_count": 48,
     "metadata": {},
     "output_type": "execute_result"
    }
   ],
   "source": [
    "transaction.head(5)"
   ]
  },
  {
   "cell_type": "markdown",
   "metadata": {},
   "source": [
    "# This step is used to remove spaces from stock symbols"
   ]
  },
  {
   "cell_type": "code",
   "execution_count": 49,
   "metadata": {
    "scrolled": true
   },
   "outputs": [
    {
     "data": {
      "text/plain": [
       "date\n",
       "2015-01-28    FBAKX\n",
       "2015-01-28    FXAIX\n",
       "2015-02-11    FBAKX\n",
       "2015-02-11    FXAIX\n",
       "2015-02-25    FBAKX\n",
       "2015-02-25    FXAIX\n",
       "2015-03-11    FBAKX\n",
       "2015-03-11    FXAIX\n",
       "2015-03-25    FBAKX\n",
       "2015-03-25    FXAIX\n",
       "2015-04-01    FBAKX\n",
       "2015-04-01    FXAIX\n",
       "2015-04-08    FBAKX\n",
       "2015-04-08    FXAIX\n",
       "2015-04-10    FXAIX\n",
       "2015-04-22    FBAKX\n",
       "2015-04-22    FXAIX\n",
       "2015-04-28    FBAKX\n",
       "2015-04-28    FXAIX\n",
       "2015-05-06    FBAKX\n",
       "2015-05-06    FXAIX\n",
       "2015-05-20    FBAKX\n",
       "2015-05-20    FXAIX\n",
       "2015-06-03    FBAKX\n",
       "2015-06-03    FXAIX\n",
       "2015-06-17    FBAKX\n",
       "2015-06-17    FXAIX\n",
       "2015-07-01    FBAKX\n",
       "2015-07-01    FBAKX\n",
       "2015-07-01    FXAIX\n",
       "2015-07-01    FXAIX\n",
       "2015-07-15    FBAKX\n",
       "2015-07-15    FXAIX\n",
       "2015-07-29    FBAKX\n",
       "2015-07-29    FXAIX\n",
       "2015-07-31    FBAKX\n",
       "2015-07-31    FXAIX\n",
       "2015-08-12    FBAKX\n",
       "2015-08-12    FXAIX\n",
       "2015-08-26    FBAKX\n",
       "2015-08-26    FXAIX\n",
       "2015-09-09    FBAKX\n",
       "2015-09-09    FXAIX\n",
       "2015-09-23    FBAKX\n",
       "2015-09-23    FXAIX\n",
       "2015-10-02    FXAIX\n",
       "2015-10-07    FBAKX\n",
       "2015-10-07    FBAKX\n",
       "2015-10-09    FXAIX\n",
       "2015-10-21    FBAKX\n",
       "2015-10-21    FXAIX\n",
       "2015-11-02    FBAKX\n",
       "2015-11-02    FXAIX\n",
       "2015-11-04    FBAKX\n",
       "2015-11-04    FXAIX\n",
       "2015-11-17     Cash\n",
       "2015-11-18    FBAKX\n",
       "2015-11-18    FXAIX\n",
       "2015-11-23     Cash\n",
       "Name: symbol, dtype: object"
      ]
     },
     "execution_count": 49,
     "metadata": {},
     "output_type": "execute_result"
    }
   ],
   "source": [
    "transaction['symbol'].str.strip()"
   ]
  },
  {
   "cell_type": "code",
   "execution_count": 50,
   "metadata": {},
   "outputs": [],
   "source": [
    "transaction.to_csv(\"dummy_cost_unit.csv\", index=True)"
   ]
  },
  {
   "cell_type": "markdown",
   "metadata": {},
   "source": [
    "# Now, let's narrow down the table to query only the stock purchases, dividend, and capital gain reinvestment to calculate the average share price per transaction."
   ]
  },
  {
   "cell_type": "code",
   "execution_count": 61,
   "metadata": {
    "scrolled": true
   },
   "outputs": [],
   "source": [
    "chart = transaction.loc[(transaction['symbol'] == 'FBAKX') & (transaction['type'] == 'Stock Purchase')]"
   ]
  },
  {
   "cell_type": "markdown",
   "metadata": {},
   "source": [
    "# This step will pull all values used to calculate the Cost Basis for each transaction"
   ]
  },
  {
   "cell_type": "code",
   "execution_count": 52,
   "metadata": {},
   "outputs": [],
   "source": [
    "search_values = ['Stock Purchase','Dividend','Fees']"
   ]
  },
  {
   "cell_type": "markdown",
   "metadata": {},
   "source": [
    "Above are the three conditions for transaction type: Stock Purchase, Dividend, and Fees. These three impact the final purchase amount of each share summed together."
   ]
  },
  {
   "cell_type": "code",
   "execution_count": 53,
   "metadata": {},
   "outputs": [],
   "source": [
    "cost_basis = transaction[transaction.type.str.contains('|'.join(search_values))]"
   ]
  },
  {
   "cell_type": "code",
   "execution_count": 54,
   "metadata": {},
   "outputs": [
    {
     "data": {
      "text/html": [
       "<div>\n",
       "<style scoped>\n",
       "    .dataframe tbody tr th:only-of-type {\n",
       "        vertical-align: middle;\n",
       "    }\n",
       "\n",
       "    .dataframe tbody tr th {\n",
       "        vertical-align: top;\n",
       "    }\n",
       "\n",
       "    .dataframe thead th {\n",
       "        text-align: right;\n",
       "    }\n",
       "</style>\n",
       "<table border=\"1\" class=\"dataframe\">\n",
       "  <thead>\n",
       "    <tr style=\"text-align: right;\">\n",
       "      <th></th>\n",
       "      <th>quarterly_date</th>\n",
       "      <th>account</th>\n",
       "      <th>symbol</th>\n",
       "      <th>type</th>\n",
       "      <th>num_shares</th>\n",
       "      <th>share_price</th>\n",
       "      <th>principal</th>\n",
       "    </tr>\n",
       "    <tr>\n",
       "      <th>date</th>\n",
       "      <th></th>\n",
       "      <th></th>\n",
       "      <th></th>\n",
       "      <th></th>\n",
       "      <th></th>\n",
       "      <th></th>\n",
       "      <th></th>\n",
       "    </tr>\n",
       "  </thead>\n",
       "  <tbody>\n",
       "    <tr>\n",
       "      <th>2015-01-28</th>\n",
       "      <td>2015 Q1</td>\n",
       "      <td>Retirement</td>\n",
       "      <td>FBAKX</td>\n",
       "      <td>Stock Purchase</td>\n",
       "      <td>2.368</td>\n",
       "      <td>22.55</td>\n",
       "      <td>53.40</td>\n",
       "    </tr>\n",
       "    <tr>\n",
       "      <th>2015-01-28</th>\n",
       "      <td>2015 Q1</td>\n",
       "      <td>Retirement</td>\n",
       "      <td>FXAIX</td>\n",
       "      <td>Stock Purchase</td>\n",
       "      <td>1.820</td>\n",
       "      <td>73.35</td>\n",
       "      <td>133.50</td>\n",
       "    </tr>\n",
       "    <tr>\n",
       "      <th>2015-02-11</th>\n",
       "      <td>2015 Q1</td>\n",
       "      <td>Retirement</td>\n",
       "      <td>FBAKX</td>\n",
       "      <td>Stock Purchase</td>\n",
       "      <td>5.817</td>\n",
       "      <td>22.95</td>\n",
       "      <td>133.50</td>\n",
       "    </tr>\n",
       "    <tr>\n",
       "      <th>2015-02-11</th>\n",
       "      <td>2015 Q1</td>\n",
       "      <td>Retirement</td>\n",
       "      <td>FXAIX</td>\n",
       "      <td>Stock Purchase</td>\n",
       "      <td>1.780</td>\n",
       "      <td>75.00</td>\n",
       "      <td>133.50</td>\n",
       "    </tr>\n",
       "    <tr>\n",
       "      <th>2015-02-25</th>\n",
       "      <td>2015 Q1</td>\n",
       "      <td>Retirement</td>\n",
       "      <td>FBAKX</td>\n",
       "      <td>Stock Purchase</td>\n",
       "      <td>5.693</td>\n",
       "      <td>23.45</td>\n",
       "      <td>133.50</td>\n",
       "    </tr>\n",
       "    <tr>\n",
       "      <th>2015-02-25</th>\n",
       "      <td>2015 Q1</td>\n",
       "      <td>Retirement</td>\n",
       "      <td>FXAIX</td>\n",
       "      <td>Stock Purchase</td>\n",
       "      <td>1.842</td>\n",
       "      <td>72.48</td>\n",
       "      <td>133.50</td>\n",
       "    </tr>\n",
       "    <tr>\n",
       "      <th>2015-03-11</th>\n",
       "      <td>2015 Q1</td>\n",
       "      <td>Retirement</td>\n",
       "      <td>FBAKX</td>\n",
       "      <td>Stock Purchase</td>\n",
       "      <td>5.815</td>\n",
       "      <td>22.96</td>\n",
       "      <td>133.50</td>\n",
       "    </tr>\n",
       "    <tr>\n",
       "      <th>2015-03-11</th>\n",
       "      <td>2015 Q1</td>\n",
       "      <td>Retirement</td>\n",
       "      <td>FXAIX</td>\n",
       "      <td>Stock Purchase</td>\n",
       "      <td>1.822</td>\n",
       "      <td>73.27</td>\n",
       "      <td>133.50</td>\n",
       "    </tr>\n",
       "    <tr>\n",
       "      <th>2015-03-25</th>\n",
       "      <td>2015 Q1</td>\n",
       "      <td>Retirement</td>\n",
       "      <td>FBAKX</td>\n",
       "      <td>Stock Purchase</td>\n",
       "      <td>5.755</td>\n",
       "      <td>23.20</td>\n",
       "      <td>133.50</td>\n",
       "    </tr>\n",
       "    <tr>\n",
       "      <th>2015-03-25</th>\n",
       "      <td>2015 Q1</td>\n",
       "      <td>Retirement</td>\n",
       "      <td>FXAIX</td>\n",
       "      <td>Dividend</td>\n",
       "      <td>0.035</td>\n",
       "      <td>73.43</td>\n",
       "      <td>2.57</td>\n",
       "    </tr>\n",
       "  </tbody>\n",
       "</table>\n",
       "</div>"
      ],
      "text/plain": [
       "           quarterly_date     account symbol            type  num_shares  \\\n",
       "date                                                                       \n",
       "2015-01-28        2015 Q1  Retirement  FBAKX  Stock Purchase       2.368   \n",
       "2015-01-28        2015 Q1  Retirement  FXAIX  Stock Purchase       1.820   \n",
       "2015-02-11        2015 Q1  Retirement  FBAKX  Stock Purchase       5.817   \n",
       "2015-02-11        2015 Q1  Retirement  FXAIX  Stock Purchase       1.780   \n",
       "2015-02-25        2015 Q1  Retirement  FBAKX  Stock Purchase       5.693   \n",
       "2015-02-25        2015 Q1  Retirement  FXAIX  Stock Purchase       1.842   \n",
       "2015-03-11        2015 Q1  Retirement  FBAKX  Stock Purchase       5.815   \n",
       "2015-03-11        2015 Q1  Retirement  FXAIX  Stock Purchase       1.822   \n",
       "2015-03-25        2015 Q1  Retirement  FBAKX  Stock Purchase       5.755   \n",
       "2015-03-25        2015 Q1  Retirement  FXAIX        Dividend       0.035   \n",
       "\n",
       "            share_price  principal  \n",
       "date                                \n",
       "2015-01-28        22.55      53.40  \n",
       "2015-01-28        73.35     133.50  \n",
       "2015-02-11        22.95     133.50  \n",
       "2015-02-11        75.00     133.50  \n",
       "2015-02-25        23.45     133.50  \n",
       "2015-02-25        72.48     133.50  \n",
       "2015-03-11        22.96     133.50  \n",
       "2015-03-11        73.27     133.50  \n",
       "2015-03-25        23.20     133.50  \n",
       "2015-03-25        73.43       2.57  "
      ]
     },
     "execution_count": 54,
     "metadata": {},
     "output_type": "execute_result"
    }
   ],
   "source": [
    "cost_basis.head(10)"
   ]
  },
  {
   "cell_type": "markdown",
   "metadata": {},
   "source": [
    "This query allows us to pull just the data for the Fidelity Balanced K Fund."
   ]
  },
  {
   "cell_type": "code",
   "execution_count": 91,
   "metadata": {},
   "outputs": [],
   "source": [
    "balance_k = cost_basis[cost_basis.symbol.str.contains('FBAKX')]"
   ]
  },
  {
   "cell_type": "code",
   "execution_count": 92,
   "metadata": {},
   "outputs": [],
   "source": [
    "chart1 = balance_k.dropna()"
   ]
  },
  {
   "cell_type": "code",
   "execution_count": 93,
   "metadata": {},
   "outputs": [],
   "source": [
    "new = chart1[['share_price']]"
   ]
  },
  {
   "cell_type": "code",
   "execution_count": 94,
   "metadata": {},
   "outputs": [],
   "source": [
    "new.sort_index(inplace=True)"
   ]
  },
  {
   "cell_type": "code",
   "execution_count": 109,
   "metadata": {
    "scrolled": true
   },
   "outputs": [],
   "source": [
    "daily = df_quotes_close['FBAKX']"
   ]
  },
  {
   "cell_type": "code",
   "execution_count": 119,
   "metadata": {},
   "outputs": [
    {
     "data": {
      "image/png": "[encoded data removed]",
      "text/plain": [
       "<Figure size 432x288 with 1 Axes>"
      ]
     },
     "metadata": {
      "needs_background": "light"
     },
     "output_type": "display_data"
    }
   ],
   "source": [
    "plt.plot(new)\n",
    "\n",
    "plt.xlabel('date')\n",
    "plt.ylabel('share_price')\n",
    "plt.title('Daily Fund Price at Close: Fidelity Balanced K')\n",
    "plt.grid(True)\n",
    "plt.show()"
   ]
  },
  {
   "cell_type": "markdown",
   "metadata": {},
   "source": [
    "Create Cost Basis table.\n",
    "\n",
    "Table 1: Daily quote for that stock or mutual fund Table 2: Average price per share of biweekly 401k contributions\n"
   ]
  },
  {
   "cell_type": "code",
   "execution_count": 111,
   "metadata": {},
   "outputs": [],
   "source": [
    "merge=pd.merge(daily, new, how='outer', left_index=True, right_index=True)"
   ]
  },
  {
   "cell_type": "markdown",
   "metadata": {},
   "source": [
    "Check to see that your join works correctly"
   ]
  },
  {
   "cell_type": "code",
   "execution_count": 112,
   "metadata": {},
   "outputs": [],
   "source": [
    "merge.to_csv('sample.csv')"
   ]
  },
  {
   "cell_type": "code",
   "execution_count": 147,
   "metadata": {},
   "outputs": [
    {
     "data": {
      "image/png": "[encoded data removed]",
      "text/plain": [
       "<Figure size 1440x720 with 1 Axes>"
      ]
     },
     "metadata": {
      "needs_background": "light"
     },
     "output_type": "display_data"
    }
   ],
   "source": [
    "plt.figure(figsize=(20,10))\n",
    "plt.plot(daily, color='olive',label=\"Close\")\n",
    "plt.plot(new, marker='o', markerfacecolor='black', markersize=4, color='red', linewidth=5,label=\"Cost Basis\")\n",
    "\n",
    "plt.xlabel('Year')\n",
    "plt.ylabel('Price per Share')\n",
    "plt.title('Cost Basis: Fidelity Balanced K')\n",
    "plt.grid(True)\n",
    "plt.legend()\n",
    "plt.show()"
   ]
  },
  {
   "cell_type": "markdown",
   "metadata": {},
   "source": [
    "# Bank transaction cleanup"
   ]
  },
  {
   "cell_type": "code",
   "execution_count": 148,
   "metadata": {},
   "outputs": [],
   "source": [
    "url=\"https://raw.githubusercontent.com/waltmanjk/Main/master/dummy_bank_transact_clean.csv?token=AF5KFLRRIN3VYZ2FDK23FFS6QTUOA\"\n",
    "\n",
    "s=requests.get(url).content\n",
    "bank_transact=pd.read_csv(io.StringIO(s.decode('utf-8')))"
   ]
  },
  {
   "cell_type": "code",
   "execution_count": 157,
   "metadata": {},
   "outputs": [],
   "source": [
    "url=\"https://raw.githubusercontent.com/waltmanjk/Main/master/dummy_bank_transact_clean.csv?token=AF5KFLRRIN3VYZ2FDK23FFS6QTUOA\"\n",
    "s=requests.get(url).content\n",
    "c=pd.read_csv(io.StringIO(s.decode('utf-8')))"
   ]
  },
  {
   "cell_type": "code",
   "execution_count": 159,
   "metadata": {},
   "outputs": [],
   "source": [
    "from io import StringIO\n",
    "\n",
    "import pandas as pd\n",
    "import requests\n",
    "url='https://raw.githubusercontent.com/waltmanjk/Main/master/dummy_bank_transact_clean.csv'\n",
    "s=requests.get(url).text\n",
    "\n",
    "c=pd.read_csv(StringIO(s))"
   ]
  },
  {
   "cell_type": "code",
   "execution_count": 160,
   "metadata": {},
   "outputs": [
    {
     "data": {
      "text/html": [
       "<div>\n",
       "<style scoped>\n",
       "    .dataframe tbody tr th:only-of-type {\n",
       "        vertical-align: middle;\n",
       "    }\n",
       "\n",
       "    .dataframe tbody tr th {\n",
       "        vertical-align: top;\n",
       "    }\n",
       "\n",
       "    .dataframe thead th {\n",
       "        text-align: right;\n",
       "    }\n",
       "</style>\n",
       "<table border=\"1\" class=\"dataframe\">\n",
       "  <thead>\n",
       "    <tr style=\"text-align: right;\">\n",
       "      <th></th>\n",
       "      <th>404: Not Found</th>\n",
       "    </tr>\n",
       "  </thead>\n",
       "  <tbody>\n",
       "  </tbody>\n",
       "</table>\n",
       "</div>"
      ],
      "text/plain": [
       "Empty DataFrame\n",
       "Columns: [404: Not Found]\n",
       "Index: []"
      ]
     },
     "execution_count": 160,
     "metadata": {},
     "output_type": "execute_result"
    }
   ],
   "source": [
    "c"
   ]
  },
  {
   "cell_type": "code",
   "execution_count": 150,
   "metadata": {},
   "outputs": [
    {
     "data": {
      "text/html": [
       "<div>\n",
       "<style scoped>\n",
       "    .dataframe tbody tr th:only-of-type {\n",
       "        vertical-align: middle;\n",
       "    }\n",
       "\n",
       "    .dataframe tbody tr th {\n",
       "        vertical-align: top;\n",
       "    }\n",
       "\n",
       "    .dataframe thead th {\n",
       "        text-align: right;\n",
       "    }\n",
       "</style>\n",
       "<table border=\"1\" class=\"dataframe\">\n",
       "  <thead>\n",
       "    <tr style=\"text-align: right;\">\n",
       "      <th></th>\n",
       "      <th>404: Not Found</th>\n",
       "    </tr>\n",
       "  </thead>\n",
       "  <tbody>\n",
       "  </tbody>\n",
       "</table>\n",
       "</div>"
      ],
      "text/plain": [
       "Empty DataFrame\n",
       "Columns: [404: Not Found]\n",
       "Index: []"
      ]
     },
     "execution_count": 150,
     "metadata": {},
     "output_type": "execute_result"
    }
   ],
   "source": [
    "bank_transact"
   ]
  },
  {
   "cell_type": "code",
   "execution_count": null,
   "metadata": {},
   "outputs": [],
   "source": [
    "bank_transact['Date'] = pd.to_datetime(bank_transact['Date'])"
   ]
  },
  {
   "cell_type": "code",
   "execution_count": 140,
   "metadata": {},
   "outputs": [
    {
     "name": "stdout",
     "output_type": "stream",
     "text": [
      "<class 'pandas.core.frame.DataFrame'>\n",
      "RangeIndex: 12 entries, 0 to 11\n",
      "Data columns (total 3 columns):\n",
      "Date           12 non-null datetime64[ns]\n",
      "Transaction    12 non-null object\n",
      "Amount         12 non-null float64\n",
      "dtypes: datetime64[ns](1), float64(1), object(1)\n",
      "memory usage: 416.0+ bytes\n"
     ]
    }
   ],
   "source": [
    "bank_transact.info()"
   ]
  },
  {
   "cell_type": "code",
   "execution_count": 141,
   "metadata": {},
   "outputs": [
    {
     "data": {
      "text/html": [
       "<div>\n",
       "<style scoped>\n",
       "    .dataframe tbody tr th:only-of-type {\n",
       "        vertical-align: middle;\n",
       "    }\n",
       "\n",
       "    .dataframe tbody tr th {\n",
       "        vertical-align: top;\n",
       "    }\n",
       "\n",
       "    .dataframe thead th {\n",
       "        text-align: right;\n",
       "    }\n",
       "</style>\n",
       "<table border=\"1\" class=\"dataframe\">\n",
       "  <thead>\n",
       "    <tr style=\"text-align: right;\">\n",
       "      <th></th>\n",
       "      <th>Transaction</th>\n",
       "      <th>Amount</th>\n",
       "    </tr>\n",
       "    <tr>\n",
       "      <th>Date</th>\n",
       "      <th></th>\n",
       "      <th></th>\n",
       "    </tr>\n",
       "  </thead>\n",
       "  <tbody>\n",
       "    <tr>\n",
       "      <th>2020-03-02</th>\n",
       "      <td>Gym Membership</td>\n",
       "      <td>-24.99</td>\n",
       "    </tr>\n",
       "    <tr>\n",
       "      <th>2020-03-02</th>\n",
       "      <td>Amazon Prime</td>\n",
       "      <td>-8.47</td>\n",
       "    </tr>\n",
       "    <tr>\n",
       "      <th>2020-03-02</th>\n",
       "      <td>Electric Bill</td>\n",
       "      <td>-54.16</td>\n",
       "    </tr>\n",
       "    <tr>\n",
       "      <th>2020-03-02</th>\n",
       "      <td>Cash Transfer</td>\n",
       "      <td>-1000.00</td>\n",
       "    </tr>\n",
       "    <tr>\n",
       "      <th>2020-03-02</th>\n",
       "      <td>Entertainment</td>\n",
       "      <td>-12.99</td>\n",
       "    </tr>\n",
       "    <tr>\n",
       "      <th>2020-03-03</th>\n",
       "      <td>Groceries</td>\n",
       "      <td>-59.40</td>\n",
       "    </tr>\n",
       "    <tr>\n",
       "      <th>2020-03-04</th>\n",
       "      <td>Pay Check</td>\n",
       "      <td>9367.64</td>\n",
       "    </tr>\n",
       "    <tr>\n",
       "      <th>2020-03-04</th>\n",
       "      <td>Dining</td>\n",
       "      <td>-15.00</td>\n",
       "    </tr>\n",
       "    <tr>\n",
       "      <th>2020-03-04</th>\n",
       "      <td>Parking</td>\n",
       "      <td>-2.00</td>\n",
       "    </tr>\n",
       "    <tr>\n",
       "      <th>2020-03-04</th>\n",
       "      <td>Dining</td>\n",
       "      <td>-1.87</td>\n",
       "    </tr>\n",
       "    <tr>\n",
       "      <th>2020-03-04</th>\n",
       "      <td>Phone Bill</td>\n",
       "      <td>-60.03</td>\n",
       "    </tr>\n",
       "    <tr>\n",
       "      <th>2020-03-04</th>\n",
       "      <td>Rent</td>\n",
       "      <td>-875.00</td>\n",
       "    </tr>\n",
       "  </tbody>\n",
       "</table>\n",
       "</div>"
      ],
      "text/plain": [
       "               Transaction   Amount\n",
       "Date                               \n",
       "2020-03-02  Gym Membership   -24.99\n",
       "2020-03-02    Amazon Prime    -8.47\n",
       "2020-03-02   Electric Bill   -54.16\n",
       "2020-03-02   Cash Transfer -1000.00\n",
       "2020-03-02   Entertainment   -12.99\n",
       "2020-03-03       Groceries   -59.40\n",
       "2020-03-04       Pay Check  9367.64\n",
       "2020-03-04          Dining   -15.00\n",
       "2020-03-04         Parking    -2.00\n",
       "2020-03-04          Dining    -1.87\n",
       "2020-03-04      Phone Bill   -60.03\n",
       "2020-03-04            Rent  -875.00"
      ]
     },
     "execution_count": 141,
     "metadata": {},
     "output_type": "execute_result"
    }
   ],
   "source": [
    "bank_transact.set_index('Date')"
   ]
  },
  {
   "cell_type": "code",
   "execution_count": null,
   "metadata": {},
   "outputs": [],
   "source": [
    "bank_transact.to_csv(\"bank_transact_clean.csv\", index=False)"
   ]
  },
  {
   "cell_type": "code",
   "execution_count": null,
   "metadata": {},
   "outputs": [],
   "source": []
  }
 ],
 "metadata": {
  "kernelspec": {
   "display_name": "Python 3",
   "language": "python",
   "name": "python3"
  },
  "language_info": {
   "codemirror_mode": {
    "name": "ipython",
    "version": 3
   },
   "file_extension": ".py",
   "mimetype": "text/x-python",
   "name": "python",
   "nbconvert_exporter": "python",
   "pygments_lexer": "ipython3",
   "version": "3.7.4"
  }
 },
 "nbformat": 4,
 "nbformat_minor": 4
}
